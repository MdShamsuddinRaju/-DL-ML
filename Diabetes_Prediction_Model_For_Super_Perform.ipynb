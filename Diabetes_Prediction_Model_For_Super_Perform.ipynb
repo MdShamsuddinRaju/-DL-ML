{
  "cells": [
    {
      "cell_type": "markdown",
      "metadata": {
        "id": "3785d547"
      },
      "source": [
        "# Diabetes Prediction Model"
      ],
      "id": "3785d547"
    },
    {
      "cell_type": "raw",
      "metadata": {
        "id": "aa3dd08b"
      },
      "source": [
        "I have implemented the \"diabetes prediction model\" using python Libraries. call some libraries."
      ],
      "id": "aa3dd08b"
    },
    {
      "cell_type": "code",
      "execution_count": null,
      "metadata": {
        "id": "e1af26fe"
      },
      "outputs": [],
      "source": [
        "import numpy as np\n",
        "import pandas as pd\n",
        "import matplotlib.pyplot as plt\n",
        "import seaborn as sns\n",
        "from sklearn.linear_model import LinearRegression, LogisticRegression"
      ],
      "id": "e1af26fe"
    },
    {
      "cell_type": "code",
      "execution_count": null,
      "metadata": {
        "id": "0eecN-by_yUo"
      },
      "outputs": [],
      "source": [
        "from google.colab import files\n",
        "df = files.upload()"
      ],
      "id": "0eecN-by_yUo"
    },
    {
      "cell_type": "code",
      "execution_count": null,
      "metadata": {
        "id": "17e10ce9"
      },
      "outputs": [],
      "source": [
        "# Import some diabates DataSet\n",
        "# Data from kaggle = https://www.kaggle.com/datasets/saurabh00007/diabetescsv?resource=download"
      ],
      "id": "17e10ce9"
    },
    {
      "cell_type": "code",
      "execution_count": null,
      "metadata": {
        "id": "46295efc"
      },
      "outputs": [],
      "source": [
        "df = pd.read_csv('diabetes.csv')"
      ],
      "id": "46295efc"
    },
    {
      "cell_type": "markdown",
      "metadata": {
        "id": "ece137ea"
      },
      "source": [
        "# Show Data"
      ],
      "id": "ece137ea"
    },
    {
      "cell_type": "code",
      "execution_count": null,
      "metadata": {
        "id": "e4a2c092"
      },
      "outputs": [],
      "source": [
        "df.head()"
      ],
      "id": "e4a2c092"
    },
    {
      "cell_type": "markdown",
      "metadata": {
        "id": "a26c2488"
      },
      "source": [
        "# Count information (Dtype, attribute)"
      ],
      "id": "a26c2488"
    },
    {
      "cell_type": "code",
      "execution_count": null,
      "metadata": {
        "id": "7760c12f"
      },
      "outputs": [],
      "source": [
        "df.info()"
      ],
      "id": "7760c12f"
    },
    {
      "cell_type": "markdown",
      "metadata": {
        "id": "XF6S4r04_qXB"
      },
      "source": [
        "The describe() method is used for calculating some statistical data like percentile, mean and std of the numerical\n",
        "values of the Series or DataFrame. It analyzes both numeric and object series and also the DataFrame column sets of\n",
        "mixed data types."
      ],
      "id": "XF6S4r04_qXB"
    },
    {
      "cell_type": "code",
      "execution_count": null,
      "metadata": {
        "id": "78cc6fa7"
      },
      "outputs": [],
      "source": [
        "df.describe()"
      ],
      "id": "78cc6fa7"
    },
    {
      "cell_type": "code",
      "execution_count": null,
      "metadata": {
        "id": "aae16cfa"
      },
      "outputs": [],
      "source": [
        "'''The function dataframe. isnull(). sum(). sum() returns the number of missing values in the data set.'''"
      ],
      "id": "aae16cfa"
    },
    {
      "cell_type": "code",
      "execution_count": null,
      "metadata": {
        "id": "ecca14c2",
        "scrolled": true
      },
      "outputs": [],
      "source": [
        "df.isnull().sum()"
      ],
      "id": "ecca14c2"
    },
    {
      "cell_type": "code",
      "execution_count": null,
      "metadata": {
        "id": "dff25edc"
      },
      "outputs": [],
      "source": [
        "'''\n",
        "df.corr(): Pandas df.corr() is used to find the pairwise correlation of all columns in the dataframe. Any na values are automatically excluded. For any non-numeric data type columns in the dataframe it is ignored. Use corr() function to find the correlation among the columns in the dataframe using ‘Outcome’ method. Now use corr() function to find the correlation among the columns.\n",
        "Heatmap: Heatmap is defined as a graphical representation of data using colors to visualize the value of the matrix. In this, to represent more common values or higher activities brighter colors basically reddish colors are used and to represent less common or activity values, darker colors are preferred. Heatmap is also defined by the name of the shading matrix. Heatmaps in Seaborn can be plotted by using the seaborn.heatmap() function.\n",
        "\n",
        "'''"
      ],
      "id": "dff25edc"
    },
    {
      "cell_type": "code",
      "execution_count": null,
      "metadata": {
        "id": "0f69dfc9"
      },
      "outputs": [],
      "source": [
        "corr_matrix = df.corr()\n",
        "plt.figure(figsize=(15,7))\n",
        "sns.heatmap(corr_matrix,annot=True,fmt='0.2f')"
      ],
      "id": "0f69dfc9"
    },
    {
      "cell_type": "code",
      "execution_count": null,
      "metadata": {
        "id": "0d453bea"
      },
      "outputs": [],
      "source": [
        "'''Relation between all attributes based on Outcome attributes'''\n",
        "sns.pairplot(df,hue='Outcome')"
      ],
      "id": "0d453bea"
    },
    {
      "cell_type": "code",
      "execution_count": null,
      "metadata": {
        "id": "80af2b78"
      },
      "outputs": [],
      "source": [
        "'''\n",
        "To see Dependent and independent variable\n",
        "'''"
      ],
      "id": "80af2b78"
    },
    {
      "cell_type": "code",
      "execution_count": null,
      "metadata": {
        "id": "e223fa3c"
      },
      "outputs": [],
      "source": [
        "plt.figure(figsize=(15,7))\n",
        "df[df.columns[0:]].corr()['Outcome'].plot(kind='barh')"
      ],
      "id": "e223fa3c"
    },
    {
      "cell_type": "code",
      "execution_count": null,
      "metadata": {
        "id": "5be955f5"
      },
      "outputs": [],
      "source": [
        "'''\n",
        "Extracting independent and dependent variable\n",
        "The independent variable is the cause. Its value is independent of other variables in our study. Independent is = X\n",
        "The dependent variable is the effect. Its value depends on changes in the independent variable. Dependent is = Y\n",
        "\n",
        "'''"
      ],
      "id": "5be955f5"
    },
    {
      "cell_type": "code",
      "execution_count": null,
      "metadata": {
        "id": "7e4b8318"
      },
      "outputs": [],
      "source": [
        "x = df.drop(['Outcome'], axis=1)\n",
        "y = df['Outcome']"
      ],
      "id": "7e4b8318"
    },
    {
      "cell_type": "code",
      "execution_count": null,
      "metadata": {
        "id": "0a6b59e2"
      },
      "outputs": [],
      "source": [
        "'''\n",
        "Splitting the dataset into training and test set. Noted that: 80% of Data is picked for training and 20% of Data is picked for testing. those data are selected randomly.\n",
        "'''"
      ],
      "id": "0a6b59e2"
    },
    {
      "cell_type": "code",
      "execution_count": null,
      "metadata": {
        "id": "cdbd20a2"
      },
      "outputs": [],
      "source": [
        "from sklearn.model_selection import train_test_split as tts\n",
        "xtrain,xtest,ytrain,ytest=tts(x,y,test_size=0.2,random_state=1)"
      ],
      "id": "cdbd20a2"
    },
    {
      "cell_type": "code",
      "execution_count": null,
      "metadata": {
        "id": "347bf850"
      },
      "outputs": [],
      "source": [
        "'''Show xtrain data '''"
      ],
      "id": "347bf850"
    },
    {
      "cell_type": "code",
      "execution_count": null,
      "metadata": {
        "id": "e75368dc"
      },
      "outputs": [],
      "source": [
        "xtrain"
      ],
      "id": "e75368dc"
    },
    {
      "cell_type": "code",
      "execution_count": null,
      "metadata": {
        "id": "b53c7fb7"
      },
      "outputs": [],
      "source": [
        "''' Show xtest data '''"
      ],
      "id": "b53c7fb7"
    },
    {
      "cell_type": "code",
      "execution_count": null,
      "metadata": {
        "id": "bc1a91b1"
      },
      "outputs": [],
      "source": [
        "xtest"
      ],
      "id": "bc1a91b1"
    },
    {
      "cell_type": "code",
      "execution_count": null,
      "metadata": {
        "id": "d0de5212"
      },
      "outputs": [],
      "source": [
        "''' Call some libraries and import algorithms from them.'''"
      ],
      "id": "d0de5212"
    },
    {
      "cell_type": "code",
      "execution_count": null,
      "metadata": {
        "id": "00ac38b9"
      },
      "outputs": [],
      "source": [
        "from sklearn.metrics import mean_squared_error,r2_score,mean_absolute_error\n",
        "from sklearn.linear_model import LinearRegression\n",
        "from sklearn.svm import SVR\n",
        "from sklearn.tree import DecisionTreeRegressor\n",
        "from sklearn.ensemble import RandomForestRegressor\n",
        "from sklearn.neighbors import KNeighborsRegressor\n",
        "from sklearn.preprocessing import LabelEncoder"
      ],
      "id": "00ac38b9"
    },
    {
      "cell_type": "code",
      "execution_count": null,
      "metadata": {
        "id": "a083d338"
      },
      "outputs": [],
      "source": [
        "'''\n",
        "Run algorithms and store in variable.\n",
        "'''"
      ],
      "id": "a083d338"
    },
    {
      "cell_type": "code",
      "execution_count": null,
      "metadata": {
        "id": "ec5646ff"
      },
      "outputs": [],
      "source": [
        "lg = LinearRegression()\n",
        "knn =KNeighborsRegressor()\n",
        "support = SVR(gamma='auto')\n",
        "tree = DecisionTreeRegressor()\n",
        "forest = RandomForestRegressor(n_estimators=49)"
      ],
      "id": "ec5646ff"
    },
    {
      "cell_type": "code",
      "execution_count": null,
      "metadata": {
        "id": "66037e81"
      },
      "outputs": [],
      "source": [
        "'''\n",
        "Fitted and trained libraries to get the best scores.\n",
        "'''"
      ],
      "id": "66037e81"
    },
    {
      "cell_type": "code",
      "execution_count": null,
      "metadata": {
        "id": "dbc885f7"
      },
      "outputs": [],
      "source": [
        "#lg\n",
        "lg\n",
        "lg.fit(xtrain, ytrain)\n",
        "lg_score = lg.score(xtrain, ytrain)\n",
        "#knn\n",
        "knn\n",
        "knn.fit(xtrain, ytrain)\n",
        "knn_score = knn.score(xtrain, ytrain)\n",
        "#support\n",
        "support\n",
        "support.fit(xtrain, ytrain)\n",
        "support_score = support.score(xtrain, ytrain)\n",
        "#tree\n",
        "tree\n",
        "tree.fit(xtrain, ytrain)\n",
        "tree_score = tree.score(xtrain, ytrain)\n",
        "#forest\n",
        "forest\n",
        "forest.fit(xtrain, ytrain)\n",
        "forest_score = forest.score(xtrain, ytrain)"
      ],
      "id": "dbc885f7"
    },
    {
      "cell_type": "code",
      "execution_count": null,
      "metadata": {
        "id": "696667d2"
      },
      "outputs": [],
      "source": [
        "'''\n",
        "All algorithms are shown in the 'Algorithms'  variable and all scores are shown in the 'Score' variable\n",
        "'''"
      ],
      "id": "696667d2"
    },
    {
      "cell_type": "code",
      "execution_count": null,
      "metadata": {
        "id": "6db40ae5",
        "scrolled": true
      },
      "outputs": [],
      "source": [
        "Score = pd.DataFrame([lg_score, knn_score, support_score, tree_score,forest_score], columns=['Score'])\n",
        "Algorithoms = pd.DataFrame(['Linear Regression', 'K Neighbors Regressor', 'Support Vector Machine', ' Decision Tree Regressor','Random Forest Regressor'], columns=['Algorithoms'])"
      ],
      "id": "6db40ae5"
    },
    {
      "cell_type": "code",
      "execution_count": null,
      "metadata": {
        "id": "87958489"
      },
      "outputs": [],
      "source": [
        "''' Concat 'Algorithms' and 'Score' variable '''"
      ],
      "id": "87958489"
    },
    {
      "cell_type": "code",
      "execution_count": null,
      "metadata": {
        "id": "f3b06f57"
      },
      "outputs": [],
      "source": [
        "table = pd.concat([Algorithoms, Score ], axis=1)\n",
        "table"
      ],
      "id": "f3b06f57"
    },
    {
      "cell_type": "code",
      "execution_count": null,
      "metadata": {
        "id": "b6c9d703"
      },
      "outputs": [],
      "source": [
        "'''Got the best scorer Algorithm which is the 'Decision Tree Regression'''"
      ],
      "id": "b6c9d703"
    },
    {
      "cell_type": "code",
      "execution_count": null,
      "metadata": {
        "id": "731f281a"
      },
      "outputs": [],
      "source": [
        "'''Taken all algorithms for error finding'''"
      ],
      "id": "731f281a"
    },
    {
      "cell_type": "code",
      "execution_count": null,
      "metadata": {
        "id": "3d211287"
      },
      "outputs": [],
      "source": [
        "algo = [lg, knn, support, tree, forest]"
      ],
      "id": "3d211287"
    },
    {
      "cell_type": "code",
      "execution_count": null,
      "metadata": {
        "id": "25ec0d8d"
      },
      "outputs": [],
      "source": [
        "score = []\n",
        "mse = []\n",
        "mae = []\n",
        "for a in algo:\n",
        "    a.fit(xtrain, ytrain)\n",
        "    pred = a.predict(xtest)\n",
        "    score.append(r2_score(ytest, pred))\n",
        "    mse.append(mean_squared_error(ytest, pred))\n",
        "    mae.append(mean_absolute_error(ytest, pred))"
      ],
      "id": "25ec0d8d"
    },
    {
      "cell_type": "code",
      "execution_count": null,
      "metadata": {
        "id": "051de759"
      },
      "outputs": [],
      "source": [
        "scr = pd.DataFrame(score, columns=['r2_score'])\n",
        "me_ab_er = pd.DataFrame(mae, columns=['Mean Absolute Error'])\n",
        "me_sc_er = pd.DataFrame(mse, columns=['Mean Squared Error'])\n",
        "algorithm = pd.DataFrame(['Linear Regression', 'K Neighbors Regressor','SVR','Decision Tree Regressor','Random Forest Regressor'], columns=['Algorithoms'])"
      ],
      "id": "051de759"
    },
    {
      "cell_type": "code",
      "execution_count": null,
      "metadata": {
        "id": "191ae329"
      },
      "outputs": [],
      "source": [
        "err_table = pd.concat([algorithm, scr, me_sc_er, me_ab_er ], axis=1)\n",
        "err_table"
      ],
      "id": "191ae329"
    },
    {
      "cell_type": "code",
      "execution_count": null,
      "metadata": {
        "id": "48bb5d6a"
      },
      "outputs": [],
      "source": [
        "'''Got the less error Algorithm which is the 'Decision Tree Regression'''"
      ],
      "id": "48bb5d6a"
    },
    {
      "cell_type": "code",
      "execution_count": null,
      "metadata": {
        "id": "5b7f2f88"
      },
      "outputs": [],
      "source": [
        "''' It can be concluded that the 'Decision tree algorithm' is the best algorithm which will give the best result for Diabetes Prediction. '''"
      ],
      "id": "5b7f2f88"
    },
    {
      "cell_type": "code",
      "execution_count": null,
      "metadata": {
        "id": "596af838"
      },
      "outputs": [],
      "source": [
        "Pregnancies = (input('Pregnancies Month:'))\n",
        "Glucose = (input('Glucose level:'))\n",
        "BloodPressure = (input('Please input -> Blood Pressure level:'))\n",
        "SkinThickness = (input('Now input -> Skin Thickness:'))\n",
        "Insulin = (input('Now input -> Insulin Level:'))\n",
        "BMI = (input('Now input -> BMI:'))\n",
        "DiabetesPedigreeFunction = (input('Now input -> Diabetes Pedigree Function:'))\n",
        "Age = (input('Now input -> Age:'))\n",
        "sample = np.array([Pregnancies, Glucose,BloodPressure, SkinThickness,Insulin,BMI,DiabetesPedigreeFunction,Age])\n",
        "pred = tree.predict([sample])\n",
        "if pred == 0:\n",
        "    print('Prediction Successfully completed, You have no diabetes')\n",
        "elif pred == 1:\n",
        "    print('Prediction Successfully completed, You have diabetes, Be Care full')\n",
        "else:\n",
        "    print('Data is not correct')"
      ],
      "id": "596af838"
    },
    {
      "cell_type": "code",
      "execution_count": null,
      "metadata": {
        "id": "d5f516fb"
      },
      "outputs": [],
      "source": [],
      "id": "d5f516fb"
    }
  ],
  "metadata": {
    "colab": {
      "provenance": []
    },
    "kernelspec": {
      "display_name": "Python 3",
      "language": "python",
      "name": "python3"
    },
    "language_info": {
      "codemirror_mode": {
        "name": "ipython",
        "version": 3
      },
      "file_extension": ".py",
      "mimetype": "text/x-python",
      "name": "python",
      "nbconvert_exporter": "python",
      "pygments_lexer": "ipython3",
      "version": "3.8.8"
    }
  },
  "nbformat": 4,
  "nbformat_minor": 5
}