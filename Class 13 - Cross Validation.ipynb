{
 "cells": [
  {
   "cell_type": "code",
   "execution_count": 1,
   "id": "822a52fb",
   "metadata": {},
   "outputs": [],
   "source": [
    "import pandas as pd \n",
    "import numpy as np \n",
    "import seaborn as sns \n",
    "import matplotlib.pyplot as plt"
   ]
  },
  {
   "cell_type": "code",
   "execution_count": 2,
   "id": "ff20448b",
   "metadata": {},
   "outputs": [],
   "source": [
    "df = pd.read_csv('Phishing Data.csv') "
   ]
  },
  {
   "cell_type": "code",
   "execution_count": 3,
   "id": "8255ce2f",
   "metadata": {},
   "outputs": [],
   "source": [
    "df2 = df.copy()\n",
    "df3 = df.copy()\n",
    "df4 = df.copy()"
   ]
  },
  {
   "cell_type": "code",
   "execution_count": 4,
   "id": "a42791cf",
   "metadata": {},
   "outputs": [
    {
     "data": {
      "text/html": [
       "<div>\n",
       "<style scoped>\n",
       "    .dataframe tbody tr th:only-of-type {\n",
       "        vertical-align: middle;\n",
       "    }\n",
       "\n",
       "    .dataframe tbody tr th {\n",
       "        vertical-align: top;\n",
       "    }\n",
       "\n",
       "    .dataframe thead th {\n",
       "        text-align: right;\n",
       "    }\n",
       "</style>\n",
       "<table border=\"1\" class=\"dataframe\">\n",
       "  <thead>\n",
       "    <tr style=\"text-align: right;\">\n",
       "      <th></th>\n",
       "      <th>Total Number of Characters C</th>\n",
       "      <th>Vocabulary richness W/C</th>\n",
       "      <th>Account</th>\n",
       "      <th>Access</th>\n",
       "      <th>Bank</th>\n",
       "      <th>Credit</th>\n",
       "      <th>Click</th>\n",
       "      <th>Identity</th>\n",
       "      <th>Inconvenience</th>\n",
       "      <th>Information</th>\n",
       "      <th>...</th>\n",
       "      <th>Password</th>\n",
       "      <th>Recently</th>\n",
       "      <th>Risk</th>\n",
       "      <th>Social</th>\n",
       "      <th>Security</th>\n",
       "      <th>Service</th>\n",
       "      <th>Suspended</th>\n",
       "      <th>Total number of Function words/W</th>\n",
       "      <th>Unique Words</th>\n",
       "      <th>Phishing Status</th>\n",
       "    </tr>\n",
       "  </thead>\n",
       "  <tbody>\n",
       "    <tr>\n",
       "      <th>0</th>\n",
       "      <td>1673</td>\n",
       "      <td>0.128512</td>\n",
       "      <td>2</td>\n",
       "      <td>0</td>\n",
       "      <td>0</td>\n",
       "      <td>0</td>\n",
       "      <td>1</td>\n",
       "      <td>0</td>\n",
       "      <td>0</td>\n",
       "      <td>1</td>\n",
       "      <td>...</td>\n",
       "      <td>1</td>\n",
       "      <td>1</td>\n",
       "      <td>0</td>\n",
       "      <td>0</td>\n",
       "      <td>0</td>\n",
       "      <td>0</td>\n",
       "      <td>0</td>\n",
       "      <td>0.027907</td>\n",
       "      <td>132</td>\n",
       "      <td>1</td>\n",
       "    </tr>\n",
       "    <tr>\n",
       "      <th>1</th>\n",
       "      <td>4465</td>\n",
       "      <td>0.137738</td>\n",
       "      <td>0</td>\n",
       "      <td>0</td>\n",
       "      <td>0</td>\n",
       "      <td>0</td>\n",
       "      <td>0</td>\n",
       "      <td>0</td>\n",
       "      <td>0</td>\n",
       "      <td>4</td>\n",
       "      <td>...</td>\n",
       "      <td>0</td>\n",
       "      <td>0</td>\n",
       "      <td>0</td>\n",
       "      <td>0</td>\n",
       "      <td>3</td>\n",
       "      <td>1</td>\n",
       "      <td>0</td>\n",
       "      <td>0.013008</td>\n",
       "      <td>338</td>\n",
       "      <td>1</td>\n",
       "    </tr>\n",
       "    <tr>\n",
       "      <th>2</th>\n",
       "      <td>6813</td>\n",
       "      <td>0.095993</td>\n",
       "      <td>0</td>\n",
       "      <td>0</td>\n",
       "      <td>0</td>\n",
       "      <td>2</td>\n",
       "      <td>0</td>\n",
       "      <td>0</td>\n",
       "      <td>0</td>\n",
       "      <td>2</td>\n",
       "      <td>...</td>\n",
       "      <td>0</td>\n",
       "      <td>0</td>\n",
       "      <td>0</td>\n",
       "      <td>0</td>\n",
       "      <td>0</td>\n",
       "      <td>0</td>\n",
       "      <td>0</td>\n",
       "      <td>0.006116</td>\n",
       "      <td>292</td>\n",
       "      <td>1</td>\n",
       "    </tr>\n",
       "    <tr>\n",
       "      <th>3</th>\n",
       "      <td>1518</td>\n",
       "      <td>0.109354</td>\n",
       "      <td>0</td>\n",
       "      <td>0</td>\n",
       "      <td>0</td>\n",
       "      <td>1</td>\n",
       "      <td>1</td>\n",
       "      <td>0</td>\n",
       "      <td>0</td>\n",
       "      <td>0</td>\n",
       "      <td>...</td>\n",
       "      <td>0</td>\n",
       "      <td>0</td>\n",
       "      <td>0</td>\n",
       "      <td>0</td>\n",
       "      <td>0</td>\n",
       "      <td>0</td>\n",
       "      <td>0</td>\n",
       "      <td>0.012048</td>\n",
       "      <td>102</td>\n",
       "      <td>1</td>\n",
       "    </tr>\n",
       "    <tr>\n",
       "      <th>4</th>\n",
       "      <td>1881</td>\n",
       "      <td>0.126528</td>\n",
       "      <td>7</td>\n",
       "      <td>3</td>\n",
       "      <td>0</td>\n",
       "      <td>0</td>\n",
       "      <td>0</td>\n",
       "      <td>1</td>\n",
       "      <td>0</td>\n",
       "      <td>2</td>\n",
       "      <td>...</td>\n",
       "      <td>0</td>\n",
       "      <td>0</td>\n",
       "      <td>0</td>\n",
       "      <td>0</td>\n",
       "      <td>0</td>\n",
       "      <td>0</td>\n",
       "      <td>2</td>\n",
       "      <td>0.063025</td>\n",
       "      <td>136</td>\n",
       "      <td>1</td>\n",
       "    </tr>\n",
       "  </tbody>\n",
       "</table>\n",
       "<p>5 rows × 22 columns</p>\n",
       "</div>"
      ],
      "text/plain": [
       "   Total Number of Characters C  Vocabulary richness W/C  Account  Access  \\\n",
       "0                          1673                 0.128512        2       0   \n",
       "1                          4465                 0.137738        0       0   \n",
       "2                          6813                 0.095993        0       0   \n",
       "3                          1518                 0.109354        0       0   \n",
       "4                          1881                 0.126528        7       3   \n",
       "\n",
       "   Bank  Credit  Click  Identity  Inconvenience  Information  ...  Password  \\\n",
       "0     0       0      1         0              0            1  ...         1   \n",
       "1     0       0      0         0              0            4  ...         0   \n",
       "2     0       2      0         0              0            2  ...         0   \n",
       "3     0       1      1         0              0            0  ...         0   \n",
       "4     0       0      0         1              0            2  ...         0   \n",
       "\n",
       "   Recently  Risk  Social  Security  Service  Suspended  \\\n",
       "0         1     0       0         0        0          0   \n",
       "1         0     0       0         3        1          0   \n",
       "2         0     0       0         0        0          0   \n",
       "3         0     0       0         0        0          0   \n",
       "4         0     0       0         0        0          2   \n",
       "\n",
       "   Total number of Function words/W  Unique Words  Phishing Status  \n",
       "0                          0.027907           132                1  \n",
       "1                          0.013008           338                1  \n",
       "2                          0.006116           292                1  \n",
       "3                          0.012048           102                1  \n",
       "4                          0.063025           136                1  \n",
       "\n",
       "[5 rows x 22 columns]"
      ]
     },
     "execution_count": 4,
     "metadata": {},
     "output_type": "execute_result"
    }
   ],
   "source": [
    "df.head() "
   ]
  },
  {
   "cell_type": "code",
   "execution_count": 5,
   "id": "46f046a6",
   "metadata": {},
   "outputs": [
    {
     "data": {
      "text/plain": [
       "(525754, 22)"
      ]
     },
     "execution_count": 5,
     "metadata": {},
     "output_type": "execute_result"
    }
   ],
   "source": [
    "df.shape"
   ]
  },
  {
   "cell_type": "code",
   "execution_count": 6,
   "id": "157fd21b",
   "metadata": {},
   "outputs": [
    {
     "data": {
      "text/plain": [
       "Total Number of Characters C        0\n",
       "Vocabulary richness W/C             0\n",
       "Account                             0\n",
       "Access                              0\n",
       "Bank                                0\n",
       "Credit                              0\n",
       "Click                               0\n",
       "Identity                            0\n",
       "Inconvenience                       0\n",
       "Information                         0\n",
       "Limited                             0\n",
       "Minutes                             0\n",
       "Password                            0\n",
       "Recently                            0\n",
       "Risk                                0\n",
       "Social                              0\n",
       "Security                            0\n",
       "Service                             0\n",
       "Suspended                           0\n",
       "Total number of Function words/W    0\n",
       "Unique Words                        0\n",
       "Phishing Status                     0\n",
       "dtype: int64"
      ]
     },
     "execution_count": 6,
     "metadata": {},
     "output_type": "execute_result"
    }
   ],
   "source": [
    "df.isnull().sum()"
   ]
  },
  {
   "cell_type": "code",
   "execution_count": 7,
   "id": "9c21e24f",
   "metadata": {},
   "outputs": [
    {
     "data": {
      "text/plain": [
       "0    517402\n",
       "1      8352\n",
       "Name: Phishing Status, dtype: int64"
      ]
     },
     "execution_count": 7,
     "metadata": {},
     "output_type": "execute_result"
    }
   ],
   "source": [
    "df['Phishing Status'].value_counts()"
   ]
  },
  {
   "cell_type": "code",
   "execution_count": 8,
   "id": "e53bce44",
   "metadata": {},
   "outputs": [
    {
     "data": {
      "text/plain": [
       "0.9841142435435584"
      ]
     },
     "execution_count": 8,
     "metadata": {},
     "output_type": "execute_result"
    }
   ],
   "source": [
    "517402/(8352+517402)"
   ]
  },
  {
   "cell_type": "code",
   "execution_count": 9,
   "id": "a38973d4",
   "metadata": {},
   "outputs": [
    {
     "data": {
      "text/plain": [
       "0.015885756456441604"
      ]
     },
     "execution_count": 9,
     "metadata": {},
     "output_type": "execute_result"
    }
   ],
   "source": [
    "8352/(8352+517402)"
   ]
  },
  {
   "cell_type": "code",
   "execution_count": 10,
   "id": "eb69a108",
   "metadata": {},
   "outputs": [
    {
     "name": "stderr",
     "output_type": "stream",
     "text": [
      "C:\\Users\\Raju\\anaconda3\\lib\\site-packages\\seaborn\\_decorators.py:36: FutureWarning: Pass the following variable as a keyword arg: x. From version 0.12, the only valid positional argument will be `data`, and passing other arguments without an explicit keyword will result in an error or misinterpretation.\n",
      "  warnings.warn(\n"
     ]
    },
    {
     "data": {
      "text/plain": [
       "<AxesSubplot:xlabel='Phishing Status', ylabel='count'>"
      ]
     },
     "execution_count": 10,
     "metadata": {},
     "output_type": "execute_result"
    },
    {
     "data": {
      "image/png": "[encoded data removed]",
      "text/plain": [
       "<Figure size 432x288 with 1 Axes>"
      ]
     },
     "metadata": {
      "needs_background": "light"
     },
     "output_type": "display_data"
    }
   ],
   "source": [
    "sns.countplot(df['Phishing Status'],color='Red')"
   ]
  },
  {
   "cell_type": "code",
   "execution_count": 11,
   "id": "d91267a1",
   "metadata": {},
   "outputs": [],
   "source": [
    "df.dropna(inplace=True)"
   ]
  },
  {
   "cell_type": "code",
   "execution_count": 12,
   "id": "f7b06ba4",
   "metadata": {},
   "outputs": [],
   "source": [
    "df.drop_duplicates(inplace=True)"
   ]
  },
  {
   "cell_type": "code",
   "execution_count": 13,
   "id": "fbf202a6",
   "metadata": {},
   "outputs": [
    {
     "data": {
      "text/plain": [
       "(451085, 22)"
      ]
     },
     "execution_count": 13,
     "metadata": {},
     "output_type": "execute_result"
    }
   ],
   "source": [
    "df.shape"
   ]
  },
  {
   "cell_type": "code",
   "execution_count": 14,
   "id": "4f38b2cd",
   "metadata": {},
   "outputs": [
    {
     "data": {
      "text/html": [
       "<div>\n",
       "<style scoped>\n",
       "    .dataframe tbody tr th:only-of-type {\n",
       "        vertical-align: middle;\n",
       "    }\n",
       "\n",
       "    .dataframe tbody tr th {\n",
       "        vertical-align: top;\n",
       "    }\n",
       "\n",
       "    .dataframe thead th {\n",
       "        text-align: right;\n",
       "    }\n",
       "</style>\n",
       "<table border=\"1\" class=\"dataframe\">\n",
       "  <thead>\n",
       "    <tr style=\"text-align: right;\">\n",
       "      <th></th>\n",
       "      <th>Total Number of Characters C</th>\n",
       "      <th>Vocabulary richness W/C</th>\n",
       "      <th>Account</th>\n",
       "      <th>Access</th>\n",
       "      <th>Bank</th>\n",
       "      <th>Credit</th>\n",
       "      <th>Click</th>\n",
       "      <th>Identity</th>\n",
       "      <th>Inconvenience</th>\n",
       "      <th>Information</th>\n",
       "      <th>...</th>\n",
       "      <th>Password</th>\n",
       "      <th>Recently</th>\n",
       "      <th>Risk</th>\n",
       "      <th>Social</th>\n",
       "      <th>Security</th>\n",
       "      <th>Service</th>\n",
       "      <th>Suspended</th>\n",
       "      <th>Total number of Function words/W</th>\n",
       "      <th>Unique Words</th>\n",
       "      <th>Phishing Status</th>\n",
       "    </tr>\n",
       "  </thead>\n",
       "  <tbody>\n",
       "    <tr>\n",
       "      <th>Total Number of Characters C</th>\n",
       "      <td>1.000000</td>\n",
       "      <td>-0.002116</td>\n",
       "      <td>0.083265</td>\n",
       "      <td>0.152107</td>\n",
       "      <td>0.191894</td>\n",
       "      <td>0.204276</td>\n",
       "      <td>0.060481</td>\n",
       "      <td>0.042419</td>\n",
       "      <td>0.030526</td>\n",
       "      <td>0.185307</td>\n",
       "      <td>...</td>\n",
       "      <td>0.006735</td>\n",
       "      <td>0.271126</td>\n",
       "      <td>0.135223</td>\n",
       "      <td>0.062420</td>\n",
       "      <td>0.108267</td>\n",
       "      <td>0.259593</td>\n",
       "      <td>0.099211</td>\n",
       "      <td>0.008601</td>\n",
       "      <td>0.778506</td>\n",
       "      <td>0.051091</td>\n",
       "    </tr>\n",
       "    <tr>\n",
       "      <th>Vocabulary richness W/C</th>\n",
       "      <td>-0.002116</td>\n",
       "      <td>1.000000</td>\n",
       "      <td>0.016879</td>\n",
       "      <td>0.071430</td>\n",
       "      <td>0.066452</td>\n",
       "      <td>0.084877</td>\n",
       "      <td>0.054371</td>\n",
       "      <td>0.003991</td>\n",
       "      <td>0.000312</td>\n",
       "      <td>0.115901</td>\n",
       "      <td>...</td>\n",
       "      <td>0.027050</td>\n",
       "      <td>0.100285</td>\n",
       "      <td>0.110754</td>\n",
       "      <td>0.027247</td>\n",
       "      <td>0.035346</td>\n",
       "      <td>0.113242</td>\n",
       "      <td>0.028337</td>\n",
       "      <td>0.072776</td>\n",
       "      <td>0.143075</td>\n",
       "      <td>-0.105144</td>\n",
       "    </tr>\n",
       "    <tr>\n",
       "      <th>Account</th>\n",
       "      <td>0.083265</td>\n",
       "      <td>0.016879</td>\n",
       "      <td>1.000000</td>\n",
       "      <td>0.179427</td>\n",
       "      <td>0.139401</td>\n",
       "      <td>0.080516</td>\n",
       "      <td>0.088878</td>\n",
       "      <td>0.137322</td>\n",
       "      <td>0.229636</td>\n",
       "      <td>0.127405</td>\n",
       "      <td>...</td>\n",
       "      <td>0.103202</td>\n",
       "      <td>0.122712</td>\n",
       "      <td>0.022294</td>\n",
       "      <td>0.020610</td>\n",
       "      <td>0.237170</td>\n",
       "      <td>0.076579</td>\n",
       "      <td>0.114873</td>\n",
       "      <td>0.409819</td>\n",
       "      <td>0.108540</td>\n",
       "      <td>0.497483</td>\n",
       "    </tr>\n",
       "    <tr>\n",
       "      <th>Access</th>\n",
       "      <td>0.152107</td>\n",
       "      <td>0.071430</td>\n",
       "      <td>0.179427</td>\n",
       "      <td>1.000000</td>\n",
       "      <td>0.114669</td>\n",
       "      <td>0.116968</td>\n",
       "      <td>0.096599</td>\n",
       "      <td>0.045184</td>\n",
       "      <td>0.079793</td>\n",
       "      <td>0.206722</td>\n",
       "      <td>...</td>\n",
       "      <td>0.102375</td>\n",
       "      <td>0.155169</td>\n",
       "      <td>0.085121</td>\n",
       "      <td>0.019349</td>\n",
       "      <td>0.178466</td>\n",
       "      <td>0.310509</td>\n",
       "      <td>0.056917</td>\n",
       "      <td>0.308671</td>\n",
       "      <td>0.261473</td>\n",
       "      <td>0.081013</td>\n",
       "    </tr>\n",
       "    <tr>\n",
       "      <th>Bank</th>\n",
       "      <td>0.191894</td>\n",
       "      <td>0.066452</td>\n",
       "      <td>0.139401</td>\n",
       "      <td>0.114669</td>\n",
       "      <td>1.000000</td>\n",
       "      <td>0.369442</td>\n",
       "      <td>0.027049</td>\n",
       "      <td>0.047031</td>\n",
       "      <td>0.023036</td>\n",
       "      <td>0.108247</td>\n",
       "      <td>...</td>\n",
       "      <td>0.007522</td>\n",
       "      <td>0.214060</td>\n",
       "      <td>0.202636</td>\n",
       "      <td>0.043333</td>\n",
       "      <td>0.111601</td>\n",
       "      <td>0.213697</td>\n",
       "      <td>0.065849</td>\n",
       "      <td>0.156501</td>\n",
       "      <td>0.293280</td>\n",
       "      <td>0.124631</td>\n",
       "    </tr>\n",
       "    <tr>\n",
       "      <th>Credit</th>\n",
       "      <td>0.204276</td>\n",
       "      <td>0.084877</td>\n",
       "      <td>0.080516</td>\n",
       "      <td>0.116968</td>\n",
       "      <td>0.369442</td>\n",
       "      <td>1.000000</td>\n",
       "      <td>0.023917</td>\n",
       "      <td>0.042751</td>\n",
       "      <td>0.020260</td>\n",
       "      <td>0.125355</td>\n",
       "      <td>...</td>\n",
       "      <td>-0.001671</td>\n",
       "      <td>0.187718</td>\n",
       "      <td>0.279082</td>\n",
       "      <td>0.022006</td>\n",
       "      <td>0.077355</td>\n",
       "      <td>0.243998</td>\n",
       "      <td>0.070255</td>\n",
       "      <td>0.200742</td>\n",
       "      <td>0.311056</td>\n",
       "      <td>0.012774</td>\n",
       "    </tr>\n",
       "    <tr>\n",
       "      <th>Click</th>\n",
       "      <td>0.060481</td>\n",
       "      <td>0.054371</td>\n",
       "      <td>0.088878</td>\n",
       "      <td>0.096599</td>\n",
       "      <td>0.027049</td>\n",
       "      <td>0.023917</td>\n",
       "      <td>1.000000</td>\n",
       "      <td>0.017591</td>\n",
       "      <td>0.014315</td>\n",
       "      <td>0.100119</td>\n",
       "      <td>...</td>\n",
       "      <td>0.086355</td>\n",
       "      <td>0.020944</td>\n",
       "      <td>0.033421</td>\n",
       "      <td>0.007559</td>\n",
       "      <td>0.044626</td>\n",
       "      <td>0.074350</td>\n",
       "      <td>0.024757</td>\n",
       "      <td>0.276980</td>\n",
       "      <td>0.120016</td>\n",
       "      <td>0.055107</td>\n",
       "    </tr>\n",
       "    <tr>\n",
       "      <th>Identity</th>\n",
       "      <td>0.042419</td>\n",
       "      <td>0.003991</td>\n",
       "      <td>0.137322</td>\n",
       "      <td>0.045184</td>\n",
       "      <td>0.047031</td>\n",
       "      <td>0.042751</td>\n",
       "      <td>0.017591</td>\n",
       "      <td>1.000000</td>\n",
       "      <td>0.046390</td>\n",
       "      <td>0.076662</td>\n",
       "      <td>...</td>\n",
       "      <td>0.009521</td>\n",
       "      <td>0.046700</td>\n",
       "      <td>0.007388</td>\n",
       "      <td>0.022728</td>\n",
       "      <td>0.077295</td>\n",
       "      <td>0.055467</td>\n",
       "      <td>0.031660</td>\n",
       "      <td>0.101277</td>\n",
       "      <td>0.053712</td>\n",
       "      <td>0.147700</td>\n",
       "    </tr>\n",
       "    <tr>\n",
       "      <th>Inconvenience</th>\n",
       "      <td>0.030526</td>\n",
       "      <td>0.000312</td>\n",
       "      <td>0.229636</td>\n",
       "      <td>0.079793</td>\n",
       "      <td>0.023036</td>\n",
       "      <td>0.020260</td>\n",
       "      <td>0.014315</td>\n",
       "      <td>0.046390</td>\n",
       "      <td>1.000000</td>\n",
       "      <td>0.030029</td>\n",
       "      <td>...</td>\n",
       "      <td>0.027340</td>\n",
       "      <td>0.044667</td>\n",
       "      <td>0.005357</td>\n",
       "      <td>0.001749</td>\n",
       "      <td>0.133371</td>\n",
       "      <td>0.027418</td>\n",
       "      <td>0.037234</td>\n",
       "      <td>0.146563</td>\n",
       "      <td>0.038117</td>\n",
       "      <td>0.174929</td>\n",
       "    </tr>\n",
       "    <tr>\n",
       "      <th>Information</th>\n",
       "      <td>0.185307</td>\n",
       "      <td>0.115901</td>\n",
       "      <td>0.127405</td>\n",
       "      <td>0.206722</td>\n",
       "      <td>0.108247</td>\n",
       "      <td>0.125355</td>\n",
       "      <td>0.100119</td>\n",
       "      <td>0.076662</td>\n",
       "      <td>0.030029</td>\n",
       "      <td>1.000000</td>\n",
       "      <td>...</td>\n",
       "      <td>0.037702</td>\n",
       "      <td>0.177508</td>\n",
       "      <td>0.139575</td>\n",
       "      <td>0.044645</td>\n",
       "      <td>0.150214</td>\n",
       "      <td>0.231139</td>\n",
       "      <td>0.051673</td>\n",
       "      <td>0.292002</td>\n",
       "      <td>0.303651</td>\n",
       "      <td>0.061520</td>\n",
       "    </tr>\n",
       "    <tr>\n",
       "      <th>Limited</th>\n",
       "      <td>0.246313</td>\n",
       "      <td>0.106885</td>\n",
       "      <td>0.167973</td>\n",
       "      <td>0.160009</td>\n",
       "      <td>0.252722</td>\n",
       "      <td>0.351086</td>\n",
       "      <td>0.083914</td>\n",
       "      <td>0.046888</td>\n",
       "      <td>0.080864</td>\n",
       "      <td>0.190200</td>\n",
       "      <td>...</td>\n",
       "      <td>0.017365</td>\n",
       "      <td>0.281431</td>\n",
       "      <td>0.133351</td>\n",
       "      <td>0.030336</td>\n",
       "      <td>0.122529</td>\n",
       "      <td>0.286592</td>\n",
       "      <td>0.101100</td>\n",
       "      <td>0.135955</td>\n",
       "      <td>0.371636</td>\n",
       "      <td>0.058263</td>\n",
       "    </tr>\n",
       "    <tr>\n",
       "      <th>Minutes</th>\n",
       "      <td>0.093064</td>\n",
       "      <td>0.068760</td>\n",
       "      <td>0.021175</td>\n",
       "      <td>0.073901</td>\n",
       "      <td>0.032711</td>\n",
       "      <td>0.024523</td>\n",
       "      <td>0.043377</td>\n",
       "      <td>0.007946</td>\n",
       "      <td>0.014593</td>\n",
       "      <td>0.056707</td>\n",
       "      <td>...</td>\n",
       "      <td>0.000363</td>\n",
       "      <td>0.054721</td>\n",
       "      <td>0.026294</td>\n",
       "      <td>0.011534</td>\n",
       "      <td>0.023611</td>\n",
       "      <td>0.059178</td>\n",
       "      <td>0.026900</td>\n",
       "      <td>0.100717</td>\n",
       "      <td>0.153513</td>\n",
       "      <td>0.010951</td>\n",
       "    </tr>\n",
       "    <tr>\n",
       "      <th>Password</th>\n",
       "      <td>0.006735</td>\n",
       "      <td>0.027050</td>\n",
       "      <td>0.103202</td>\n",
       "      <td>0.102375</td>\n",
       "      <td>0.007522</td>\n",
       "      <td>-0.001671</td>\n",
       "      <td>0.086355</td>\n",
       "      <td>0.009521</td>\n",
       "      <td>0.027340</td>\n",
       "      <td>0.037702</td>\n",
       "      <td>...</td>\n",
       "      <td>1.000000</td>\n",
       "      <td>0.009948</td>\n",
       "      <td>-0.001334</td>\n",
       "      <td>0.003996</td>\n",
       "      <td>0.109842</td>\n",
       "      <td>0.014693</td>\n",
       "      <td>0.008341</td>\n",
       "      <td>0.269528</td>\n",
       "      <td>0.013661</td>\n",
       "      <td>0.070248</td>\n",
       "    </tr>\n",
       "    <tr>\n",
       "      <th>Recently</th>\n",
       "      <td>0.271126</td>\n",
       "      <td>0.100285</td>\n",
       "      <td>0.122712</td>\n",
       "      <td>0.155169</td>\n",
       "      <td>0.214060</td>\n",
       "      <td>0.187718</td>\n",
       "      <td>0.020944</td>\n",
       "      <td>0.046700</td>\n",
       "      <td>0.044667</td>\n",
       "      <td>0.177508</td>\n",
       "      <td>...</td>\n",
       "      <td>0.009948</td>\n",
       "      <td>1.000000</td>\n",
       "      <td>0.124687</td>\n",
       "      <td>0.128071</td>\n",
       "      <td>0.151618</td>\n",
       "      <td>0.279959</td>\n",
       "      <td>0.085548</td>\n",
       "      <td>0.084814</td>\n",
       "      <td>0.409054</td>\n",
       "      <td>0.049945</td>\n",
       "    </tr>\n",
       "    <tr>\n",
       "      <th>Risk</th>\n",
       "      <td>0.135223</td>\n",
       "      <td>0.110754</td>\n",
       "      <td>0.022294</td>\n",
       "      <td>0.085121</td>\n",
       "      <td>0.202636</td>\n",
       "      <td>0.279082</td>\n",
       "      <td>0.033421</td>\n",
       "      <td>0.007388</td>\n",
       "      <td>0.005357</td>\n",
       "      <td>0.139575</td>\n",
       "      <td>...</td>\n",
       "      <td>-0.001334</td>\n",
       "      <td>0.124687</td>\n",
       "      <td>1.000000</td>\n",
       "      <td>0.028890</td>\n",
       "      <td>0.048787</td>\n",
       "      <td>0.112977</td>\n",
       "      <td>0.031199</td>\n",
       "      <td>0.218126</td>\n",
       "      <td>0.236722</td>\n",
       "      <td>-0.019369</td>\n",
       "    </tr>\n",
       "    <tr>\n",
       "      <th>Social</th>\n",
       "      <td>0.062420</td>\n",
       "      <td>0.027247</td>\n",
       "      <td>0.020610</td>\n",
       "      <td>0.019349</td>\n",
       "      <td>0.043333</td>\n",
       "      <td>0.022006</td>\n",
       "      <td>0.007559</td>\n",
       "      <td>0.022728</td>\n",
       "      <td>0.001749</td>\n",
       "      <td>0.044645</td>\n",
       "      <td>...</td>\n",
       "      <td>0.003996</td>\n",
       "      <td>0.128071</td>\n",
       "      <td>0.028890</td>\n",
       "      <td>1.000000</td>\n",
       "      <td>0.324573</td>\n",
       "      <td>0.055777</td>\n",
       "      <td>0.020886</td>\n",
       "      <td>0.044555</td>\n",
       "      <td>0.099018</td>\n",
       "      <td>0.006355</td>\n",
       "    </tr>\n",
       "    <tr>\n",
       "      <th>Security</th>\n",
       "      <td>0.108267</td>\n",
       "      <td>0.035346</td>\n",
       "      <td>0.237170</td>\n",
       "      <td>0.178466</td>\n",
       "      <td>0.111601</td>\n",
       "      <td>0.077355</td>\n",
       "      <td>0.044626</td>\n",
       "      <td>0.077295</td>\n",
       "      <td>0.133371</td>\n",
       "      <td>0.150214</td>\n",
       "      <td>...</td>\n",
       "      <td>0.109842</td>\n",
       "      <td>0.151618</td>\n",
       "      <td>0.048787</td>\n",
       "      <td>0.324573</td>\n",
       "      <td>1.000000</td>\n",
       "      <td>0.150242</td>\n",
       "      <td>0.056373</td>\n",
       "      <td>0.269612</td>\n",
       "      <td>0.163471</td>\n",
       "      <td>0.185545</td>\n",
       "    </tr>\n",
       "    <tr>\n",
       "      <th>Service</th>\n",
       "      <td>0.259593</td>\n",
       "      <td>0.113242</td>\n",
       "      <td>0.076579</td>\n",
       "      <td>0.310509</td>\n",
       "      <td>0.213697</td>\n",
       "      <td>0.243998</td>\n",
       "      <td>0.074350</td>\n",
       "      <td>0.055467</td>\n",
       "      <td>0.027418</td>\n",
       "      <td>0.231139</td>\n",
       "      <td>...</td>\n",
       "      <td>0.014693</td>\n",
       "      <td>0.279959</td>\n",
       "      <td>0.112977</td>\n",
       "      <td>0.055777</td>\n",
       "      <td>0.150242</td>\n",
       "      <td>1.000000</td>\n",
       "      <td>0.092223</td>\n",
       "      <td>0.156978</td>\n",
       "      <td>0.404571</td>\n",
       "      <td>0.023631</td>\n",
       "    </tr>\n",
       "    <tr>\n",
       "      <th>Suspended</th>\n",
       "      <td>0.099211</td>\n",
       "      <td>0.028337</td>\n",
       "      <td>0.114873</td>\n",
       "      <td>0.056917</td>\n",
       "      <td>0.065849</td>\n",
       "      <td>0.070255</td>\n",
       "      <td>0.024757</td>\n",
       "      <td>0.031660</td>\n",
       "      <td>0.037234</td>\n",
       "      <td>0.051673</td>\n",
       "      <td>...</td>\n",
       "      <td>0.008341</td>\n",
       "      <td>0.085548</td>\n",
       "      <td>0.031199</td>\n",
       "      <td>0.020886</td>\n",
       "      <td>0.056373</td>\n",
       "      <td>0.092223</td>\n",
       "      <td>1.000000</td>\n",
       "      <td>0.079803</td>\n",
       "      <td>0.140697</td>\n",
       "      <td>0.095063</td>\n",
       "    </tr>\n",
       "    <tr>\n",
       "      <th>Total number of Function words/W</th>\n",
       "      <td>0.008601</td>\n",
       "      <td>0.072776</td>\n",
       "      <td>0.409819</td>\n",
       "      <td>0.308671</td>\n",
       "      <td>0.156501</td>\n",
       "      <td>0.200742</td>\n",
       "      <td>0.276980</td>\n",
       "      <td>0.101277</td>\n",
       "      <td>0.146563</td>\n",
       "      <td>0.292002</td>\n",
       "      <td>...</td>\n",
       "      <td>0.269528</td>\n",
       "      <td>0.084814</td>\n",
       "      <td>0.218126</td>\n",
       "      <td>0.044555</td>\n",
       "      <td>0.269612</td>\n",
       "      <td>0.156978</td>\n",
       "      <td>0.079803</td>\n",
       "      <td>1.000000</td>\n",
       "      <td>0.025764</td>\n",
       "      <td>0.288569</td>\n",
       "    </tr>\n",
       "    <tr>\n",
       "      <th>Unique Words</th>\n",
       "      <td>0.778506</td>\n",
       "      <td>0.143075</td>\n",
       "      <td>0.108540</td>\n",
       "      <td>0.261473</td>\n",
       "      <td>0.293280</td>\n",
       "      <td>0.311056</td>\n",
       "      <td>0.120016</td>\n",
       "      <td>0.053712</td>\n",
       "      <td>0.038117</td>\n",
       "      <td>0.303651</td>\n",
       "      <td>...</td>\n",
       "      <td>0.013661</td>\n",
       "      <td>0.409054</td>\n",
       "      <td>0.236722</td>\n",
       "      <td>0.099018</td>\n",
       "      <td>0.163471</td>\n",
       "      <td>0.404571</td>\n",
       "      <td>0.140697</td>\n",
       "      <td>0.025764</td>\n",
       "      <td>1.000000</td>\n",
       "      <td>0.018325</td>\n",
       "    </tr>\n",
       "    <tr>\n",
       "      <th>Phishing Status</th>\n",
       "      <td>0.051091</td>\n",
       "      <td>-0.105144</td>\n",
       "      <td>0.497483</td>\n",
       "      <td>0.081013</td>\n",
       "      <td>0.124631</td>\n",
       "      <td>0.012774</td>\n",
       "      <td>0.055107</td>\n",
       "      <td>0.147700</td>\n",
       "      <td>0.174929</td>\n",
       "      <td>0.061520</td>\n",
       "      <td>...</td>\n",
       "      <td>0.070248</td>\n",
       "      <td>0.049945</td>\n",
       "      <td>-0.019369</td>\n",
       "      <td>0.006355</td>\n",
       "      <td>0.185545</td>\n",
       "      <td>0.023631</td>\n",
       "      <td>0.095063</td>\n",
       "      <td>0.288569</td>\n",
       "      <td>0.018325</td>\n",
       "      <td>1.000000</td>\n",
       "    </tr>\n",
       "  </tbody>\n",
       "</table>\n",
       "<p>22 rows × 22 columns</p>\n",
       "</div>"
      ],
      "text/plain": [
       "                                  Total Number of Characters C  \\\n",
       "Total Number of Characters C                          1.000000   \n",
       "Vocabulary richness W/C                              -0.002116   \n",
       "Account                                               0.083265   \n",
       "Access                                                0.152107   \n",
       "Bank                                                  0.191894   \n",
       "Credit                                                0.204276   \n",
       "Click                                                 0.060481   \n",
       "Identity                                              0.042419   \n",
       "Inconvenience                                         0.030526   \n",
       "Information                                           0.185307   \n",
       "Limited                                               0.246313   \n",
       "Minutes                                               0.093064   \n",
       "Password                                              0.006735   \n",
       "Recently                                              0.271126   \n",
       "Risk                                                  0.135223   \n",
       "Social                                                0.062420   \n",
       "Security                                              0.108267   \n",
       "Service                                               0.259593   \n",
       "Suspended                                             0.099211   \n",
       "Total number of Function words/W                      0.008601   \n",
       "Unique Words                                          0.778506   \n",
       "Phishing Status                                       0.051091   \n",
       "\n",
       "                                  Vocabulary richness W/C   Account    Access  \\\n",
       "Total Number of Characters C                    -0.002116  0.083265  0.152107   \n",
       "Vocabulary richness W/C                          1.000000  0.016879  0.071430   \n",
       "Account                                          0.016879  1.000000  0.179427   \n",
       "Access                                           0.071430  0.179427  1.000000   \n",
       "Bank                                             0.066452  0.139401  0.114669   \n",
       "Credit                                           0.084877  0.080516  0.116968   \n",
       "Click                                            0.054371  0.088878  0.096599   \n",
       "Identity                                         0.003991  0.137322  0.045184   \n",
       "Inconvenience                                    0.000312  0.229636  0.079793   \n",
       "Information                                      0.115901  0.127405  0.206722   \n",
       "Limited                                          0.106885  0.167973  0.160009   \n",
       "Minutes                                          0.068760  0.021175  0.073901   \n",
       "Password                                         0.027050  0.103202  0.102375   \n",
       "Recently                                         0.100285  0.122712  0.155169   \n",
       "Risk                                             0.110754  0.022294  0.085121   \n",
       "Social                                           0.027247  0.020610  0.019349   \n",
       "Security                                         0.035346  0.237170  0.178466   \n",
       "Service                                          0.113242  0.076579  0.310509   \n",
       "Suspended                                        0.028337  0.114873  0.056917   \n",
       "Total number of Function words/W                 0.072776  0.409819  0.308671   \n",
       "Unique Words                                     0.143075  0.108540  0.261473   \n",
       "Phishing Status                                 -0.105144  0.497483  0.081013   \n",
       "\n",
       "                                      Bank    Credit     Click  Identity  \\\n",
       "Total Number of Characters C      0.191894  0.204276  0.060481  0.042419   \n",
       "Vocabulary richness W/C           0.066452  0.084877  0.054371  0.003991   \n",
       "Account                           0.139401  0.080516  0.088878  0.137322   \n",
       "Access                            0.114669  0.116968  0.096599  0.045184   \n",
       "Bank                              1.000000  0.369442  0.027049  0.047031   \n",
       "Credit                            0.369442  1.000000  0.023917  0.042751   \n",
       "Click                             0.027049  0.023917  1.000000  0.017591   \n",
       "Identity                          0.047031  0.042751  0.017591  1.000000   \n",
       "Inconvenience                     0.023036  0.020260  0.014315  0.046390   \n",
       "Information                       0.108247  0.125355  0.100119  0.076662   \n",
       "Limited                           0.252722  0.351086  0.083914  0.046888   \n",
       "Minutes                           0.032711  0.024523  0.043377  0.007946   \n",
       "Password                          0.007522 -0.001671  0.086355  0.009521   \n",
       "Recently                          0.214060  0.187718  0.020944  0.046700   \n",
       "Risk                              0.202636  0.279082  0.033421  0.007388   \n",
       "Social                            0.043333  0.022006  0.007559  0.022728   \n",
       "Security                          0.111601  0.077355  0.044626  0.077295   \n",
       "Service                           0.213697  0.243998  0.074350  0.055467   \n",
       "Suspended                         0.065849  0.070255  0.024757  0.031660   \n",
       "Total number of Function words/W  0.156501  0.200742  0.276980  0.101277   \n",
       "Unique Words                      0.293280  0.311056  0.120016  0.053712   \n",
       "Phishing Status                   0.124631  0.012774  0.055107  0.147700   \n",
       "\n",
       "                                  Inconvenience  Information  ...  Password  \\\n",
       "Total Number of Characters C           0.030526     0.185307  ...  0.006735   \n",
       "Vocabulary richness W/C                0.000312     0.115901  ...  0.027050   \n",
       "Account                                0.229636     0.127405  ...  0.103202   \n",
       "Access                                 0.079793     0.206722  ...  0.102375   \n",
       "Bank                                   0.023036     0.108247  ...  0.007522   \n",
       "Credit                                 0.020260     0.125355  ... -0.001671   \n",
       "Click                                  0.014315     0.100119  ...  0.086355   \n",
       "Identity                               0.046390     0.076662  ...  0.009521   \n",
       "Inconvenience                          1.000000     0.030029  ...  0.027340   \n",
       "Information                            0.030029     1.000000  ...  0.037702   \n",
       "Limited                                0.080864     0.190200  ...  0.017365   \n",
       "Minutes                                0.014593     0.056707  ...  0.000363   \n",
       "Password                               0.027340     0.037702  ...  1.000000   \n",
       "Recently                               0.044667     0.177508  ...  0.009948   \n",
       "Risk                                   0.005357     0.139575  ... -0.001334   \n",
       "Social                                 0.001749     0.044645  ...  0.003996   \n",
       "Security                               0.133371     0.150214  ...  0.109842   \n",
       "Service                                0.027418     0.231139  ...  0.014693   \n",
       "Suspended                              0.037234     0.051673  ...  0.008341   \n",
       "Total number of Function words/W       0.146563     0.292002  ...  0.269528   \n",
       "Unique Words                           0.038117     0.303651  ...  0.013661   \n",
       "Phishing Status                        0.174929     0.061520  ...  0.070248   \n",
       "\n",
       "                                  Recently      Risk    Social  Security  \\\n",
       "Total Number of Characters C      0.271126  0.135223  0.062420  0.108267   \n",
       "Vocabulary richness W/C           0.100285  0.110754  0.027247  0.035346   \n",
       "Account                           0.122712  0.022294  0.020610  0.237170   \n",
       "Access                            0.155169  0.085121  0.019349  0.178466   \n",
       "Bank                              0.214060  0.202636  0.043333  0.111601   \n",
       "Credit                            0.187718  0.279082  0.022006  0.077355   \n",
       "Click                             0.020944  0.033421  0.007559  0.044626   \n",
       "Identity                          0.046700  0.007388  0.022728  0.077295   \n",
       "Inconvenience                     0.044667  0.005357  0.001749  0.133371   \n",
       "Information                       0.177508  0.139575  0.044645  0.150214   \n",
       "Limited                           0.281431  0.133351  0.030336  0.122529   \n",
       "Minutes                           0.054721  0.026294  0.011534  0.023611   \n",
       "Password                          0.009948 -0.001334  0.003996  0.109842   \n",
       "Recently                          1.000000  0.124687  0.128071  0.151618   \n",
       "Risk                              0.124687  1.000000  0.028890  0.048787   \n",
       "Social                            0.128071  0.028890  1.000000  0.324573   \n",
       "Security                          0.151618  0.048787  0.324573  1.000000   \n",
       "Service                           0.279959  0.112977  0.055777  0.150242   \n",
       "Suspended                         0.085548  0.031199  0.020886  0.056373   \n",
       "Total number of Function words/W  0.084814  0.218126  0.044555  0.269612   \n",
       "Unique Words                      0.409054  0.236722  0.099018  0.163471   \n",
       "Phishing Status                   0.049945 -0.019369  0.006355  0.185545   \n",
       "\n",
       "                                   Service  Suspended  \\\n",
       "Total Number of Characters C      0.259593   0.099211   \n",
       "Vocabulary richness W/C           0.113242   0.028337   \n",
       "Account                           0.076579   0.114873   \n",
       "Access                            0.310509   0.056917   \n",
       "Bank                              0.213697   0.065849   \n",
       "Credit                            0.243998   0.070255   \n",
       "Click                             0.074350   0.024757   \n",
       "Identity                          0.055467   0.031660   \n",
       "Inconvenience                     0.027418   0.037234   \n",
       "Information                       0.231139   0.051673   \n",
       "Limited                           0.286592   0.101100   \n",
       "Minutes                           0.059178   0.026900   \n",
       "Password                          0.014693   0.008341   \n",
       "Recently                          0.279959   0.085548   \n",
       "Risk                              0.112977   0.031199   \n",
       "Social                            0.055777   0.020886   \n",
       "Security                          0.150242   0.056373   \n",
       "Service                           1.000000   0.092223   \n",
       "Suspended                         0.092223   1.000000   \n",
       "Total number of Function words/W  0.156978   0.079803   \n",
       "Unique Words                      0.404571   0.140697   \n",
       "Phishing Status                   0.023631   0.095063   \n",
       "\n",
       "                                  Total number of Function words/W  \\\n",
       "Total Number of Characters C                              0.008601   \n",
       "Vocabulary richness W/C                                   0.072776   \n",
       "Account                                                   0.409819   \n",
       "Access                                                    0.308671   \n",
       "Bank                                                      0.156501   \n",
       "Credit                                                    0.200742   \n",
       "Click                                                     0.276980   \n",
       "Identity                                                  0.101277   \n",
       "Inconvenience                                             0.146563   \n",
       "Information                                               0.292002   \n",
       "Limited                                                   0.135955   \n",
       "Minutes                                                   0.100717   \n",
       "Password                                                  0.269528   \n",
       "Recently                                                  0.084814   \n",
       "Risk                                                      0.218126   \n",
       "Social                                                    0.044555   \n",
       "Security                                                  0.269612   \n",
       "Service                                                   0.156978   \n",
       "Suspended                                                 0.079803   \n",
       "Total number of Function words/W                          1.000000   \n",
       "Unique Words                                              0.025764   \n",
       "Phishing Status                                           0.288569   \n",
       "\n",
       "                                  Unique Words  Phishing Status  \n",
       "Total Number of Characters C          0.778506         0.051091  \n",
       "Vocabulary richness W/C               0.143075        -0.105144  \n",
       "Account                               0.108540         0.497483  \n",
       "Access                                0.261473         0.081013  \n",
       "Bank                                  0.293280         0.124631  \n",
       "Credit                                0.311056         0.012774  \n",
       "Click                                 0.120016         0.055107  \n",
       "Identity                              0.053712         0.147700  \n",
       "Inconvenience                         0.038117         0.174929  \n",
       "Information                           0.303651         0.061520  \n",
       "Limited                               0.371636         0.058263  \n",
       "Minutes                               0.153513         0.010951  \n",
       "Password                              0.013661         0.070248  \n",
       "Recently                              0.409054         0.049945  \n",
       "Risk                                  0.236722        -0.019369  \n",
       "Social                                0.099018         0.006355  \n",
       "Security                              0.163471         0.185545  \n",
       "Service                               0.404571         0.023631  \n",
       "Suspended                             0.140697         0.095063  \n",
       "Total number of Function words/W      0.025764         0.288569  \n",
       "Unique Words                          1.000000         0.018325  \n",
       "Phishing Status                       0.018325         1.000000  \n",
       "\n",
       "[22 rows x 22 columns]"
      ]
     },
     "execution_count": 14,
     "metadata": {},
     "output_type": "execute_result"
    }
   ],
   "source": [
    "df.corr()"
   ]
  },
  {
   "cell_type": "code",
   "execution_count": 15,
   "id": "d9fa4ec2",
   "metadata": {},
   "outputs": [
    {
     "data": {
      "text/plain": [
       "<AxesSubplot:>"
      ]
     },
     "execution_count": 15,
     "metadata": {},
     "output_type": "execute_result"
    },
    {
     "data": {
      "image/png": "[encoded data removed]",
      "text/plain": [
       "<Figure size 720x432 with 2 Axes>"
      ]
     },
     "metadata": {
      "needs_background": "light"
     },
     "output_type": "display_data"
    }
   ],
   "source": [
    "plt.subplots(figsize=(10,6)) \n",
    "sns.heatmap(df.corr() , annot=True)"
   ]
  },
  {
   "cell_type": "markdown",
   "id": "6d825443",
   "metadata": {},
   "source": [
    "# Basic Visualization using Seaborn Library"
   ]
  },
  {
   "cell_type": "code",
   "execution_count": 16,
   "id": "b6c9c294",
   "metadata": {},
   "outputs": [
    {
     "data": {
      "text/plain": [
       "Total Number of Characters C        0\n",
       "Vocabulary richness W/C             0\n",
       "Account                             0\n",
       "Access                              0\n",
       "Bank                                0\n",
       "Credit                              0\n",
       "Click                               0\n",
       "Identity                            0\n",
       "Inconvenience                       0\n",
       "Information                         0\n",
       "Limited                             0\n",
       "Minutes                             0\n",
       "Password                            0\n",
       "Recently                            0\n",
       "Risk                                0\n",
       "Social                              0\n",
       "Security                            0\n",
       "Service                             0\n",
       "Suspended                           0\n",
       "Total number of Function words/W    0\n",
       "Unique Words                        0\n",
       "Phishing Status                     0\n",
       "dtype: int64"
      ]
     },
     "execution_count": 16,
     "metadata": {},
     "output_type": "execute_result"
    }
   ],
   "source": [
    "df.isnull().sum()"
   ]
  },
  {
   "cell_type": "code",
   "execution_count": 17,
   "id": "54ecf196",
   "metadata": {},
   "outputs": [
    {
     "data": {
      "text/plain": [
       "<AxesSubplot:xlabel='Account', ylabel='count'>"
      ]
     },
     "execution_count": 17,
     "metadata": {},
     "output_type": "execute_result"
    },
    {
     "data": {
      "image/png": "[encoded data removed]",
      "text/plain": [
       "<Figure size 432x288 with 1 Axes>"
      ]
     },
     "metadata": {
      "needs_background": "light"
     },
     "output_type": "display_data"
    }
   ],
   "source": [
    "sns.countplot(x = 'Account', hue = 'Phishing Status', data=df )"
   ]
  },
  {
   "cell_type": "code",
   "execution_count": 18,
   "id": "5fb44821",
   "metadata": {},
   "outputs": [
    {
     "data": {
      "text/plain": [
       "0     431289\n",
       "1      11144\n",
       "2       3691\n",
       "3       1503\n",
       "4        941\n",
       "5        687\n",
       "6        576\n",
       "7        351\n",
       "8        269\n",
       "9        181\n",
       "10       148\n",
       "11        94\n",
       "13        70\n",
       "12        59\n",
       "14        27\n",
       "16        16\n",
       "15        14\n",
       "17         7\n",
       "18         5\n",
       "22         5\n",
       "20         2\n",
       "19         1\n",
       "21         1\n",
       "23         1\n",
       "24         1\n",
       "29         1\n",
       "63         1\n",
       "Name: Account, dtype: int64"
      ]
     },
     "execution_count": 18,
     "metadata": {},
     "output_type": "execute_result"
    }
   ],
   "source": [
    "df['Account'].value_counts() "
   ]
  },
  {
   "cell_type": "code",
   "execution_count": 19,
   "id": "0c991393",
   "metadata": {},
   "outputs": [
    {
     "data": {
      "text/plain": [
       "<AxesSubplot:xlabel='Service', ylabel='count'>"
      ]
     },
     "execution_count": 19,
     "metadata": {},
     "output_type": "execute_result"
    },
    {
     "data": {
      "image/png": "[encoded data removed]",
      "text/plain": [
       "<Figure size 432x288 with 1 Axes>"
      ]
     },
     "metadata": {
      "needs_background": "light"
     },
     "output_type": "display_data"
    }
   ],
   "source": [
    "sns.countplot(x = 'Service', hue = 'Phishing Status', data=df )"
   ]
  },
  {
   "cell_type": "code",
   "execution_count": 20,
   "id": "3bd08754",
   "metadata": {},
   "outputs": [
    {
     "data": {
      "text/plain": [
       "0      418458\n",
       "1       19472\n",
       "2        6697\n",
       "3        2551\n",
       "4        1370\n",
       "5         698\n",
       "6         558\n",
       "7         291\n",
       "8         212\n",
       "9         149\n",
       "10        132\n",
       "12         86\n",
       "13         77\n",
       "11         71\n",
       "15         52\n",
       "14         48\n",
       "16         41\n",
       "18         26\n",
       "19         25\n",
       "17         17\n",
       "22          8\n",
       "33          6\n",
       "24          6\n",
       "58          4\n",
       "21          3\n",
       "23          3\n",
       "27          3\n",
       "29          3\n",
       "20          3\n",
       "76          2\n",
       "74          2\n",
       "106         2\n",
       "31          2\n",
       "26          2\n",
       "32          1\n",
       "35          1\n",
       "43          1\n",
       "25          1\n",
       "30          1\n",
       "Name: Service, dtype: int64"
      ]
     },
     "execution_count": 20,
     "metadata": {},
     "output_type": "execute_result"
    }
   ],
   "source": [
    "df['Service'].value_counts() "
   ]
  },
  {
   "cell_type": "code",
   "execution_count": 21,
   "id": "85a47383",
   "metadata": {},
   "outputs": [
    {
     "data": {
      "text/plain": [
       "<AxesSubplot:xlabel='Risk', ylabel='count'>"
      ]
     },
     "execution_count": 21,
     "metadata": {},
     "output_type": "execute_result"
    },
    {
     "data": {
      "image/png": "[encoded data removed]",
      "text/plain": [
       "<Figure size 432x288 with 1 Axes>"
      ]
     },
     "metadata": {
      "needs_background": "light"
     },
     "output_type": "display_data"
    }
   ],
   "source": [
    "sns.countplot(x = 'Risk', hue = 'Phishing Status', data=df )"
   ]
  },
  {
   "cell_type": "code",
   "execution_count": 22,
   "id": "c992b5ab",
   "metadata": {},
   "outputs": [
    {
     "data": {
      "text/plain": [
       "0     424643\n",
       "1      15660\n",
       "2       4931\n",
       "3       2278\n",
       "4       1179\n",
       "5        688\n",
       "6        446\n",
       "7        325\n",
       "9        158\n",
       "8        148\n",
       "13       114\n",
       "11       112\n",
       "10        92\n",
       "12        60\n",
       "14        57\n",
       "15        34\n",
       "16        24\n",
       "17        20\n",
       "20        20\n",
       "18        18\n",
       "30        11\n",
       "19        11\n",
       "29         8\n",
       "32         8\n",
       "23         7\n",
       "25         7\n",
       "31         5\n",
       "39         4\n",
       "33         3\n",
       "26         2\n",
       "28         2\n",
       "22         2\n",
       "40         2\n",
       "54         2\n",
       "24         1\n",
       "35         1\n",
       "48         1\n",
       "49         1\n",
       "Name: Risk, dtype: int64"
      ]
     },
     "execution_count": 22,
     "metadata": {},
     "output_type": "execute_result"
    }
   ],
   "source": [
    "df['Risk'].value_counts() "
   ]
  },
  {
   "cell_type": "code",
   "execution_count": 23,
   "id": "9e487318",
   "metadata": {},
   "outputs": [
    {
     "data": {
      "text/plain": [
       "<AxesSubplot:xlabel='Access', ylabel='count'>"
      ]
     },
     "execution_count": 23,
     "metadata": {},
     "output_type": "execute_result"
    },
    {
     "data": {
      "image/png": "[encoded data removed]",
      "text/plain": [
       "<Figure size 432x288 with 1 Axes>"
      ]
     },
     "metadata": {
      "needs_background": "light"
     },
     "output_type": "display_data"
    }
   ],
   "source": [
    "sns.countplot(x = 'Access', hue = 'Phishing Status', data=df )"
   ]
  },
  {
   "cell_type": "code",
   "execution_count": 24,
   "id": "b05f677c",
   "metadata": {},
   "outputs": [
    {
     "data": {
      "text/plain": [
       "0     419318\n",
       "1      19617\n",
       "2       6114\n",
       "3       2574\n",
       "4       1121\n",
       "5        682\n",
       "6        466\n",
       "7        323\n",
       "13       207\n",
       "8        161\n",
       "9        113\n",
       "12        86\n",
       "10        81\n",
       "14        79\n",
       "11        53\n",
       "15        31\n",
       "16        26\n",
       "19        12\n",
       "17         2\n",
       "18         2\n",
       "22         2\n",
       "23         2\n",
       "25         2\n",
       "53         2\n",
       "55         2\n",
       "65         2\n",
       "20         1\n",
       "26         1\n",
       "27         1\n",
       "30         1\n",
       "35         1\n",
       "Name: Access, dtype: int64"
      ]
     },
     "execution_count": 24,
     "metadata": {},
     "output_type": "execute_result"
    }
   ],
   "source": [
    "df['Access'].value_counts() "
   ]
  },
  {
   "cell_type": "code",
   "execution_count": 25,
   "id": "df831e98",
   "metadata": {},
   "outputs": [
    {
     "data": {
      "text/plain": [
       "<AxesSubplot:xlabel='Inconvenience', ylabel='count'>"
      ]
     },
     "execution_count": 25,
     "metadata": {},
     "output_type": "execute_result"
    },
    {
     "data": {
      "image/png": "[encoded data removed]",
      "text/plain": [
       "<Figure size 432x288 with 1 Axes>"
      ]
     },
     "metadata": {
      "needs_background": "light"
     },
     "output_type": "display_data"
    }
   ],
   "source": [
    "sns.countplot(x = 'Inconvenience', hue = 'Phishing Status', data=df )"
   ]
  },
  {
   "cell_type": "code",
   "execution_count": 26,
   "id": "0da9c6a9",
   "metadata": {},
   "outputs": [
    {
     "data": {
      "text/plain": [
       "<AxesSubplot:xlabel='Limited', ylabel='count'>"
      ]
     },
     "execution_count": 26,
     "metadata": {},
     "output_type": "execute_result"
    },
    {
     "data": {
      "image/png": "[encoded data removed]",
      "text/plain": [
       "<Figure size 432x288 with 1 Axes>"
      ]
     },
     "metadata": {
      "needs_background": "light"
     },
     "output_type": "display_data"
    }
   ],
   "source": [
    "sns.countplot(x = 'Limited', hue = 'Phishing Status', data=df )"
   ]
  },
  {
   "cell_type": "code",
   "execution_count": 27,
   "id": "0fc02b66",
   "metadata": {},
   "outputs": [
    {
     "data": {
      "text/plain": [
       "0     419318\n",
       "1      19617\n",
       "2       6114\n",
       "3       2574\n",
       "4       1121\n",
       "5        682\n",
       "6        466\n",
       "7        323\n",
       "13       207\n",
       "8        161\n",
       "9        113\n",
       "12        86\n",
       "10        81\n",
       "14        79\n",
       "11        53\n",
       "15        31\n",
       "16        26\n",
       "19        12\n",
       "17         2\n",
       "18         2\n",
       "22         2\n",
       "23         2\n",
       "25         2\n",
       "53         2\n",
       "55         2\n",
       "65         2\n",
       "20         1\n",
       "26         1\n",
       "27         1\n",
       "30         1\n",
       "35         1\n",
       "Name: Access, dtype: int64"
      ]
     },
     "execution_count": 27,
     "metadata": {},
     "output_type": "execute_result"
    }
   ],
   "source": [
    "df['Access'].value_counts() "
   ]
  },
  {
   "cell_type": "markdown",
   "id": "4bab20b7",
   "metadata": {},
   "source": [
    "# Preprocess the dataset"
   ]
  },
  {
   "cell_type": "code",
   "execution_count": 28,
   "id": "dfe7a7ac",
   "metadata": {},
   "outputs": [
    {
     "data": {
      "text/plain": [
       "(451085, 22)"
      ]
     },
     "execution_count": 28,
     "metadata": {},
     "output_type": "execute_result"
    }
   ],
   "source": [
    "df.shape"
   ]
  },
  {
   "cell_type": "code",
   "execution_count": 29,
   "id": "afc3e811",
   "metadata": {},
   "outputs": [],
   "source": [
    "df.rename(columns={'Total Number of Characters C':'Characters', 'Vocabulary richness W/C':'Vocabulary', 'Total number of Function words/W':'Total number'}, inplace=True)"
   ]
  },
  {
   "cell_type": "code",
   "execution_count": 30,
   "id": "d9b97bc4",
   "metadata": {},
   "outputs": [
    {
     "data": {
      "text/html": [
       "<div>\n",
       "<style scoped>\n",
       "    .dataframe tbody tr th:only-of-type {\n",
       "        vertical-align: middle;\n",
       "    }\n",
       "\n",
       "    .dataframe tbody tr th {\n",
       "        vertical-align: top;\n",
       "    }\n",
       "\n",
       "    .dataframe thead th {\n",
       "        text-align: right;\n",
       "    }\n",
       "</style>\n",
       "<table border=\"1\" class=\"dataframe\">\n",
       "  <thead>\n",
       "    <tr style=\"text-align: right;\">\n",
       "      <th></th>\n",
       "      <th>Characters</th>\n",
       "      <th>Vocabulary</th>\n",
       "      <th>Account</th>\n",
       "      <th>Access</th>\n",
       "      <th>Bank</th>\n",
       "      <th>Credit</th>\n",
       "      <th>Click</th>\n",
       "      <th>Identity</th>\n",
       "      <th>Inconvenience</th>\n",
       "      <th>Information</th>\n",
       "      <th>...</th>\n",
       "      <th>Password</th>\n",
       "      <th>Recently</th>\n",
       "      <th>Risk</th>\n",
       "      <th>Social</th>\n",
       "      <th>Security</th>\n",
       "      <th>Service</th>\n",
       "      <th>Suspended</th>\n",
       "      <th>Total number</th>\n",
       "      <th>Unique Words</th>\n",
       "      <th>Phishing Status</th>\n",
       "    </tr>\n",
       "  </thead>\n",
       "  <tbody>\n",
       "    <tr>\n",
       "      <th>0</th>\n",
       "      <td>1673</td>\n",
       "      <td>0.128512</td>\n",
       "      <td>2</td>\n",
       "      <td>0</td>\n",
       "      <td>0</td>\n",
       "      <td>0</td>\n",
       "      <td>1</td>\n",
       "      <td>0</td>\n",
       "      <td>0</td>\n",
       "      <td>1</td>\n",
       "      <td>...</td>\n",
       "      <td>1</td>\n",
       "      <td>1</td>\n",
       "      <td>0</td>\n",
       "      <td>0</td>\n",
       "      <td>0</td>\n",
       "      <td>0</td>\n",
       "      <td>0</td>\n",
       "      <td>0.027907</td>\n",
       "      <td>132</td>\n",
       "      <td>1</td>\n",
       "    </tr>\n",
       "    <tr>\n",
       "      <th>1</th>\n",
       "      <td>4465</td>\n",
       "      <td>0.137738</td>\n",
       "      <td>0</td>\n",
       "      <td>0</td>\n",
       "      <td>0</td>\n",
       "      <td>0</td>\n",
       "      <td>0</td>\n",
       "      <td>0</td>\n",
       "      <td>0</td>\n",
       "      <td>4</td>\n",
       "      <td>...</td>\n",
       "      <td>0</td>\n",
       "      <td>0</td>\n",
       "      <td>0</td>\n",
       "      <td>0</td>\n",
       "      <td>3</td>\n",
       "      <td>1</td>\n",
       "      <td>0</td>\n",
       "      <td>0.013008</td>\n",
       "      <td>338</td>\n",
       "      <td>1</td>\n",
       "    </tr>\n",
       "    <tr>\n",
       "      <th>2</th>\n",
       "      <td>6813</td>\n",
       "      <td>0.095993</td>\n",
       "      <td>0</td>\n",
       "      <td>0</td>\n",
       "      <td>0</td>\n",
       "      <td>2</td>\n",
       "      <td>0</td>\n",
       "      <td>0</td>\n",
       "      <td>0</td>\n",
       "      <td>2</td>\n",
       "      <td>...</td>\n",
       "      <td>0</td>\n",
       "      <td>0</td>\n",
       "      <td>0</td>\n",
       "      <td>0</td>\n",
       "      <td>0</td>\n",
       "      <td>0</td>\n",
       "      <td>0</td>\n",
       "      <td>0.006116</td>\n",
       "      <td>292</td>\n",
       "      <td>1</td>\n",
       "    </tr>\n",
       "    <tr>\n",
       "      <th>3</th>\n",
       "      <td>1518</td>\n",
       "      <td>0.109354</td>\n",
       "      <td>0</td>\n",
       "      <td>0</td>\n",
       "      <td>0</td>\n",
       "      <td>1</td>\n",
       "      <td>1</td>\n",
       "      <td>0</td>\n",
       "      <td>0</td>\n",
       "      <td>0</td>\n",
       "      <td>...</td>\n",
       "      <td>0</td>\n",
       "      <td>0</td>\n",
       "      <td>0</td>\n",
       "      <td>0</td>\n",
       "      <td>0</td>\n",
       "      <td>0</td>\n",
       "      <td>0</td>\n",
       "      <td>0.012048</td>\n",
       "      <td>102</td>\n",
       "      <td>1</td>\n",
       "    </tr>\n",
       "    <tr>\n",
       "      <th>4</th>\n",
       "      <td>1881</td>\n",
       "      <td>0.126528</td>\n",
       "      <td>7</td>\n",
       "      <td>3</td>\n",
       "      <td>0</td>\n",
       "      <td>0</td>\n",
       "      <td>0</td>\n",
       "      <td>1</td>\n",
       "      <td>0</td>\n",
       "      <td>2</td>\n",
       "      <td>...</td>\n",
       "      <td>0</td>\n",
       "      <td>0</td>\n",
       "      <td>0</td>\n",
       "      <td>0</td>\n",
       "      <td>0</td>\n",
       "      <td>0</td>\n",
       "      <td>2</td>\n",
       "      <td>0.063025</td>\n",
       "      <td>136</td>\n",
       "      <td>1</td>\n",
       "    </tr>\n",
       "  </tbody>\n",
       "</table>\n",
       "<p>5 rows × 22 columns</p>\n",
       "</div>"
      ],
      "text/plain": [
       "   Characters  Vocabulary  Account  Access  Bank  Credit  Click  Identity  \\\n",
       "0        1673    0.128512        2       0     0       0      1         0   \n",
       "1        4465    0.137738        0       0     0       0      0         0   \n",
       "2        6813    0.095993        0       0     0       2      0         0   \n",
       "3        1518    0.109354        0       0     0       1      1         0   \n",
       "4        1881    0.126528        7       3     0       0      0         1   \n",
       "\n",
       "   Inconvenience  Information  ...  Password  Recently  Risk  Social  \\\n",
       "0              0            1  ...         1         1     0       0   \n",
       "1              0            4  ...         0         0     0       0   \n",
       "2              0            2  ...         0         0     0       0   \n",
       "3              0            0  ...         0         0     0       0   \n",
       "4              0            2  ...         0         0     0       0   \n",
       "\n",
       "   Security  Service  Suspended  Total number  Unique Words  Phishing Status  \n",
       "0         0        0          0      0.027907           132                1  \n",
       "1         3        1          0      0.013008           338                1  \n",
       "2         0        0          0      0.006116           292                1  \n",
       "3         0        0          0      0.012048           102                1  \n",
       "4         0        0          2      0.063025           136                1  \n",
       "\n",
       "[5 rows x 22 columns]"
      ]
     },
     "execution_count": 30,
     "metadata": {},
     "output_type": "execute_result"
    }
   ],
   "source": [
    "df.head()"
   ]
  },
  {
   "cell_type": "markdown",
   "id": "a9638856",
   "metadata": {},
   "source": [
    "# Encode the data set"
   ]
  },
  {
   "cell_type": "code",
   "execution_count": 31,
   "id": "94c495eb",
   "metadata": {},
   "outputs": [],
   "source": [
    "from sklearn.preprocessing import LabelEncoder\n",
    "lb = LabelEncoder()"
   ]
  },
  {
   "cell_type": "code",
   "execution_count": 32,
   "id": "06af242a",
   "metadata": {},
   "outputs": [
    {
     "data": {
      "text/plain": [
       "Index(['Characters', 'Vocabulary', 'Account', 'Access', 'Bank', 'Credit',\n",
       "       'Click', 'Identity', 'Inconvenience', 'Information', 'Limited',\n",
       "       'Minutes', 'Password', 'Recently', 'Risk', 'Social', 'Security',\n",
       "       'Service', 'Suspended', 'Total number', 'Unique Words',\n",
       "       'Phishing Status'],\n",
       "      dtype='object')"
      ]
     },
     "execution_count": 32,
     "metadata": {},
     "output_type": "execute_result"
    }
   ],
   "source": [
    "df.columns"
   ]
  },
  {
   "cell_type": "code",
   "execution_count": 33,
   "id": "165c6f42",
   "metadata": {},
   "outputs": [],
   "source": [
    "from pandas.core.dtypes.common import is_numeric_dtype\n",
    "\n",
    "for column in df.columns:\n",
    "    if is_numeric_dtype(df[column]):\n",
    "        continue\n",
    "    else:\n",
    "        df[column] = label.fit_transform(df[column])"
   ]
  },
  {
   "cell_type": "code",
   "execution_count": 34,
   "id": "5569d883",
   "metadata": {
    "scrolled": true
   },
   "outputs": [
    {
     "data": {
      "text/html": [
       "<div>\n",
       "<style scoped>\n",
       "    .dataframe tbody tr th:only-of-type {\n",
       "        vertical-align: middle;\n",
       "    }\n",
       "\n",
       "    .dataframe tbody tr th {\n",
       "        vertical-align: top;\n",
       "    }\n",
       "\n",
       "    .dataframe thead th {\n",
       "        text-align: right;\n",
       "    }\n",
       "</style>\n",
       "<table border=\"1\" class=\"dataframe\">\n",
       "  <thead>\n",
       "    <tr style=\"text-align: right;\">\n",
       "      <th></th>\n",
       "      <th>Characters</th>\n",
       "      <th>Vocabulary</th>\n",
       "      <th>Account</th>\n",
       "      <th>Access</th>\n",
       "      <th>Bank</th>\n",
       "      <th>Credit</th>\n",
       "      <th>Click</th>\n",
       "      <th>Identity</th>\n",
       "      <th>Inconvenience</th>\n",
       "      <th>Information</th>\n",
       "      <th>...</th>\n",
       "      <th>Password</th>\n",
       "      <th>Recently</th>\n",
       "      <th>Risk</th>\n",
       "      <th>Social</th>\n",
       "      <th>Security</th>\n",
       "      <th>Service</th>\n",
       "      <th>Suspended</th>\n",
       "      <th>Total number</th>\n",
       "      <th>Unique Words</th>\n",
       "      <th>Phishing Status</th>\n",
       "    </tr>\n",
       "  </thead>\n",
       "  <tbody>\n",
       "    <tr>\n",
       "      <th>0</th>\n",
       "      <td>1673</td>\n",
       "      <td>0.128512</td>\n",
       "      <td>2</td>\n",
       "      <td>0</td>\n",
       "      <td>0</td>\n",
       "      <td>0</td>\n",
       "      <td>1</td>\n",
       "      <td>0</td>\n",
       "      <td>0</td>\n",
       "      <td>1</td>\n",
       "      <td>...</td>\n",
       "      <td>1</td>\n",
       "      <td>1</td>\n",
       "      <td>0</td>\n",
       "      <td>0</td>\n",
       "      <td>0</td>\n",
       "      <td>0</td>\n",
       "      <td>0</td>\n",
       "      <td>0.027907</td>\n",
       "      <td>132</td>\n",
       "      <td>1</td>\n",
       "    </tr>\n",
       "    <tr>\n",
       "      <th>1</th>\n",
       "      <td>4465</td>\n",
       "      <td>0.137738</td>\n",
       "      <td>0</td>\n",
       "      <td>0</td>\n",
       "      <td>0</td>\n",
       "      <td>0</td>\n",
       "      <td>0</td>\n",
       "      <td>0</td>\n",
       "      <td>0</td>\n",
       "      <td>4</td>\n",
       "      <td>...</td>\n",
       "      <td>0</td>\n",
       "      <td>0</td>\n",
       "      <td>0</td>\n",
       "      <td>0</td>\n",
       "      <td>3</td>\n",
       "      <td>1</td>\n",
       "      <td>0</td>\n",
       "      <td>0.013008</td>\n",
       "      <td>338</td>\n",
       "      <td>1</td>\n",
       "    </tr>\n",
       "    <tr>\n",
       "      <th>2</th>\n",
       "      <td>6813</td>\n",
       "      <td>0.095993</td>\n",
       "      <td>0</td>\n",
       "      <td>0</td>\n",
       "      <td>0</td>\n",
       "      <td>2</td>\n",
       "      <td>0</td>\n",
       "      <td>0</td>\n",
       "      <td>0</td>\n",
       "      <td>2</td>\n",
       "      <td>...</td>\n",
       "      <td>0</td>\n",
       "      <td>0</td>\n",
       "      <td>0</td>\n",
       "      <td>0</td>\n",
       "      <td>0</td>\n",
       "      <td>0</td>\n",
       "      <td>0</td>\n",
       "      <td>0.006116</td>\n",
       "      <td>292</td>\n",
       "      <td>1</td>\n",
       "    </tr>\n",
       "    <tr>\n",
       "      <th>3</th>\n",
       "      <td>1518</td>\n",
       "      <td>0.109354</td>\n",
       "      <td>0</td>\n",
       "      <td>0</td>\n",
       "      <td>0</td>\n",
       "      <td>1</td>\n",
       "      <td>1</td>\n",
       "      <td>0</td>\n",
       "      <td>0</td>\n",
       "      <td>0</td>\n",
       "      <td>...</td>\n",
       "      <td>0</td>\n",
       "      <td>0</td>\n",
       "      <td>0</td>\n",
       "      <td>0</td>\n",
       "      <td>0</td>\n",
       "      <td>0</td>\n",
       "      <td>0</td>\n",
       "      <td>0.012048</td>\n",
       "      <td>102</td>\n",
       "      <td>1</td>\n",
       "    </tr>\n",
       "    <tr>\n",
       "      <th>4</th>\n",
       "      <td>1881</td>\n",
       "      <td>0.126528</td>\n",
       "      <td>7</td>\n",
       "      <td>3</td>\n",
       "      <td>0</td>\n",
       "      <td>0</td>\n",
       "      <td>0</td>\n",
       "      <td>1</td>\n",
       "      <td>0</td>\n",
       "      <td>2</td>\n",
       "      <td>...</td>\n",
       "      <td>0</td>\n",
       "      <td>0</td>\n",
       "      <td>0</td>\n",
       "      <td>0</td>\n",
       "      <td>0</td>\n",
       "      <td>0</td>\n",
       "      <td>2</td>\n",
       "      <td>0.063025</td>\n",
       "      <td>136</td>\n",
       "      <td>1</td>\n",
       "    </tr>\n",
       "  </tbody>\n",
       "</table>\n",
       "<p>5 rows × 22 columns</p>\n",
       "</div>"
      ],
      "text/plain": [
       "   Characters  Vocabulary  Account  Access  Bank  Credit  Click  Identity  \\\n",
       "0        1673    0.128512        2       0     0       0      1         0   \n",
       "1        4465    0.137738        0       0     0       0      0         0   \n",
       "2        6813    0.095993        0       0     0       2      0         0   \n",
       "3        1518    0.109354        0       0     0       1      1         0   \n",
       "4        1881    0.126528        7       3     0       0      0         1   \n",
       "\n",
       "   Inconvenience  Information  ...  Password  Recently  Risk  Social  \\\n",
       "0              0            1  ...         1         1     0       0   \n",
       "1              0            4  ...         0         0     0       0   \n",
       "2              0            2  ...         0         0     0       0   \n",
       "3              0            0  ...         0         0     0       0   \n",
       "4              0            2  ...         0         0     0       0   \n",
       "\n",
       "   Security  Service  Suspended  Total number  Unique Words  Phishing Status  \n",
       "0         0        0          0      0.027907           132                1  \n",
       "1         3        1          0      0.013008           338                1  \n",
       "2         0        0          0      0.006116           292                1  \n",
       "3         0        0          0      0.012048           102                1  \n",
       "4         0        0          2      0.063025           136                1  \n",
       "\n",
       "[5 rows x 22 columns]"
      ]
     },
     "execution_count": 34,
     "metadata": {},
     "output_type": "execute_result"
    }
   ],
   "source": [
    "df.head()"
   ]
  },
  {
   "cell_type": "markdown",
   "id": "4945df98",
   "metadata": {},
   "source": [
    "# seperate x, y"
   ]
  },
  {
   "cell_type": "code",
   "execution_count": 35,
   "id": "8c1930ae",
   "metadata": {},
   "outputs": [],
   "source": [
    "x = df.drop('Phishing Status',axis=1) \n",
    "y = df['Phishing Status']"
   ]
  },
  {
   "cell_type": "code",
   "execution_count": 36,
   "id": "d8c2bafc",
   "metadata": {},
   "outputs": [
    {
     "data": {
      "text/html": [
       "<div>\n",
       "<style scoped>\n",
       "    .dataframe tbody tr th:only-of-type {\n",
       "        vertical-align: middle;\n",
       "    }\n",
       "\n",
       "    .dataframe tbody tr th {\n",
       "        vertical-align: top;\n",
       "    }\n",
       "\n",
       "    .dataframe thead th {\n",
       "        text-align: right;\n",
       "    }\n",
       "</style>\n",
       "<table border=\"1\" class=\"dataframe\">\n",
       "  <thead>\n",
       "    <tr style=\"text-align: right;\">\n",
       "      <th></th>\n",
       "      <th>Characters</th>\n",
       "      <th>Vocabulary</th>\n",
       "      <th>Account</th>\n",
       "      <th>Access</th>\n",
       "      <th>Bank</th>\n",
       "      <th>Credit</th>\n",
       "      <th>Click</th>\n",
       "      <th>Identity</th>\n",
       "      <th>Inconvenience</th>\n",
       "      <th>Information</th>\n",
       "      <th>...</th>\n",
       "      <th>Minutes</th>\n",
       "      <th>Password</th>\n",
       "      <th>Recently</th>\n",
       "      <th>Risk</th>\n",
       "      <th>Social</th>\n",
       "      <th>Security</th>\n",
       "      <th>Service</th>\n",
       "      <th>Suspended</th>\n",
       "      <th>Total number</th>\n",
       "      <th>Unique Words</th>\n",
       "    </tr>\n",
       "  </thead>\n",
       "  <tbody>\n",
       "    <tr>\n",
       "      <th>0</th>\n",
       "      <td>1673</td>\n",
       "      <td>0.128512</td>\n",
       "      <td>2</td>\n",
       "      <td>0</td>\n",
       "      <td>0</td>\n",
       "      <td>0</td>\n",
       "      <td>1</td>\n",
       "      <td>0</td>\n",
       "      <td>0</td>\n",
       "      <td>1</td>\n",
       "      <td>...</td>\n",
       "      <td>0</td>\n",
       "      <td>1</td>\n",
       "      <td>1</td>\n",
       "      <td>0</td>\n",
       "      <td>0</td>\n",
       "      <td>0</td>\n",
       "      <td>0</td>\n",
       "      <td>0</td>\n",
       "      <td>0.027907</td>\n",
       "      <td>132</td>\n",
       "    </tr>\n",
       "    <tr>\n",
       "      <th>1</th>\n",
       "      <td>4465</td>\n",
       "      <td>0.137738</td>\n",
       "      <td>0</td>\n",
       "      <td>0</td>\n",
       "      <td>0</td>\n",
       "      <td>0</td>\n",
       "      <td>0</td>\n",
       "      <td>0</td>\n",
       "      <td>0</td>\n",
       "      <td>4</td>\n",
       "      <td>...</td>\n",
       "      <td>0</td>\n",
       "      <td>0</td>\n",
       "      <td>0</td>\n",
       "      <td>0</td>\n",
       "      <td>0</td>\n",
       "      <td>3</td>\n",
       "      <td>1</td>\n",
       "      <td>0</td>\n",
       "      <td>0.013008</td>\n",
       "      <td>338</td>\n",
       "    </tr>\n",
       "    <tr>\n",
       "      <th>2</th>\n",
       "      <td>6813</td>\n",
       "      <td>0.095993</td>\n",
       "      <td>0</td>\n",
       "      <td>0</td>\n",
       "      <td>0</td>\n",
       "      <td>2</td>\n",
       "      <td>0</td>\n",
       "      <td>0</td>\n",
       "      <td>0</td>\n",
       "      <td>2</td>\n",
       "      <td>...</td>\n",
       "      <td>0</td>\n",
       "      <td>0</td>\n",
       "      <td>0</td>\n",
       "      <td>0</td>\n",
       "      <td>0</td>\n",
       "      <td>0</td>\n",
       "      <td>0</td>\n",
       "      <td>0</td>\n",
       "      <td>0.006116</td>\n",
       "      <td>292</td>\n",
       "    </tr>\n",
       "    <tr>\n",
       "      <th>3</th>\n",
       "      <td>1518</td>\n",
       "      <td>0.109354</td>\n",
       "      <td>0</td>\n",
       "      <td>0</td>\n",
       "      <td>0</td>\n",
       "      <td>1</td>\n",
       "      <td>1</td>\n",
       "      <td>0</td>\n",
       "      <td>0</td>\n",
       "      <td>0</td>\n",
       "      <td>...</td>\n",
       "      <td>0</td>\n",
       "      <td>0</td>\n",
       "      <td>0</td>\n",
       "      <td>0</td>\n",
       "      <td>0</td>\n",
       "      <td>0</td>\n",
       "      <td>0</td>\n",
       "      <td>0</td>\n",
       "      <td>0.012048</td>\n",
       "      <td>102</td>\n",
       "    </tr>\n",
       "    <tr>\n",
       "      <th>4</th>\n",
       "      <td>1881</td>\n",
       "      <td>0.126528</td>\n",
       "      <td>7</td>\n",
       "      <td>3</td>\n",
       "      <td>0</td>\n",
       "      <td>0</td>\n",
       "      <td>0</td>\n",
       "      <td>1</td>\n",
       "      <td>0</td>\n",
       "      <td>2</td>\n",
       "      <td>...</td>\n",
       "      <td>0</td>\n",
       "      <td>0</td>\n",
       "      <td>0</td>\n",
       "      <td>0</td>\n",
       "      <td>0</td>\n",
       "      <td>0</td>\n",
       "      <td>0</td>\n",
       "      <td>2</td>\n",
       "      <td>0.063025</td>\n",
       "      <td>136</td>\n",
       "    </tr>\n",
       "  </tbody>\n",
       "</table>\n",
       "<p>5 rows × 21 columns</p>\n",
       "</div>"
      ],
      "text/plain": [
       "   Characters  Vocabulary  Account  Access  Bank  Credit  Click  Identity  \\\n",
       "0        1673    0.128512        2       0     0       0      1         0   \n",
       "1        4465    0.137738        0       0     0       0      0         0   \n",
       "2        6813    0.095993        0       0     0       2      0         0   \n",
       "3        1518    0.109354        0       0     0       1      1         0   \n",
       "4        1881    0.126528        7       3     0       0      0         1   \n",
       "\n",
       "   Inconvenience  Information  ...  Minutes  Password  Recently  Risk  Social  \\\n",
       "0              0            1  ...        0         1         1     0       0   \n",
       "1              0            4  ...        0         0         0     0       0   \n",
       "2              0            2  ...        0         0         0     0       0   \n",
       "3              0            0  ...        0         0         0     0       0   \n",
       "4              0            2  ...        0         0         0     0       0   \n",
       "\n",
       "   Security  Service  Suspended  Total number  Unique Words  \n",
       "0         0        0          0      0.027907           132  \n",
       "1         3        1          0      0.013008           338  \n",
       "2         0        0          0      0.006116           292  \n",
       "3         0        0          0      0.012048           102  \n",
       "4         0        0          2      0.063025           136  \n",
       "\n",
       "[5 rows x 21 columns]"
      ]
     },
     "execution_count": 36,
     "metadata": {},
     "output_type": "execute_result"
    }
   ],
   "source": [
    "x.head()"
   ]
  },
  {
   "cell_type": "code",
   "execution_count": 37,
   "id": "d807b7fa",
   "metadata": {},
   "outputs": [
    {
     "data": {
      "text/plain": [
       "(451085, 21)"
      ]
     },
     "execution_count": 37,
     "metadata": {},
     "output_type": "execute_result"
    }
   ],
   "source": [
    "x.shape"
   ]
  },
  {
   "cell_type": "code",
   "execution_count": 38,
   "id": "a4ccfb4e",
   "metadata": {},
   "outputs": [
    {
     "data": {
      "text/plain": [
       "0    1\n",
       "1    1\n",
       "2    1\n",
       "3    1\n",
       "4    1\n",
       "Name: Phishing Status, dtype: int64"
      ]
     },
     "execution_count": 38,
     "metadata": {},
     "output_type": "execute_result"
    }
   ],
   "source": [
    "y.head()"
   ]
  },
  {
   "cell_type": "code",
   "execution_count": 39,
   "id": "5038d2ff",
   "metadata": {},
   "outputs": [
    {
     "data": {
      "text/plain": [
       "(451085,)"
      ]
     },
     "execution_count": 39,
     "metadata": {},
     "output_type": "execute_result"
    }
   ],
   "source": [
    "y.shape"
   ]
  },
  {
   "cell_type": "markdown",
   "id": "cc15fb05",
   "metadata": {},
   "source": [
    "# Imbalanced Data Handling"
   ]
  },
  {
   "cell_type": "code",
   "execution_count": 40,
   "id": "d13d2adc",
   "metadata": {},
   "outputs": [
    {
     "data": {
      "text/plain": [
       "0    442845\n",
       "1      8240\n",
       "Name: Phishing Status, dtype: int64"
      ]
     },
     "execution_count": 40,
     "metadata": {},
     "output_type": "execute_result"
    }
   ],
   "source": [
    "df['Phishing Status'].value_counts()"
   ]
  },
  {
   "cell_type": "code",
   "execution_count": 41,
   "id": "b64e317d",
   "metadata": {},
   "outputs": [],
   "source": [
    "not_Phishing_Status = (442845/(8240+442845))\n",
    "Phishing_Status = (8240/(8240+442845)) "
   ]
  },
  {
   "cell_type": "code",
   "execution_count": 42,
   "id": "8ddbd24e",
   "metadata": {},
   "outputs": [
    {
     "name": "stdout",
     "output_type": "stream",
     "text": [
      "Not churned 0.9817329328175399 percent of total people\n",
      "Churned 0.01826706718246007 percent of total people\n"
     ]
    }
   ],
   "source": [
    "print('Not churned {} percent of total people'.format(not_Phishing_Status))\n",
    "print('Churned {} percent of total people'.format(Phishing_Status))"
   ]
  },
  {
   "cell_type": "markdown",
   "id": "ac383278",
   "metadata": {},
   "source": [
    "# Near Miss for Under_Sampling"
   ]
  },
  {
   "cell_type": "code",
   "execution_count": 43,
   "id": "b08b37a8",
   "metadata": {},
   "outputs": [],
   "source": [
    "from imblearn.under_sampling import NearMiss"
   ]
  },
  {
   "cell_type": "code",
   "execution_count": 44,
   "id": "0e739600",
   "metadata": {},
   "outputs": [],
   "source": [
    "# https://imbalanced-learn.org/dev/references/generated/imblearn.under_sampling.NearMiss.html\n",
    "NearMiss_obj = NearMiss()\n",
    "x_1 , y_1 = NearMiss_obj.fit_resample(x,y)"
   ]
  },
  {
   "cell_type": "code",
   "execution_count": 45,
   "id": "9c81ec85",
   "metadata": {},
   "outputs": [
    {
     "data": {
      "text/plain": [
       "(16480, 21)"
      ]
     },
     "execution_count": 45,
     "metadata": {},
     "output_type": "execute_result"
    }
   ],
   "source": [
    "x_1.shape"
   ]
  },
  {
   "cell_type": "code",
   "execution_count": 46,
   "id": "41a72b60",
   "metadata": {},
   "outputs": [
    {
     "data": {
      "text/plain": [
       "(16480,)"
      ]
     },
     "execution_count": 46,
     "metadata": {},
     "output_type": "execute_result"
    }
   ],
   "source": [
    "y_1.shape"
   ]
  },
  {
   "cell_type": "code",
   "execution_count": 47,
   "id": "7aa7645e",
   "metadata": {},
   "outputs": [
    {
     "data": {
      "text/plain": [
       "0    8240\n",
       "1    8240\n",
       "Name: Phishing Status, dtype: int64"
      ]
     },
     "execution_count": 47,
     "metadata": {},
     "output_type": "execute_result"
    }
   ],
   "source": [
    "y_1.value_counts()"
   ]
  },
  {
   "cell_type": "markdown",
   "id": "93abff66",
   "metadata": {},
   "source": [
    "# Over Sampling"
   ]
  },
  {
   "cell_type": "code",
   "execution_count": 48,
   "id": "0a201f73",
   "metadata": {},
   "outputs": [
    {
     "data": {
      "text/html": [
       "<div>\n",
       "<style scoped>\n",
       "    .dataframe tbody tr th:only-of-type {\n",
       "        vertical-align: middle;\n",
       "    }\n",
       "\n",
       "    .dataframe tbody tr th {\n",
       "        vertical-align: top;\n",
       "    }\n",
       "\n",
       "    .dataframe thead th {\n",
       "        text-align: right;\n",
       "    }\n",
       "</style>\n",
       "<table border=\"1\" class=\"dataframe\">\n",
       "  <thead>\n",
       "    <tr style=\"text-align: right;\">\n",
       "      <th></th>\n",
       "      <th>Total Number of Characters C</th>\n",
       "      <th>Vocabulary richness W/C</th>\n",
       "      <th>Account</th>\n",
       "      <th>Access</th>\n",
       "      <th>Bank</th>\n",
       "      <th>Credit</th>\n",
       "      <th>Click</th>\n",
       "      <th>Identity</th>\n",
       "      <th>Inconvenience</th>\n",
       "      <th>Information</th>\n",
       "      <th>...</th>\n",
       "      <th>Password</th>\n",
       "      <th>Recently</th>\n",
       "      <th>Risk</th>\n",
       "      <th>Social</th>\n",
       "      <th>Security</th>\n",
       "      <th>Service</th>\n",
       "      <th>Suspended</th>\n",
       "      <th>Total number of Function words/W</th>\n",
       "      <th>Unique Words</th>\n",
       "      <th>Phishing Status</th>\n",
       "    </tr>\n",
       "  </thead>\n",
       "  <tbody>\n",
       "    <tr>\n",
       "      <th>0</th>\n",
       "      <td>1673</td>\n",
       "      <td>0.128512</td>\n",
       "      <td>2</td>\n",
       "      <td>0</td>\n",
       "      <td>0</td>\n",
       "      <td>0</td>\n",
       "      <td>1</td>\n",
       "      <td>0</td>\n",
       "      <td>0</td>\n",
       "      <td>1</td>\n",
       "      <td>...</td>\n",
       "      <td>1</td>\n",
       "      <td>1</td>\n",
       "      <td>0</td>\n",
       "      <td>0</td>\n",
       "      <td>0</td>\n",
       "      <td>0</td>\n",
       "      <td>0</td>\n",
       "      <td>0.027907</td>\n",
       "      <td>132</td>\n",
       "      <td>1</td>\n",
       "    </tr>\n",
       "    <tr>\n",
       "      <th>1</th>\n",
       "      <td>4465</td>\n",
       "      <td>0.137738</td>\n",
       "      <td>0</td>\n",
       "      <td>0</td>\n",
       "      <td>0</td>\n",
       "      <td>0</td>\n",
       "      <td>0</td>\n",
       "      <td>0</td>\n",
       "      <td>0</td>\n",
       "      <td>4</td>\n",
       "      <td>...</td>\n",
       "      <td>0</td>\n",
       "      <td>0</td>\n",
       "      <td>0</td>\n",
       "      <td>0</td>\n",
       "      <td>3</td>\n",
       "      <td>1</td>\n",
       "      <td>0</td>\n",
       "      <td>0.013008</td>\n",
       "      <td>338</td>\n",
       "      <td>1</td>\n",
       "    </tr>\n",
       "    <tr>\n",
       "      <th>2</th>\n",
       "      <td>6813</td>\n",
       "      <td>0.095993</td>\n",
       "      <td>0</td>\n",
       "      <td>0</td>\n",
       "      <td>0</td>\n",
       "      <td>2</td>\n",
       "      <td>0</td>\n",
       "      <td>0</td>\n",
       "      <td>0</td>\n",
       "      <td>2</td>\n",
       "      <td>...</td>\n",
       "      <td>0</td>\n",
       "      <td>0</td>\n",
       "      <td>0</td>\n",
       "      <td>0</td>\n",
       "      <td>0</td>\n",
       "      <td>0</td>\n",
       "      <td>0</td>\n",
       "      <td>0.006116</td>\n",
       "      <td>292</td>\n",
       "      <td>1</td>\n",
       "    </tr>\n",
       "    <tr>\n",
       "      <th>3</th>\n",
       "      <td>1518</td>\n",
       "      <td>0.109354</td>\n",
       "      <td>0</td>\n",
       "      <td>0</td>\n",
       "      <td>0</td>\n",
       "      <td>1</td>\n",
       "      <td>1</td>\n",
       "      <td>0</td>\n",
       "      <td>0</td>\n",
       "      <td>0</td>\n",
       "      <td>...</td>\n",
       "      <td>0</td>\n",
       "      <td>0</td>\n",
       "      <td>0</td>\n",
       "      <td>0</td>\n",
       "      <td>0</td>\n",
       "      <td>0</td>\n",
       "      <td>0</td>\n",
       "      <td>0.012048</td>\n",
       "      <td>102</td>\n",
       "      <td>1</td>\n",
       "    </tr>\n",
       "    <tr>\n",
       "      <th>4</th>\n",
       "      <td>1881</td>\n",
       "      <td>0.126528</td>\n",
       "      <td>7</td>\n",
       "      <td>3</td>\n",
       "      <td>0</td>\n",
       "      <td>0</td>\n",
       "      <td>0</td>\n",
       "      <td>1</td>\n",
       "      <td>0</td>\n",
       "      <td>2</td>\n",
       "      <td>...</td>\n",
       "      <td>0</td>\n",
       "      <td>0</td>\n",
       "      <td>0</td>\n",
       "      <td>0</td>\n",
       "      <td>0</td>\n",
       "      <td>0</td>\n",
       "      <td>2</td>\n",
       "      <td>0.063025</td>\n",
       "      <td>136</td>\n",
       "      <td>1</td>\n",
       "    </tr>\n",
       "  </tbody>\n",
       "</table>\n",
       "<p>5 rows × 22 columns</p>\n",
       "</div>"
      ],
      "text/plain": [
       "   Total Number of Characters C  Vocabulary richness W/C  Account  Access  \\\n",
       "0                          1673                 0.128512        2       0   \n",
       "1                          4465                 0.137738        0       0   \n",
       "2                          6813                 0.095993        0       0   \n",
       "3                          1518                 0.109354        0       0   \n",
       "4                          1881                 0.126528        7       3   \n",
       "\n",
       "   Bank  Credit  Click  Identity  Inconvenience  Information  ...  Password  \\\n",
       "0     0       0      1         0              0            1  ...         1   \n",
       "1     0       0      0         0              0            4  ...         0   \n",
       "2     0       2      0         0              0            2  ...         0   \n",
       "3     0       1      1         0              0            0  ...         0   \n",
       "4     0       0      0         1              0            2  ...         0   \n",
       "\n",
       "   Recently  Risk  Social  Security  Service  Suspended  \\\n",
       "0         1     0       0         0        0          0   \n",
       "1         0     0       0         3        1          0   \n",
       "2         0     0       0         0        0          0   \n",
       "3         0     0       0         0        0          0   \n",
       "4         0     0       0         0        0          2   \n",
       "\n",
       "   Total number of Function words/W  Unique Words  Phishing Status  \n",
       "0                          0.027907           132                1  \n",
       "1                          0.013008           338                1  \n",
       "2                          0.006116           292                1  \n",
       "3                          0.012048           102                1  \n",
       "4                          0.063025           136                1  \n",
       "\n",
       "[5 rows x 22 columns]"
      ]
     },
     "execution_count": 48,
     "metadata": {},
     "output_type": "execute_result"
    }
   ],
   "source": [
    "df2.head()"
   ]
  },
  {
   "cell_type": "code",
   "execution_count": 61,
   "id": "372df05a",
   "metadata": {},
   "outputs": [],
   "source": [
    "df2.rename(columns={'Total Number of Characters C':'Characters', 'Vocabulary richness W/C':'Vocabulary', 'Total number of Function words/W':'Total number'}, inplace=True)"
   ]
  },
  {
   "cell_type": "code",
   "execution_count": 62,
   "id": "9afbccfb",
   "metadata": {},
   "outputs": [
    {
     "data": {
      "text/html": [
       "<div>\n",
       "<style scoped>\n",
       "    .dataframe tbody tr th:only-of-type {\n",
       "        vertical-align: middle;\n",
       "    }\n",
       "\n",
       "    .dataframe tbody tr th {\n",
       "        vertical-align: top;\n",
       "    }\n",
       "\n",
       "    .dataframe thead th {\n",
       "        text-align: right;\n",
       "    }\n",
       "</style>\n",
       "<table border=\"1\" class=\"dataframe\">\n",
       "  <thead>\n",
       "    <tr style=\"text-align: right;\">\n",
       "      <th></th>\n",
       "      <th>Characters</th>\n",
       "      <th>Vocabulary</th>\n",
       "      <th>Account</th>\n",
       "      <th>Access</th>\n",
       "      <th>Bank</th>\n",
       "      <th>Credit</th>\n",
       "      <th>Click</th>\n",
       "      <th>Identity</th>\n",
       "      <th>Inconvenience</th>\n",
       "      <th>Information</th>\n",
       "      <th>...</th>\n",
       "      <th>Password</th>\n",
       "      <th>Recently</th>\n",
       "      <th>Risk</th>\n",
       "      <th>Social</th>\n",
       "      <th>Security</th>\n",
       "      <th>Service</th>\n",
       "      <th>Suspended</th>\n",
       "      <th>Total number</th>\n",
       "      <th>Unique Words</th>\n",
       "      <th>Phishing Status</th>\n",
       "    </tr>\n",
       "  </thead>\n",
       "  <tbody>\n",
       "    <tr>\n",
       "      <th>0</th>\n",
       "      <td>1673</td>\n",
       "      <td>0.128512</td>\n",
       "      <td>2</td>\n",
       "      <td>0</td>\n",
       "      <td>0</td>\n",
       "      <td>0</td>\n",
       "      <td>1</td>\n",
       "      <td>0</td>\n",
       "      <td>0</td>\n",
       "      <td>1</td>\n",
       "      <td>...</td>\n",
       "      <td>1</td>\n",
       "      <td>1</td>\n",
       "      <td>0</td>\n",
       "      <td>0</td>\n",
       "      <td>0</td>\n",
       "      <td>0</td>\n",
       "      <td>0</td>\n",
       "      <td>0.027907</td>\n",
       "      <td>132</td>\n",
       "      <td>1</td>\n",
       "    </tr>\n",
       "    <tr>\n",
       "      <th>1</th>\n",
       "      <td>4465</td>\n",
       "      <td>0.137738</td>\n",
       "      <td>0</td>\n",
       "      <td>0</td>\n",
       "      <td>0</td>\n",
       "      <td>0</td>\n",
       "      <td>0</td>\n",
       "      <td>0</td>\n",
       "      <td>0</td>\n",
       "      <td>4</td>\n",
       "      <td>...</td>\n",
       "      <td>0</td>\n",
       "      <td>0</td>\n",
       "      <td>0</td>\n",
       "      <td>0</td>\n",
       "      <td>3</td>\n",
       "      <td>1</td>\n",
       "      <td>0</td>\n",
       "      <td>0.013008</td>\n",
       "      <td>338</td>\n",
       "      <td>1</td>\n",
       "    </tr>\n",
       "    <tr>\n",
       "      <th>2</th>\n",
       "      <td>6813</td>\n",
       "      <td>0.095993</td>\n",
       "      <td>0</td>\n",
       "      <td>0</td>\n",
       "      <td>0</td>\n",
       "      <td>2</td>\n",
       "      <td>0</td>\n",
       "      <td>0</td>\n",
       "      <td>0</td>\n",
       "      <td>2</td>\n",
       "      <td>...</td>\n",
       "      <td>0</td>\n",
       "      <td>0</td>\n",
       "      <td>0</td>\n",
       "      <td>0</td>\n",
       "      <td>0</td>\n",
       "      <td>0</td>\n",
       "      <td>0</td>\n",
       "      <td>0.006116</td>\n",
       "      <td>292</td>\n",
       "      <td>1</td>\n",
       "    </tr>\n",
       "    <tr>\n",
       "      <th>3</th>\n",
       "      <td>1518</td>\n",
       "      <td>0.109354</td>\n",
       "      <td>0</td>\n",
       "      <td>0</td>\n",
       "      <td>0</td>\n",
       "      <td>1</td>\n",
       "      <td>1</td>\n",
       "      <td>0</td>\n",
       "      <td>0</td>\n",
       "      <td>0</td>\n",
       "      <td>...</td>\n",
       "      <td>0</td>\n",
       "      <td>0</td>\n",
       "      <td>0</td>\n",
       "      <td>0</td>\n",
       "      <td>0</td>\n",
       "      <td>0</td>\n",
       "      <td>0</td>\n",
       "      <td>0.012048</td>\n",
       "      <td>102</td>\n",
       "      <td>1</td>\n",
       "    </tr>\n",
       "    <tr>\n",
       "      <th>4</th>\n",
       "      <td>1881</td>\n",
       "      <td>0.126528</td>\n",
       "      <td>7</td>\n",
       "      <td>3</td>\n",
       "      <td>0</td>\n",
       "      <td>0</td>\n",
       "      <td>0</td>\n",
       "      <td>1</td>\n",
       "      <td>0</td>\n",
       "      <td>2</td>\n",
       "      <td>...</td>\n",
       "      <td>0</td>\n",
       "      <td>0</td>\n",
       "      <td>0</td>\n",
       "      <td>0</td>\n",
       "      <td>0</td>\n",
       "      <td>0</td>\n",
       "      <td>2</td>\n",
       "      <td>0.063025</td>\n",
       "      <td>136</td>\n",
       "      <td>1</td>\n",
       "    </tr>\n",
       "  </tbody>\n",
       "</table>\n",
       "<p>5 rows × 22 columns</p>\n",
       "</div>"
      ],
      "text/plain": [
       "   Characters  Vocabulary  Account  Access  Bank  Credit  Click  Identity  \\\n",
       "0        1673    0.128512        2       0     0       0      1         0   \n",
       "1        4465    0.137738        0       0     0       0      0         0   \n",
       "2        6813    0.095993        0       0     0       2      0         0   \n",
       "3        1518    0.109354        0       0     0       1      1         0   \n",
       "4        1881    0.126528        7       3     0       0      0         1   \n",
       "\n",
       "   Inconvenience  Information  ...  Password  Recently  Risk  Social  \\\n",
       "0              0            1  ...         1         1     0       0   \n",
       "1              0            4  ...         0         0     0       0   \n",
       "2              0            2  ...         0         0     0       0   \n",
       "3              0            0  ...         0         0     0       0   \n",
       "4              0            2  ...         0         0     0       0   \n",
       "\n",
       "   Security  Service  Suspended  Total number  Unique Words  Phishing Status  \n",
       "0         0        0          0      0.027907           132                1  \n",
       "1         3        1          0      0.013008           338                1  \n",
       "2         0        0          0      0.006116           292                1  \n",
       "3         0        0          0      0.012048           102                1  \n",
       "4         0        0          2      0.063025           136                1  \n",
       "\n",
       "[5 rows x 22 columns]"
      ]
     },
     "execution_count": 62,
     "metadata": {},
     "output_type": "execute_result"
    }
   ],
   "source": [
    "df2.head()"
   ]
  },
  {
   "cell_type": "code",
   "execution_count": 63,
   "id": "8d44ed89",
   "metadata": {},
   "outputs": [
    {
     "data": {
      "text/plain": [
       "0    517402\n",
       "1      8352\n",
       "Name: Phishing Status, dtype: int64"
      ]
     },
     "execution_count": 63,
     "metadata": {},
     "output_type": "execute_result"
    }
   ],
   "source": [
    "df2['Phishing Status'].value_counts()"
   ]
  },
  {
   "cell_type": "code",
   "execution_count": 64,
   "id": "dde067ab",
   "metadata": {},
   "outputs": [],
   "source": [
    "from imblearn.over_sampling import RandomOverSampler\n",
    "ov = RandomOverSampler(random_state=42)"
   ]
  },
  {
   "cell_type": "code",
   "execution_count": 65,
   "id": "d8407b52",
   "metadata": {},
   "outputs": [],
   "source": [
    "x_3, y_3 = ov.fit_resample(x,y)"
   ]
  },
  {
   "cell_type": "code",
   "execution_count": 66,
   "id": "6eded7bf",
   "metadata": {},
   "outputs": [
    {
     "data": {
      "text/plain": [
       "(885690, 21)"
      ]
     },
     "execution_count": 66,
     "metadata": {},
     "output_type": "execute_result"
    }
   ],
   "source": [
    "x_3.shape"
   ]
  },
  {
   "cell_type": "code",
   "execution_count": 67,
   "id": "155f21f3",
   "metadata": {},
   "outputs": [
    {
     "data": {
      "text/plain": [
       "(885690,)"
      ]
     },
     "execution_count": 67,
     "metadata": {},
     "output_type": "execute_result"
    }
   ],
   "source": [
    "y_3.shape"
   ]
  },
  {
   "cell_type": "code",
   "execution_count": 68,
   "id": "80986e80",
   "metadata": {},
   "outputs": [
    {
     "data": {
      "text/plain": [
       "0    517402\n",
       "1      8352\n",
       "Name: Phishing Status, dtype: int64"
      ]
     },
     "execution_count": 68,
     "metadata": {},
     "output_type": "execute_result"
    }
   ],
   "source": [
    "df2['Phishing Status'].value_counts()"
   ]
  },
  {
   "cell_type": "code",
   "execution_count": 69,
   "id": "734a1f3c",
   "metadata": {},
   "outputs": [
    {
     "data": {
      "text/plain": [
       "0    442845\n",
       "1    442845\n",
       "Name: Phishing Status, dtype: int64"
      ]
     },
     "execution_count": 69,
     "metadata": {},
     "output_type": "execute_result"
    }
   ],
   "source": [
    "y_3.value_counts()"
   ]
  },
  {
   "cell_type": "markdown",
   "id": "19e26d4d",
   "metadata": {},
   "source": [
    "# Cross Validation"
   ]
  },
  {
   "cell_type": "markdown",
   "id": "f50d9296",
   "metadata": {},
   "source": [
    "# Hold Out Cross Validation"
   ]
  },
  {
   "cell_type": "code",
   "execution_count": 70,
   "id": "a891ad44",
   "metadata": {},
   "outputs": [],
   "source": [
    "from sklearn.model_selection import train_test_split as tts"
   ]
  },
  {
   "cell_type": "code",
   "execution_count": 74,
   "id": "eb9f0ff0",
   "metadata": {},
   "outputs": [],
   "source": [
    "xtrain, xtest, ytrain,ytest = tts(x_3, y_3, train_size=.75,random_state=42) "
   ]
  },
  {
   "cell_type": "code",
   "execution_count": 76,
   "id": "98769da8",
   "metadata": {},
   "outputs": [],
   "source": [
    "from sklearn.tree import DecisionTreeClassifier\n",
    "dtc = DecisionTreeClassifier()"
   ]
  },
  {
   "cell_type": "code",
   "execution_count": 77,
   "id": "0b60f874",
   "metadata": {},
   "outputs": [
    {
     "data": {
      "text/html": [
       "<style>#sk-container-id-1 {color: black;background-color: white;}#sk-container-id-1 pre{padding: 0;}#sk-container-id-1 div.sk-toggleable {background-color: white;}#sk-container-id-1 label.sk-toggleable__label {cursor: pointer;display: block;width: 100%;margin-bottom: 0;padding: 0.3em;box-sizing: border-box;text-align: center;}#sk-container-id-1 label.sk-toggleable__label-arrow:before {content: \"▸\";float: left;margin-right: 0.25em;color: #696969;}#sk-container-id-1 label.sk-toggleable__label-arrow:hover:before {color: black;}#sk-container-id-1 div.sk-estimator:hover label.sk-toggleable__label-arrow:before {color: black;}#sk-container-id-1 div.sk-toggleable__content {max-height: 0;max-width: 0;overflow: hidden;text-align: left;background-color: #f0f8ff;}#sk-container-id-1 div.sk-toggleable__content pre {margin: 0.2em;color: black;border-radius: 0.25em;background-color: #f0f8ff;}#sk-container-id-1 input.sk-toggleable__control:checked~div.sk-toggleable__content {max-height: 200px;max-width: 100%;overflow: auto;}#sk-container-id-1 input.sk-toggleable__control:checked~label.sk-toggleable__label-arrow:before {content: \"▾\";}#sk-container-id-1 div.sk-estimator input.sk-toggleable__control:checked~label.sk-toggleable__label {background-color: #d4ebff;}#sk-container-id-1 div.sk-label input.sk-toggleable__control:checked~label.sk-toggleable__label {background-color: #d4ebff;}#sk-container-id-1 input.sk-hidden--visually {border: 0;clip: rect(1px 1px 1px 1px);clip: rect(1px, 1px, 1px, 1px);height: 1px;margin: -1px;overflow: hidden;padding: 0;position: absolute;width: 1px;}#sk-container-id-1 div.sk-estimator {font-family: monospace;background-color: #f0f8ff;border: 1px dotted black;border-radius: 0.25em;box-sizing: border-box;margin-bottom: 0.5em;}#sk-container-id-1 div.sk-estimator:hover {background-color: #d4ebff;}#sk-container-id-1 div.sk-parallel-item::after {content: \"\";width: 100%;border-bottom: 1px solid gray;flex-grow: 1;}#sk-container-id-1 div.sk-label:hover label.sk-toggleable__label {background-color: #d4ebff;}#sk-container-id-1 div.sk-serial::before {content: \"\";position: absolute;border-left: 1px solid gray;box-sizing: border-box;top: 0;bottom: 0;left: 50%;z-index: 0;}#sk-container-id-1 div.sk-serial {display: flex;flex-direction: column;align-items: center;background-color: white;padding-right: 0.2em;padding-left: 0.2em;position: relative;}#sk-container-id-1 div.sk-item {position: relative;z-index: 1;}#sk-container-id-1 div.sk-parallel {display: flex;align-items: stretch;justify-content: center;background-color: white;position: relative;}#sk-container-id-1 div.sk-item::before, #sk-container-id-1 div.sk-parallel-item::before {content: \"\";position: absolute;border-left: 1px solid gray;box-sizing: border-box;top: 0;bottom: 0;left: 50%;z-index: -1;}#sk-container-id-1 div.sk-parallel-item {display: flex;flex-direction: column;z-index: 1;position: relative;background-color: white;}#sk-container-id-1 div.sk-parallel-item:first-child::after {align-self: flex-end;width: 50%;}#sk-container-id-1 div.sk-parallel-item:last-child::after {align-self: flex-start;width: 50%;}#sk-container-id-1 div.sk-parallel-item:only-child::after {width: 0;}#sk-container-id-1 div.sk-dashed-wrapped {border: 1px dashed gray;margin: 0 0.4em 0.5em 0.4em;box-sizing: border-box;padding-bottom: 0.4em;background-color: white;}#sk-container-id-1 div.sk-label label {font-family: monospace;font-weight: bold;display: inline-block;line-height: 1.2em;}#sk-container-id-1 div.sk-label-container {text-align: center;}#sk-container-id-1 div.sk-container {/* jupyter's `normalize.less` sets `[hidden] { display: none; }` but bootstrap.min.css set `[hidden] { display: none !important; }` so we also need the `!important` here to be able to override the default hidden behavior on the sphinx rendered scikit-learn.org. See: https://github.com/scikit-learn/scikit-learn/issues/21755 */display: inline-block !important;position: relative;}#sk-container-id-1 div.sk-text-repr-fallback {display: none;}</style><div id=\"sk-container-id-1\" class=\"sk-top-container\"><div class=\"sk-text-repr-fallback\"><pre>DecisionTreeClassifier()</pre><b>In a Jupyter environment, please rerun this cell to show the HTML representation or trust the notebook. <br />On GitHub, the HTML representation is unable to render, please try loading this page with nbviewer.org.</b></div><div class=\"sk-container\" hidden><div class=\"sk-item\"><div class=\"sk-estimator sk-toggleable\"><input class=\"sk-toggleable__control sk-hidden--visually\" id=\"sk-estimator-id-1\" type=\"checkbox\" checked><label for=\"sk-estimator-id-1\" class=\"sk-toggleable__label sk-toggleable__label-arrow\">DecisionTreeClassifier</label><div class=\"sk-toggleable__content\"><pre>DecisionTreeClassifier()</pre></div></div></div></div></div>"
      ],
      "text/plain": [
       "DecisionTreeClassifier()"
      ]
     },
     "execution_count": 77,
     "metadata": {},
     "output_type": "execute_result"
    }
   ],
   "source": [
    "dtc.fit(xtrain, ytrain)"
   ]
  },
  {
   "cell_type": "code",
   "execution_count": 78,
   "id": "0b455d8c",
   "metadata": {},
   "outputs": [
    {
     "data": {
      "text/plain": [
       "0.9979044634026275"
      ]
     },
     "execution_count": 78,
     "metadata": {},
     "output_type": "execute_result"
    }
   ],
   "source": [
    "dtc.score(xtest, ytest)"
   ]
  },
  {
   "cell_type": "markdown",
   "id": "20cc187b",
   "metadata": {},
   "source": [
    "# XGBoost Classifier"
   ]
  },
  {
   "cell_type": "code",
   "execution_count": 79,
   "id": "3b8a209b",
   "metadata": {},
   "outputs": [
    {
     "name": "stdout",
     "output_type": "stream",
     "text": [
      "Requirement already satisfied: xgboost in c:\\users\\raju\\anaconda3\\lib\\site-packages (1.6.1)\n",
      "Requirement already satisfied: scipy in c:\\users\\raju\\anaconda3\\lib\\site-packages (from xgboost) (1.6.2)\n",
      "Requirement already satisfied: numpy in c:\\users\\raju\\anaconda3\\lib\\site-packages (from xgboost) (1.20.1)\n"
     ]
    }
   ],
   "source": [
    "!pip install xgboost"
   ]
  },
  {
   "cell_type": "code",
   "execution_count": 80,
   "id": "f182d45c",
   "metadata": {},
   "outputs": [],
   "source": [
    "import xgboost \n",
    "from xgboost import XGBClassifier\n",
    "xgb = XGBClassifier()"
   ]
  },
  {
   "cell_type": "code",
   "execution_count": 81,
   "id": "300ec927",
   "metadata": {},
   "outputs": [
    {
     "data": {
      "text/html": [
       "<style>#sk-container-id-2 {color: black;background-color: white;}#sk-container-id-2 pre{padding: 0;}#sk-container-id-2 div.sk-toggleable {background-color: white;}#sk-container-id-2 label.sk-toggleable__label {cursor: pointer;display: block;width: 100%;margin-bottom: 0;padding: 0.3em;box-sizing: border-box;text-align: center;}#sk-container-id-2 label.sk-toggleable__label-arrow:before {content: \"▸\";float: left;margin-right: 0.25em;color: #696969;}#sk-container-id-2 label.sk-toggleable__label-arrow:hover:before {color: black;}#sk-container-id-2 div.sk-estimator:hover label.sk-toggleable__label-arrow:before {color: black;}#sk-container-id-2 div.sk-toggleable__content {max-height: 0;max-width: 0;overflow: hidden;text-align: left;background-color: #f0f8ff;}#sk-container-id-2 div.sk-toggleable__content pre {margin: 0.2em;color: black;border-radius: 0.25em;background-color: #f0f8ff;}#sk-container-id-2 input.sk-toggleable__control:checked~div.sk-toggleable__content {max-height: 200px;max-width: 100%;overflow: auto;}#sk-container-id-2 input.sk-toggleable__control:checked~label.sk-toggleable__label-arrow:before {content: \"▾\";}#sk-container-id-2 div.sk-estimator input.sk-toggleable__control:checked~label.sk-toggleable__label {background-color: #d4ebff;}#sk-container-id-2 div.sk-label input.sk-toggleable__control:checked~label.sk-toggleable__label {background-color: #d4ebff;}#sk-container-id-2 input.sk-hidden--visually {border: 0;clip: rect(1px 1px 1px 1px);clip: rect(1px, 1px, 1px, 1px);height: 1px;margin: -1px;overflow: hidden;padding: 0;position: absolute;width: 1px;}#sk-container-id-2 div.sk-estimator {font-family: monospace;background-color: #f0f8ff;border: 1px dotted black;border-radius: 0.25em;box-sizing: border-box;margin-bottom: 0.5em;}#sk-container-id-2 div.sk-estimator:hover {background-color: #d4ebff;}#sk-container-id-2 div.sk-parallel-item::after {content: \"\";width: 100%;border-bottom: 1px solid gray;flex-grow: 1;}#sk-container-id-2 div.sk-label:hover label.sk-toggleable__label {background-color: #d4ebff;}#sk-container-id-2 div.sk-serial::before {content: \"\";position: absolute;border-left: 1px solid gray;box-sizing: border-box;top: 0;bottom: 0;left: 50%;z-index: 0;}#sk-container-id-2 div.sk-serial {display: flex;flex-direction: column;align-items: center;background-color: white;padding-right: 0.2em;padding-left: 0.2em;position: relative;}#sk-container-id-2 div.sk-item {position: relative;z-index: 1;}#sk-container-id-2 div.sk-parallel {display: flex;align-items: stretch;justify-content: center;background-color: white;position: relative;}#sk-container-id-2 div.sk-item::before, #sk-container-id-2 div.sk-parallel-item::before {content: \"\";position: absolute;border-left: 1px solid gray;box-sizing: border-box;top: 0;bottom: 0;left: 50%;z-index: -1;}#sk-container-id-2 div.sk-parallel-item {display: flex;flex-direction: column;z-index: 1;position: relative;background-color: white;}#sk-container-id-2 div.sk-parallel-item:first-child::after {align-self: flex-end;width: 50%;}#sk-container-id-2 div.sk-parallel-item:last-child::after {align-self: flex-start;width: 50%;}#sk-container-id-2 div.sk-parallel-item:only-child::after {width: 0;}#sk-container-id-2 div.sk-dashed-wrapped {border: 1px dashed gray;margin: 0 0.4em 0.5em 0.4em;box-sizing: border-box;padding-bottom: 0.4em;background-color: white;}#sk-container-id-2 div.sk-label label {font-family: monospace;font-weight: bold;display: inline-block;line-height: 1.2em;}#sk-container-id-2 div.sk-label-container {text-align: center;}#sk-container-id-2 div.sk-container {/* jupyter's `normalize.less` sets `[hidden] { display: none; }` but bootstrap.min.css set `[hidden] { display: none !important; }` so we also need the `!important` here to be able to override the default hidden behavior on the sphinx rendered scikit-learn.org. See: https://github.com/scikit-learn/scikit-learn/issues/21755 */display: inline-block !important;position: relative;}#sk-container-id-2 div.sk-text-repr-fallback {display: none;}</style><div id=\"sk-container-id-2\" class=\"sk-top-container\"><div class=\"sk-text-repr-fallback\"><pre>XGBClassifier(base_score=0.5, booster=&#x27;gbtree&#x27;, callbacks=None,\n",
       "              colsample_bylevel=1, colsample_bynode=1, colsample_bytree=1,\n",
       "              early_stopping_rounds=None, enable_categorical=False,\n",
       "              eval_metric=None, gamma=0, gpu_id=-1, grow_policy=&#x27;depthwise&#x27;,\n",
       "              importance_type=None, interaction_constraints=&#x27;&#x27;,\n",
       "              learning_rate=0.300000012, max_bin=256, max_cat_to_onehot=4,\n",
       "              max_delta_step=0, max_depth=6, max_leaves=0, min_child_weight=1,\n",
       "              missing=nan, monotone_constraints=&#x27;()&#x27;, n_estimators=100,\n",
       "              n_jobs=0, num_parallel_tree=1, predictor=&#x27;auto&#x27;, random_state=0,\n",
       "              reg_alpha=0, reg_lambda=1, ...)</pre><b>In a Jupyter environment, please rerun this cell to show the HTML representation or trust the notebook. <br />On GitHub, the HTML representation is unable to render, please try loading this page with nbviewer.org.</b></div><div class=\"sk-container\" hidden><div class=\"sk-item\"><div class=\"sk-estimator sk-toggleable\"><input class=\"sk-toggleable__control sk-hidden--visually\" id=\"sk-estimator-id-2\" type=\"checkbox\" checked><label for=\"sk-estimator-id-2\" class=\"sk-toggleable__label sk-toggleable__label-arrow\">XGBClassifier</label><div class=\"sk-toggleable__content\"><pre>XGBClassifier(base_score=0.5, booster=&#x27;gbtree&#x27;, callbacks=None,\n",
       "              colsample_bylevel=1, colsample_bynode=1, colsample_bytree=1,\n",
       "              early_stopping_rounds=None, enable_categorical=False,\n",
       "              eval_metric=None, gamma=0, gpu_id=-1, grow_policy=&#x27;depthwise&#x27;,\n",
       "              importance_type=None, interaction_constraints=&#x27;&#x27;,\n",
       "              learning_rate=0.300000012, max_bin=256, max_cat_to_onehot=4,\n",
       "              max_delta_step=0, max_depth=6, max_leaves=0, min_child_weight=1,\n",
       "              missing=nan, monotone_constraints=&#x27;()&#x27;, n_estimators=100,\n",
       "              n_jobs=0, num_parallel_tree=1, predictor=&#x27;auto&#x27;, random_state=0,\n",
       "              reg_alpha=0, reg_lambda=1, ...)</pre></div></div></div></div></div>"
      ],
      "text/plain": [
       "XGBClassifier(base_score=0.5, booster='gbtree', callbacks=None,\n",
       "              colsample_bylevel=1, colsample_bynode=1, colsample_bytree=1,\n",
       "              early_stopping_rounds=None, enable_categorical=False,\n",
       "              eval_metric=None, gamma=0, gpu_id=-1, grow_policy='depthwise',\n",
       "              importance_type=None, interaction_constraints='',\n",
       "              learning_rate=0.300000012, max_bin=256, max_cat_to_onehot=4,\n",
       "              max_delta_step=0, max_depth=6, max_leaves=0, min_child_weight=1,\n",
       "              missing=nan, monotone_constraints='()', n_estimators=100,\n",
       "              n_jobs=0, num_parallel_tree=1, predictor='auto', random_state=0,\n",
       "              reg_alpha=0, reg_lambda=1, ...)"
      ]
     },
     "execution_count": 81,
     "metadata": {},
     "output_type": "execute_result"
    }
   ],
   "source": [
    "xgb.fit(xtrain, ytrain)"
   ]
  },
  {
   "cell_type": "code",
   "execution_count": 82,
   "id": "c0e8e628",
   "metadata": {},
   "outputs": [
    {
     "data": {
      "text/plain": [
       "0.9780600931249238"
      ]
     },
     "execution_count": 82,
     "metadata": {},
     "output_type": "execute_result"
    }
   ],
   "source": [
    "xgb.score(xtest,ytest)"
   ]
  },
  {
   "cell_type": "markdown",
   "id": "3980a4ba",
   "metadata": {},
   "source": [
    "# Ada Boost"
   ]
  },
  {
   "cell_type": "code",
   "execution_count": 85,
   "id": "ca7a7902",
   "metadata": {},
   "outputs": [],
   "source": [
    "from sklearn.ensemble import AdaBoostClassifier\n",
    "ada = AdaBoostClassifier()"
   ]
  },
  {
   "cell_type": "code",
   "execution_count": 86,
   "id": "97909712",
   "metadata": {},
   "outputs": [
    {
     "data": {
      "text/html": [
       "<style>#sk-container-id-3 {color: black;background-color: white;}#sk-container-id-3 pre{padding: 0;}#sk-container-id-3 div.sk-toggleable {background-color: white;}#sk-container-id-3 label.sk-toggleable__label {cursor: pointer;display: block;width: 100%;margin-bottom: 0;padding: 0.3em;box-sizing: border-box;text-align: center;}#sk-container-id-3 label.sk-toggleable__label-arrow:before {content: \"▸\";float: left;margin-right: 0.25em;color: #696969;}#sk-container-id-3 label.sk-toggleable__label-arrow:hover:before {color: black;}#sk-container-id-3 div.sk-estimator:hover label.sk-toggleable__label-arrow:before {color: black;}#sk-container-id-3 div.sk-toggleable__content {max-height: 0;max-width: 0;overflow: hidden;text-align: left;background-color: #f0f8ff;}#sk-container-id-3 div.sk-toggleable__content pre {margin: 0.2em;color: black;border-radius: 0.25em;background-color: #f0f8ff;}#sk-container-id-3 input.sk-toggleable__control:checked~div.sk-toggleable__content {max-height: 200px;max-width: 100%;overflow: auto;}#sk-container-id-3 input.sk-toggleable__control:checked~label.sk-toggleable__label-arrow:before {content: \"▾\";}#sk-container-id-3 div.sk-estimator input.sk-toggleable__control:checked~label.sk-toggleable__label {background-color: #d4ebff;}#sk-container-id-3 div.sk-label input.sk-toggleable__control:checked~label.sk-toggleable__label {background-color: #d4ebff;}#sk-container-id-3 input.sk-hidden--visually {border: 0;clip: rect(1px 1px 1px 1px);clip: rect(1px, 1px, 1px, 1px);height: 1px;margin: -1px;overflow: hidden;padding: 0;position: absolute;width: 1px;}#sk-container-id-3 div.sk-estimator {font-family: monospace;background-color: #f0f8ff;border: 1px dotted black;border-radius: 0.25em;box-sizing: border-box;margin-bottom: 0.5em;}#sk-container-id-3 div.sk-estimator:hover {background-color: #d4ebff;}#sk-container-id-3 div.sk-parallel-item::after {content: \"\";width: 100%;border-bottom: 1px solid gray;flex-grow: 1;}#sk-container-id-3 div.sk-label:hover label.sk-toggleable__label {background-color: #d4ebff;}#sk-container-id-3 div.sk-serial::before {content: \"\";position: absolute;border-left: 1px solid gray;box-sizing: border-box;top: 0;bottom: 0;left: 50%;z-index: 0;}#sk-container-id-3 div.sk-serial {display: flex;flex-direction: column;align-items: center;background-color: white;padding-right: 0.2em;padding-left: 0.2em;position: relative;}#sk-container-id-3 div.sk-item {position: relative;z-index: 1;}#sk-container-id-3 div.sk-parallel {display: flex;align-items: stretch;justify-content: center;background-color: white;position: relative;}#sk-container-id-3 div.sk-item::before, #sk-container-id-3 div.sk-parallel-item::before {content: \"\";position: absolute;border-left: 1px solid gray;box-sizing: border-box;top: 0;bottom: 0;left: 50%;z-index: -1;}#sk-container-id-3 div.sk-parallel-item {display: flex;flex-direction: column;z-index: 1;position: relative;background-color: white;}#sk-container-id-3 div.sk-parallel-item:first-child::after {align-self: flex-end;width: 50%;}#sk-container-id-3 div.sk-parallel-item:last-child::after {align-self: flex-start;width: 50%;}#sk-container-id-3 div.sk-parallel-item:only-child::after {width: 0;}#sk-container-id-3 div.sk-dashed-wrapped {border: 1px dashed gray;margin: 0 0.4em 0.5em 0.4em;box-sizing: border-box;padding-bottom: 0.4em;background-color: white;}#sk-container-id-3 div.sk-label label {font-family: monospace;font-weight: bold;display: inline-block;line-height: 1.2em;}#sk-container-id-3 div.sk-label-container {text-align: center;}#sk-container-id-3 div.sk-container {/* jupyter's `normalize.less` sets `[hidden] { display: none; }` but bootstrap.min.css set `[hidden] { display: none !important; }` so we also need the `!important` here to be able to override the default hidden behavior on the sphinx rendered scikit-learn.org. See: https://github.com/scikit-learn/scikit-learn/issues/21755 */display: inline-block !important;position: relative;}#sk-container-id-3 div.sk-text-repr-fallback {display: none;}</style><div id=\"sk-container-id-3\" class=\"sk-top-container\"><div class=\"sk-text-repr-fallback\"><pre>AdaBoostClassifier()</pre><b>In a Jupyter environment, please rerun this cell to show the HTML representation or trust the notebook. <br />On GitHub, the HTML representation is unable to render, please try loading this page with nbviewer.org.</b></div><div class=\"sk-container\" hidden><div class=\"sk-item\"><div class=\"sk-estimator sk-toggleable\"><input class=\"sk-toggleable__control sk-hidden--visually\" id=\"sk-estimator-id-3\" type=\"checkbox\" checked><label for=\"sk-estimator-id-3\" class=\"sk-toggleable__label sk-toggleable__label-arrow\">AdaBoostClassifier</label><div class=\"sk-toggleable__content\"><pre>AdaBoostClassifier()</pre></div></div></div></div></div>"
      ],
      "text/plain": [
       "AdaBoostClassifier()"
      ]
     },
     "execution_count": 86,
     "metadata": {},
     "output_type": "execute_result"
    }
   ],
   "source": [
    "ada.fit(xtrain,ytrain)"
   ]
  },
  {
   "cell_type": "code",
   "execution_count": 87,
   "id": "c51c2e09",
   "metadata": {},
   "outputs": [
    {
     "data": {
      "text/plain": [
       "0.9222799799478826"
      ]
     },
     "execution_count": 87,
     "metadata": {},
     "output_type": "execute_result"
    }
   ],
   "source": [
    "ada.score(xtest,ytest)"
   ]
  },
  {
   "cell_type": "markdown",
   "id": "6314bd3c",
   "metadata": {},
   "source": [
    "# Before Sampling"
   ]
  },
  {
   "cell_type": "code",
   "execution_count": 89,
   "id": "d7369606",
   "metadata": {},
   "outputs": [],
   "source": [
    "xtrain1, xtest1, ytrain1, ytest1 = tts (x, y, train_size=.75, random_state=3) "
   ]
  },
  {
   "cell_type": "code",
   "execution_count": 91,
   "id": "e80c6185",
   "metadata": {},
   "outputs": [
    {
     "data": {
      "text/html": [
       "<style>#sk-container-id-5 {color: black;background-color: white;}#sk-container-id-5 pre{padding: 0;}#sk-container-id-5 div.sk-toggleable {background-color: white;}#sk-container-id-5 label.sk-toggleable__label {cursor: pointer;display: block;width: 100%;margin-bottom: 0;padding: 0.3em;box-sizing: border-box;text-align: center;}#sk-container-id-5 label.sk-toggleable__label-arrow:before {content: \"▸\";float: left;margin-right: 0.25em;color: #696969;}#sk-container-id-5 label.sk-toggleable__label-arrow:hover:before {color: black;}#sk-container-id-5 div.sk-estimator:hover label.sk-toggleable__label-arrow:before {color: black;}#sk-container-id-5 div.sk-toggleable__content {max-height: 0;max-width: 0;overflow: hidden;text-align: left;background-color: #f0f8ff;}#sk-container-id-5 div.sk-toggleable__content pre {margin: 0.2em;color: black;border-radius: 0.25em;background-color: #f0f8ff;}#sk-container-id-5 input.sk-toggleable__control:checked~div.sk-toggleable__content {max-height: 200px;max-width: 100%;overflow: auto;}#sk-container-id-5 input.sk-toggleable__control:checked~label.sk-toggleable__label-arrow:before {content: \"▾\";}#sk-container-id-5 div.sk-estimator input.sk-toggleable__control:checked~label.sk-toggleable__label {background-color: #d4ebff;}#sk-container-id-5 div.sk-label input.sk-toggleable__control:checked~label.sk-toggleable__label {background-color: #d4ebff;}#sk-container-id-5 input.sk-hidden--visually {border: 0;clip: rect(1px 1px 1px 1px);clip: rect(1px, 1px, 1px, 1px);height: 1px;margin: -1px;overflow: hidden;padding: 0;position: absolute;width: 1px;}#sk-container-id-5 div.sk-estimator {font-family: monospace;background-color: #f0f8ff;border: 1px dotted black;border-radius: 0.25em;box-sizing: border-box;margin-bottom: 0.5em;}#sk-container-id-5 div.sk-estimator:hover {background-color: #d4ebff;}#sk-container-id-5 div.sk-parallel-item::after {content: \"\";width: 100%;border-bottom: 1px solid gray;flex-grow: 1;}#sk-container-id-5 div.sk-label:hover label.sk-toggleable__label {background-color: #d4ebff;}#sk-container-id-5 div.sk-serial::before {content: \"\";position: absolute;border-left: 1px solid gray;box-sizing: border-box;top: 0;bottom: 0;left: 50%;z-index: 0;}#sk-container-id-5 div.sk-serial {display: flex;flex-direction: column;align-items: center;background-color: white;padding-right: 0.2em;padding-left: 0.2em;position: relative;}#sk-container-id-5 div.sk-item {position: relative;z-index: 1;}#sk-container-id-5 div.sk-parallel {display: flex;align-items: stretch;justify-content: center;background-color: white;position: relative;}#sk-container-id-5 div.sk-item::before, #sk-container-id-5 div.sk-parallel-item::before {content: \"\";position: absolute;border-left: 1px solid gray;box-sizing: border-box;top: 0;bottom: 0;left: 50%;z-index: -1;}#sk-container-id-5 div.sk-parallel-item {display: flex;flex-direction: column;z-index: 1;position: relative;background-color: white;}#sk-container-id-5 div.sk-parallel-item:first-child::after {align-self: flex-end;width: 50%;}#sk-container-id-5 div.sk-parallel-item:last-child::after {align-self: flex-start;width: 50%;}#sk-container-id-5 div.sk-parallel-item:only-child::after {width: 0;}#sk-container-id-5 div.sk-dashed-wrapped {border: 1px dashed gray;margin: 0 0.4em 0.5em 0.4em;box-sizing: border-box;padding-bottom: 0.4em;background-color: white;}#sk-container-id-5 div.sk-label label {font-family: monospace;font-weight: bold;display: inline-block;line-height: 1.2em;}#sk-container-id-5 div.sk-label-container {text-align: center;}#sk-container-id-5 div.sk-container {/* jupyter's `normalize.less` sets `[hidden] { display: none; }` but bootstrap.min.css set `[hidden] { display: none !important; }` so we also need the `!important` here to be able to override the default hidden behavior on the sphinx rendered scikit-learn.org. See: https://github.com/scikit-learn/scikit-learn/issues/21755 */display: inline-block !important;position: relative;}#sk-container-id-5 div.sk-text-repr-fallback {display: none;}</style><div id=\"sk-container-id-5\" class=\"sk-top-container\"><div class=\"sk-text-repr-fallback\"><pre>DecisionTreeClassifier()</pre><b>In a Jupyter environment, please rerun this cell to show the HTML representation or trust the notebook. <br />On GitHub, the HTML representation is unable to render, please try loading this page with nbviewer.org.</b></div><div class=\"sk-container\" hidden><div class=\"sk-item\"><div class=\"sk-estimator sk-toggleable\"><input class=\"sk-toggleable__control sk-hidden--visually\" id=\"sk-estimator-id-5\" type=\"checkbox\" checked><label for=\"sk-estimator-id-5\" class=\"sk-toggleable__label sk-toggleable__label-arrow\">DecisionTreeClassifier</label><div class=\"sk-toggleable__content\"><pre>DecisionTreeClassifier()</pre></div></div></div></div></div>"
      ],
      "text/plain": [
       "DecisionTreeClassifier()"
      ]
     },
     "execution_count": 91,
     "metadata": {},
     "output_type": "execute_result"
    }
   ],
   "source": [
    "dtc.fit(xtrain1, ytrain1)"
   ]
  },
  {
   "cell_type": "code",
   "execution_count": 92,
   "id": "1373961e",
   "metadata": {},
   "outputs": [
    {
     "data": {
      "text/plain": [
       "0.9913010321711063"
      ]
     },
     "execution_count": 92,
     "metadata": {},
     "output_type": "execute_result"
    }
   ],
   "source": [
    "dtc.score(xtest1, ytest1)"
   ]
  },
  {
   "cell_type": "markdown",
   "id": "954768d9",
   "metadata": {},
   "source": [
    "# Cross Validation"
   ]
  },
  {
   "cell_type": "markdown",
   "id": "016eeb77",
   "metadata": {},
   "source": [
    "# K Fold Cross Validation"
   ]
  },
  {
   "cell_type": "code",
   "execution_count": 93,
   "id": "50befc04",
   "metadata": {},
   "outputs": [],
   "source": [
    "from sklearn.model_selection import KFold, cross_val_score, cross_validate"
   ]
  },
  {
   "cell_type": "code",
   "execution_count": 94,
   "id": "3827a111",
   "metadata": {},
   "outputs": [],
   "source": [
    "fld = KFold(n_splits=4)"
   ]
  },
  {
   "cell_type": "code",
   "execution_count": 95,
   "id": "1c7ce24c",
   "metadata": {},
   "outputs": [
    {
     "data": {
      "text/plain": [
       "array([0.95279623, 0.95152717, 0.97210304, 0.97267661])"
      ]
     },
     "execution_count": 95,
     "metadata": {},
     "output_type": "execute_result"
    }
   ],
   "source": [
    "cr_val_sc = cross_val_score(xgb, x_3, y_3, cv=fld)\n",
    "cr_val_sc"
   ]
  },
  {
   "cell_type": "code",
   "execution_count": 97,
   "id": "4e02cef6",
   "metadata": {},
   "outputs": [
    {
     "data": {
      "text/plain": [
       "{'fit_time': array([49.7508471 , 47.5845027 , 47.30438209, 47.12333894]),\n",
       " 'score_time': array([0.40211439, 0.3241241 , 0.3324101 , 0.33353209]),\n",
       " 'test_score': array([0.95279623, 0.95152717, 0.97210304, 0.97267661])}"
      ]
     },
     "execution_count": 97,
     "metadata": {},
     "output_type": "execute_result"
    }
   ],
   "source": [
    "cr_val_vali = cross_validate(xgb, x_3, y_3, cv=fld)\n",
    "cr_val_vali"
   ]
  },
  {
   "cell_type": "code",
   "execution_count": 98,
   "id": "acaacf6d",
   "metadata": {},
   "outputs": [
    {
     "data": {
      "text/plain": [
       "0.97267660846709"
      ]
     },
     "execution_count": 98,
     "metadata": {},
     "output_type": "execute_result"
    }
   ],
   "source": [
    "cr_val_sc.max()"
   ]
  },
  {
   "cell_type": "code",
   "execution_count": 99,
   "id": "d44e6fa1",
   "metadata": {},
   "outputs": [
    {
     "data": {
      "text/plain": [
       "0.9515271674577619"
      ]
     },
     "execution_count": 99,
     "metadata": {},
     "output_type": "execute_result"
    }
   ],
   "source": [
    "cr_val_sc.min()"
   ]
  },
  {
   "cell_type": "code",
   "execution_count": 100,
   "id": "d9754591",
   "metadata": {},
   "outputs": [
    {
     "data": {
      "text/plain": [
       "0.9622757626575057"
      ]
     },
     "execution_count": 100,
     "metadata": {},
     "output_type": "execute_result"
    }
   ],
   "source": [
    "cr_val_sc.mean()"
   ]
  },
  {
   "cell_type": "markdown",
   "id": "10914b04",
   "metadata": {},
   "source": [
    "# Stratified k fold cross Validation"
   ]
  },
  {
   "cell_type": "code",
   "execution_count": 101,
   "id": "20a489c1",
   "metadata": {},
   "outputs": [],
   "source": [
    "from sklearn.model_selection import StratifiedKFold"
   ]
  },
  {
   "cell_type": "code",
   "execution_count": 102,
   "id": "3f0a7bb2",
   "metadata": {},
   "outputs": [],
   "source": [
    "stf = StratifiedKFold(n_splits=4)"
   ]
  },
  {
   "cell_type": "code",
   "execution_count": 103,
   "id": "777446ab",
   "metadata": {},
   "outputs": [
    {
     "data": {
      "text/plain": [
       "array([0.97876011, 0.9755039 , 0.97790192, 0.97752707])"
      ]
     },
     "execution_count": 103,
     "metadata": {},
     "output_type": "execute_result"
    }
   ],
   "source": [
    "cr_val_sc_1 = cross_val_score(xgb, x_3, y_3, cv=stf)\n",
    "cr_val_sc_1"
   ]
  },
  {
   "cell_type": "code",
   "execution_count": 104,
   "id": "3715e6eb",
   "metadata": {},
   "outputs": [
    {
     "data": {
      "text/plain": [
       "{'fit_time': array([48.11829376, 47.32828307, 47.30767393, 47.31029606]),\n",
       " 'score_time': array([0.34261012, 0.34025574, 0.32948065, 0.32143927]),\n",
       " 'test_score': array([0.97876011, 0.9755039 , 0.97790192, 0.97752707])}"
      ]
     },
     "execution_count": 104,
     "metadata": {},
     "output_type": "execute_result"
    }
   ],
   "source": [
    "cr_val_vali_1 = cross_validate(xgb, x_3, y_3, cv=stf)\n",
    "cr_val_vali_1"
   ]
  },
  {
   "cell_type": "code",
   "execution_count": 105,
   "id": "51b6e886",
   "metadata": {},
   "outputs": [
    {
     "data": {
      "text/plain": [
       "0.9774232525855487"
      ]
     },
     "execution_count": 105,
     "metadata": {},
     "output_type": "execute_result"
    }
   ],
   "source": [
    "cr_val_sc_1.mean()"
   ]
  },
  {
   "cell_type": "code",
   "execution_count": 106,
   "id": "b28ef6e5",
   "metadata": {},
   "outputs": [
    {
     "data": {
      "text/plain": [
       "0.9787601107382702"
      ]
     },
     "execution_count": 106,
     "metadata": {},
     "output_type": "execute_result"
    }
   ],
   "source": [
    "cr_val_sc_1.max()"
   ]
  },
  {
   "cell_type": "code",
   "execution_count": 107,
   "id": "1d7b6c92",
   "metadata": {},
   "outputs": [
    {
     "data": {
      "text/plain": [
       "0.9755038997755427"
      ]
     },
     "execution_count": 107,
     "metadata": {},
     "output_type": "execute_result"
    }
   ],
   "source": [
    "cr_val_sc_1.min()"
   ]
  },
  {
   "cell_type": "code",
   "execution_count": 108,
   "id": "da228e51",
   "metadata": {},
   "outputs": [],
   "source": []
  },
  {
   "cell_type": "code",
   "execution_count": null,
   "id": "b9d3b2a2",
   "metadata": {},
   "outputs": [],
   "source": []
  },
  {
   "cell_type": "code",
   "execution_count": null,
   "id": "0d6f940e",
   "metadata": {},
   "outputs": [],
   "source": []
  },
  {
   "cell_type": "code",
   "execution_count": null,
   "id": "2cc314eb",
   "metadata": {},
   "outputs": [],
   "source": []
  },
  {
   "cell_type": "code",
   "execution_count": null,
   "id": "f2c0008f",
   "metadata": {},
   "outputs": [],
   "source": []
  }
 ],
 "metadata": {
  "kernelspec": {
   "display_name": "Python 3",
   "language": "python",
   "name": "python3"
  },
  "language_info": {
   "codemirror_mode": {
    "name": "ipython",
    "version": 3
   },
   "file_extension": ".py",
   "mimetype": "text/x-python",
   "name": "python",
   "nbconvert_exporter": "python",
   "pygments_lexer": "ipython3",
   "version": "3.8.8"
  }
 },
 "nbformat": 4,
 "nbformat_minor": 5
}
