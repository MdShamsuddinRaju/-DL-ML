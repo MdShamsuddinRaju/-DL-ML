{
 "cells": [
  {
   "cell_type": "code",
   "execution_count": 1,
   "id": "2dcd7571",
   "metadata": {},
   "outputs": [],
   "source": [
    "import pandas as pd\n",
    "import numpy as np"
   ]
  },
  {
   "cell_type": "code",
   "execution_count": 2,
   "id": "9c2bf2f1",
   "metadata": {},
   "outputs": [],
   "source": [
    "df = pd.read_csv('supershops.csv')"
   ]
  },
  {
   "cell_type": "code",
   "execution_count": 3,
   "id": "8bd71c24",
   "metadata": {},
   "outputs": [
    {
     "data": {
      "text/html": [
       "<div>\n",
       "<style scoped>\n",
       "    .dataframe tbody tr th:only-of-type {\n",
       "        vertical-align: middle;\n",
       "    }\n",
       "\n",
       "    .dataframe tbody tr th {\n",
       "        vertical-align: top;\n",
       "    }\n",
       "\n",
       "    .dataframe thead th {\n",
       "        text-align: right;\n",
       "    }\n",
       "</style>\n",
       "<table border=\"1\" class=\"dataframe\">\n",
       "  <thead>\n",
       "    <tr style=\"text-align: right;\">\n",
       "      <th></th>\n",
       "      <th>Marketing Spend</th>\n",
       "      <th>Administration</th>\n",
       "      <th>Transport</th>\n",
       "      <th>Area</th>\n",
       "      <th>Profit</th>\n",
       "    </tr>\n",
       "  </thead>\n",
       "  <tbody>\n",
       "    <tr>\n",
       "      <th>0</th>\n",
       "      <td>114523.61</td>\n",
       "      <td>136897.80</td>\n",
       "      <td>471784.10</td>\n",
       "      <td>Dhaka</td>\n",
       "      <td>192261.83</td>\n",
       "    </tr>\n",
       "    <tr>\n",
       "      <th>1</th>\n",
       "      <td>162597.70</td>\n",
       "      <td>151377.59</td>\n",
       "      <td>443898.53</td>\n",
       "      <td>Ctg</td>\n",
       "      <td>191792.06</td>\n",
       "    </tr>\n",
       "    <tr>\n",
       "      <th>2</th>\n",
       "      <td>153441.51</td>\n",
       "      <td>101145.55</td>\n",
       "      <td>407934.54</td>\n",
       "      <td>Rangpur</td>\n",
       "      <td>191050.39</td>\n",
       "    </tr>\n",
       "    <tr>\n",
       "      <th>3</th>\n",
       "      <td>144372.41</td>\n",
       "      <td>118671.85</td>\n",
       "      <td>383199.62</td>\n",
       "      <td>Dhaka</td>\n",
       "      <td>182901.99</td>\n",
       "    </tr>\n",
       "    <tr>\n",
       "      <th>4</th>\n",
       "      <td>142107.34</td>\n",
       "      <td>91391.77</td>\n",
       "      <td>366168.42</td>\n",
       "      <td>Rangpur</td>\n",
       "      <td>166187.94</td>\n",
       "    </tr>\n",
       "  </tbody>\n",
       "</table>\n",
       "</div>"
      ],
      "text/plain": [
       "   Marketing Spend  Administration  Transport     Area     Profit\n",
       "0        114523.61       136897.80  471784.10    Dhaka  192261.83\n",
       "1        162597.70       151377.59  443898.53      Ctg  191792.06\n",
       "2        153441.51       101145.55  407934.54  Rangpur  191050.39\n",
       "3        144372.41       118671.85  383199.62    Dhaka  182901.99\n",
       "4        142107.34        91391.77  366168.42  Rangpur  166187.94"
      ]
     },
     "execution_count": 3,
     "metadata": {},
     "output_type": "execute_result"
    }
   ],
   "source": [
    "df.head()"
   ]
  },
  {
   "cell_type": "code",
   "execution_count": 4,
   "id": "2d6f722d",
   "metadata": {},
   "outputs": [
    {
     "data": {
      "text/plain": [
       "(50, 5)"
      ]
     },
     "execution_count": 4,
     "metadata": {},
     "output_type": "execute_result"
    }
   ],
   "source": [
    "df.shape"
   ]
  },
  {
   "cell_type": "code",
   "execution_count": 5,
   "id": "a42a3a75",
   "metadata": {},
   "outputs": [
    {
     "data": {
      "text/plain": [
       "Marketing Spend    0\n",
       "Administration     0\n",
       "Transport          1\n",
       "Area               0\n",
       "Profit             0\n",
       "dtype: int64"
      ]
     },
     "execution_count": 5,
     "metadata": {},
     "output_type": "execute_result"
    }
   ],
   "source": [
    "df.isnull().sum()"
   ]
  },
  {
   "cell_type": "code",
   "execution_count": 6,
   "id": "15ef4115",
   "metadata": {},
   "outputs": [],
   "source": [
    "df.dropna(inplace=True)"
   ]
  },
  {
   "cell_type": "code",
   "execution_count": 7,
   "id": "45e7d9c3",
   "metadata": {},
   "outputs": [],
   "source": [
    "df.drop_duplicates(inplace=True)"
   ]
  },
  {
   "cell_type": "code",
   "execution_count": 8,
   "id": "a9f0b6b1",
   "metadata": {},
   "outputs": [
    {
     "data": {
      "text/plain": [
       "(49, 5)"
      ]
     },
     "execution_count": 8,
     "metadata": {},
     "output_type": "execute_result"
    }
   ],
   "source": [
    "df.shape"
   ]
  },
  {
   "cell_type": "code",
   "execution_count": 9,
   "id": "a936d777",
   "metadata": {},
   "outputs": [],
   "source": [
    "from sklearn.preprocessing import LabelEncoder\n",
    "lab = LabelEncoder()\n",
    "df['Area'] = lab.fit_transform(df['Area'])"
   ]
  },
  {
   "cell_type": "markdown",
   "id": "da804f55",
   "metadata": {},
   "source": [
    "# For X1"
   ]
  },
  {
   "cell_type": "code",
   "execution_count": 10,
   "id": "b94d7ed2",
   "metadata": {},
   "outputs": [],
   "source": [
    "x1 = df['Marketing Spend']\n",
    "y1 = df['Profit']"
   ]
  },
  {
   "cell_type": "code",
   "execution_count": 11,
   "id": "bf196084",
   "metadata": {
    "scrolled": false
   },
   "outputs": [
    {
     "data": {
      "text/plain": [
       "0    114523.61\n",
       "1    162597.70\n",
       "2    153441.51\n",
       "3    144372.41\n",
       "4    142107.34\n",
       "Name: Marketing Spend, dtype: float64"
      ]
     },
     "execution_count": 11,
     "metadata": {},
     "output_type": "execute_result"
    }
   ],
   "source": [
    "x1.head()"
   ]
  },
  {
   "cell_type": "code",
   "execution_count": 12,
   "id": "5ba4cb64",
   "metadata": {
    "scrolled": true
   },
   "outputs": [
    {
     "data": {
      "text/plain": [
       "0    192261.83\n",
       "1    191792.06\n",
       "2    191050.39\n",
       "3    182901.99\n",
       "4    166187.94\n",
       "Name: Profit, dtype: float64"
      ]
     },
     "execution_count": 12,
     "metadata": {},
     "output_type": "execute_result"
    }
   ],
   "source": [
    "y1.head()"
   ]
  },
  {
   "cell_type": "code",
   "execution_count": 13,
   "id": "7da438db",
   "metadata": {
    "scrolled": true
   },
   "outputs": [
    {
     "data": {
      "text/plain": [
       "(49,)"
      ]
     },
     "execution_count": 13,
     "metadata": {},
     "output_type": "execute_result"
    }
   ],
   "source": [
    "x1.shape"
   ]
  },
  {
   "cell_type": "code",
   "execution_count": 14,
   "id": "bc464815",
   "metadata": {},
   "outputs": [
    {
     "name": "stdout",
     "output_type": "stream",
     "text": [
      "1989015.952038689 22.358592244897963\n",
      "-2983676685979.3096 -29223560.634441577\n",
      "4.4757471611980636e+18 43837623197910.93\n",
      "-6.713968958197818e+24 -6.5759845395981705e+19\n",
      "1.0071475788989303e+31 9.864488425801201e+25\n",
      "-1.510799725166216e+37 -1.4797500103111857e+32\n",
      "2.2663171290722725e+43 2.219740141099215e+38\n",
      "-3.3996520147376305e+49 -3.329782909054334e+44\n",
      "5.099742517518195e+55 4.994933423125756e+50\n",
      "-7.650010539972851e+61 -7.492788744160037e+56\n",
      "1.1475610986371122e+68 1.1239766060681263e+63\n",
      "-1.721430929047961e+74 -1.6860523553037212e+69\n",
      "2.5822803221565154e+80 2.5292097090612573e+75\n",
      "-3.873621386531374e+86 -3.7940113379559982e+81\n",
      "5.810733450372389e+92 5.691312183789352e+87\n",
      "-8.716552254868422e+98 -8.537411063932039e+93\n",
      "1.3075506536439496e+105 1.2806780812719313e+100\n",
      "-1.9614277088625418e+111 -1.9211167595987433e+106\n",
      "2.942294163803283e+117 2.8818246036862654e+112\n",
      "-4.413670158341562e+123 -4.322961113590057e+118\n",
      "6.620848624276868e+129 6.4847779999196245e+124\n",
      "-9.93178804327783e+135 -9.727671520347926e+130\n",
      "1.489845476528622e+142 1.4592264100476693e+137\n",
      "-2.2348841258600213e+148 -2.188953143952837e+143\n",
      "3.352500064408631e+154 3.2836000180838875e+149\n",
      "-5.029010923568495e+160 -4.925655493607412e+155\n",
      "7.543907646078593e+166 7.38886646000897e+161\n"
     ]
    }
   ],
   "source": [
    "m1 = 0\n",
    "c = 0\n",
    "l = 0.0001\n",
    "n = int(len(x1))\n",
    "iteration = 27\n",
    "\n",
    "#loop\n",
    "for i in range(iteration):\n",
    "    predy1 = (m1*x1) + c\n",
    "    der_m1 = (-2/n) * sum(x1*(y1-predy1))\n",
    "    der_c1 = (-2/n) * sum(y1-predy1)\n",
    "    \n",
    "    m1 = (m1 - (l * der_m1))\n",
    "    c = (c - (l * der_c1))\n",
    "    \n",
    "    print(m1,c)"
   ]
  },
  {
   "cell_type": "markdown",
   "id": "dacc5027",
   "metadata": {},
   "source": [
    "# For X2"
   ]
  },
  {
   "cell_type": "code",
   "execution_count": 15,
   "id": "fa8cba01",
   "metadata": {},
   "outputs": [],
   "source": [
    "x2 = df['Administration']\n",
    "y2 = df['Profit']"
   ]
  },
  {
   "cell_type": "code",
   "execution_count": 16,
   "id": "ac626b0a",
   "metadata": {
    "scrolled": true
   },
   "outputs": [
    {
     "data": {
      "text/plain": [
       "0    136897.80\n",
       "1    151377.59\n",
       "2    101145.55\n",
       "3    118671.85\n",
       "4     91391.77\n",
       "Name: Administration, dtype: float64"
      ]
     },
     "execution_count": 16,
     "metadata": {},
     "output_type": "execute_result"
    }
   ],
   "source": [
    "x2.head()"
   ]
  },
  {
   "cell_type": "code",
   "execution_count": 17,
   "id": "678f6d31",
   "metadata": {},
   "outputs": [
    {
     "data": {
      "text/plain": [
       "0    192261.83\n",
       "1    191792.06\n",
       "2    191050.39\n",
       "3    182901.99\n",
       "4    166187.94\n",
       "Name: Profit, dtype: float64"
      ]
     },
     "execution_count": 17,
     "metadata": {},
     "output_type": "execute_result"
    }
   ],
   "source": [
    "y2.head()"
   ]
  },
  {
   "cell_type": "code",
   "execution_count": 18,
   "id": "4f62fc10",
   "metadata": {
    "scrolled": true
   },
   "outputs": [
    {
     "name": "stdout",
     "output_type": "stream",
     "text": [
      "2742307.6970905378 22.358592244897963\n",
      "-8407399088251.675 -66192747.26003359\n",
      "2.5775511099522097e+19 202934571487516.28\n",
      "-7.902288989348709e+25 -6.221593913820445e+20\n",
      "2.4226938131341127e+32 1.907424178382007e+27\n",
      "-7.427525518377753e+38 -5.84780531592451e+33\n",
      "2.2771402241203785e+45 1.7928275944348545e+40\n",
      "-6.981285473172697e+51 -5.496473650745864e+46\n",
      "2.140331383270827e+58 1.6851158854941068e+53\n",
      "-6.561855188156535e+64 -5.166249722964202e+59\n",
      "2.01174191281241e+71 1.5838754135417613e+66\n",
      "-6.167623953467819e+77 -4.855865395880842e+72\n",
      "1.890877999266356e+84 1.488717391615177e+79\n",
      "-5.797077829460106e+90 -4.564128721478841e+85\n",
      "1.7772754970895405e+97 1.3992763907746974e+92\n",
      "-5.448793832821545e+103 -4.289919363065322e+98\n",
      "1.670498146247628e+110 1.3152089367715175e+105\n",
      "-5.121434471987954e+116 -4.0321842929179714e+111\n",
      "1.570135896875065e+123 1.236192191026671e+118\n",
      "-4.813742610864091e+129 -3.789933748413639e+124\n",
      "1.4758033345882053e+136 1.1619227108557888e+131\n",
      "-4.524536641128606e+142 -3.5622374311096155e+137\n",
      "1.387138200404425e+149 1.0921152841786043e+144\n",
      "-4.252705944583232e+155 -3.3482209341812166e+150\n",
      "1.3037999995833623e+162 1.0265018342382219e+157\n",
      "-3.9972066281205486e+168 -3.147062384496168e+163\n",
      "1.2254686940479075e+175 9.648303901240065e+169\n",
      "-3.757057514931632e+181 -2.9579892864306064e+176\n",
      "1.1518434733635411e+188 9.068641191446794e+182\n",
      "-3.5313363765588524e+194 -2.7802755553061673e+189\n",
      "1.0826415995562925e+201 8.523804173356883e+195\n",
      "-3.3191763913240836e+207 -2.613238729055949e+202\n",
      "1.0175973213331469e+214 8.011700546082018e+208\n",
      "-3.119762815531817e+220 -2.4562373474113882e+215\n",
      "9.56460853535265e+226 7.530363712569009e+221\n",
      "-2.932329854663844e+233 -2.308668488545644e+228\n",
      "8.989974179048666e+239 7.077945227409604e+234\n",
      "-2.7561577225501704e+246 -2.1699654537135118e+241\n",
      "8.449863414821072e+252 6.652707698380149e+247\n",
      "-2.5905698772226896e+259 -2.0395955909964306e+254\n",
      "7.94220209169581e+265 6.253018114451319e+260\n",
      "-2.4349304228366484e+272 -1.917058249795204e+267\n",
      "7.465040672100968e+278 5.877341574645874e+273\n",
      "-2.288641667682683e+285 -1.8018828582152387e+280\n"
     ]
    }
   ],
   "source": [
    "m2 = 0\n",
    "c = 0\n",
    "l = 0.0001\n",
    "n = int(len(x2))\n",
    "iteration = 44\n",
    "\n",
    "#loop\n",
    "for i in range(iteration):\n",
    "    predy2 = (m2*x2) + c\n",
    "    der_m2 = (-2/n) * sum(x2*(y2-predy2))\n",
    "    der_c2 = (-2/n) * sum(y2-predy2)\n",
    "    \n",
    "    m2 = (m2 - (l * der_m2))\n",
    "    c  = (c - (l * der_c2))\n",
    "    \n",
    "    print(m2, c)"
   ]
  },
  {
   "cell_type": "markdown",
   "id": "da780e25",
   "metadata": {},
   "source": [
    "# For X3"
   ]
  },
  {
   "cell_type": "code",
   "execution_count": 19,
   "id": "3a6603c3",
   "metadata": {},
   "outputs": [],
   "source": [
    "x3 = df['Transport']\n",
    "y3 = df['Profit']"
   ]
  },
  {
   "cell_type": "code",
   "execution_count": 20,
   "id": "8529cab1",
   "metadata": {},
   "outputs": [
    {
     "data": {
      "text/plain": [
       "0    471784.10\n",
       "1    443898.53\n",
       "2    407934.54\n",
       "3    383199.62\n",
       "4    366168.42\n",
       "Name: Transport, dtype: float64"
      ]
     },
     "execution_count": 20,
     "metadata": {},
     "output_type": "execute_result"
    }
   ],
   "source": [
    "x3.head()"
   ]
  },
  {
   "cell_type": "code",
   "execution_count": 21,
   "id": "97ca7dff",
   "metadata": {},
   "outputs": [
    {
     "data": {
      "text/plain": [
       "0    192261.83\n",
       "1    191792.06\n",
       "2    191050.39\n",
       "3    182901.99\n",
       "4    166187.94\n",
       "Name: Profit, dtype: float64"
      ]
     },
     "execution_count": 21,
     "metadata": {},
     "output_type": "execute_result"
    }
   ],
   "source": [
    "y3.head()"
   ]
  },
  {
   "cell_type": "code",
   "execution_count": 22,
   "id": "874ab0ab",
   "metadata": {},
   "outputs": [
    {
     "name": "stdout",
     "output_type": "stream",
     "text": [
      "5561130.85244692 22.358592244897963\n",
      "-67173244354348.83 -239497543.45386034\n",
      "8.113898504394228e+20 2892905976758492.5\n",
      "-9.800829120642025e+27 -3.4943593545000485e+22\n",
      "1.1838483239592375e+35 4.2208586786024644e+29\n",
      "-1.429977848699894e+42 -5.0984017890978185e+36\n",
      "1.7272792522387237e+49 6.158391640746049e+43\n",
      "-2.086391490558328e+56 -7.438760060438852e+50\n",
      "2.5201654256150236e+63 8.985325140847441e+57\n",
      "-3.0441236945256764e+70 -1.0853430844761254e+65\n",
      "3.677016188455647e+77 1.3109927493498026e+72\n",
      "-4.441491019067014e+84 -1.5835564011331403e+79\n",
      "5.36490498311846e+91 1.9127877532605984e+86\n",
      "-6.480302527761342e+98 -2.310468377637603e+93\n",
      "7.827598248888276e+105 2.7908293091920746e+100\n",
      "-9.45500523833805e+112 -3.371060304668309e+107\n",
      "1.1420760393482983e+120 4.0719249795324087e+114\n",
      "-1.3795208429548848e+127 -4.918503835715701e+121\n",
      "1.6663319171225299e+134 5.9410917695070275e+128\n",
      "-2.0127728205060924e+141 -7.176282176990122e+135\n",
      "2.4312409702647214e+148 8.668276451831225e+142\n",
      "-2.9367112846881025e+155 -1.0470465735906534e+150\n",
      "3.5472720619196406e+162 1.2647341525849984e+157\n",
      "-4.2847722712421926e+169 -1.5276803506739202e+164\n",
      "5.175603420300016e+176 1.8452947198943796e+171\n",
      "-6.251643977441876e+183 -2.2289431174315666e+178\n",
      "7.551400145419133e+190 2.6923544337838432e+185\n",
      "-9.121383809122436e+197 -3.2521118822755605e+192\n",
      "1.1017776967333914e+205 3.928246430754666e+199\n",
      "-1.3308442210326493e+212 -4.7449536114788745e+206\n",
      "1.6075351188422018e+219 5.731459360293002e+213\n",
      "-1.9417517974461828e+226 -6.923065869226045e+220\n",
      "2.3454542290815052e+233 8.362414878432007e+227\n",
      "-2.833088939560405e+240 -1.0101013614483885e+235\n",
      "3.422105978423926e+247 1.2201077980852348e+242\n",
      "-4.133583370447199e+254 -1.4737758959296903e+249\n",
      "4.992981394546678e+261 1.780183189413261e+256\n",
      "-6.031053682024132e+268 -2.1502944895638015e+263\n",
      "7.284947737875415e+275 2.597354260699663e+270\n"
     ]
    }
   ],
   "source": [
    "m3 = 0\n",
    "c = 0\n",
    "l = 0.0001\n",
    "n = int(len(x3))\n",
    "iteration = 39\n",
    "\n",
    "#loop\n",
    "for i in range(iteration):\n",
    "    predy3 = (m3*x3) + c\n",
    "    der_m3 = (-2/n) * sum(x3*(y3-predy3))\n",
    "    der_c3 = (-2/n) * sum(y3-predy3)\n",
    "    \n",
    "    m3 = (m3 - (l * der_m3))\n",
    "    c  = (c - (l * der_c3))\n",
    "    \n",
    "    print(m3, c)"
   ]
  },
  {
   "cell_type": "markdown",
   "id": "8fbecf50",
   "metadata": {},
   "source": [
    "# For X4"
   ]
  },
  {
   "cell_type": "code",
   "execution_count": 23,
   "id": "7d9186ee",
   "metadata": {},
   "outputs": [],
   "source": [
    "x4 = df['Area']\n",
    "y4 = df['Profit']"
   ]
  },
  {
   "cell_type": "code",
   "execution_count": 24,
   "id": "0a9ddbbd",
   "metadata": {
    "scrolled": true
   },
   "outputs": [
    {
     "name": "stdout",
     "output_type": "stream",
     "text": [
      "22.905516367346934 22.358592244897963\n",
      "45.79917292352185 44.70822515997702\n",
      "68.68097529641345 67.04890286065798\n",
      "91.55092911126641 89.38062946043593\n",
      "114.40903999068273 111.70340907088122\n"
     ]
    }
   ],
   "source": [
    "m4 = 0\n",
    "c = 0\n",
    "l = 0.0001\n",
    "n = int(len(x4))\n",
    "iteration = 5\n",
    "\n",
    "#loop\n",
    "for i in range(iteration):\n",
    "    predy4 = (m4*x4) + c\n",
    "    der_m4 = (-2/n) * sum(x4*(y4-predy4))\n",
    "    der_c4 = (-2/n) * sum(y4-predy4)\n",
    "    \n",
    "    m4 = (m4 - (l * der_m4))\n",
    "    c  = (c - (l * der_c4))\n",
    "    \n",
    "    print(m4, c)"
   ]
  },
  {
   "cell_type": "code",
   "execution_count": 25,
   "id": "81819640",
   "metadata": {},
   "outputs": [
    {
     "data": {
      "text/html": [
       "<div>\n",
       "<style scoped>\n",
       "    .dataframe tbody tr th:only-of-type {\n",
       "        vertical-align: middle;\n",
       "    }\n",
       "\n",
       "    .dataframe tbody tr th {\n",
       "        vertical-align: top;\n",
       "    }\n",
       "\n",
       "    .dataframe thead th {\n",
       "        text-align: right;\n",
       "    }\n",
       "</style>\n",
       "<table border=\"1\" class=\"dataframe\">\n",
       "  <thead>\n",
       "    <tr style=\"text-align: right;\">\n",
       "      <th></th>\n",
       "      <th>Marketing Spend</th>\n",
       "      <th>Administration</th>\n",
       "      <th>Transport</th>\n",
       "      <th>Area</th>\n",
       "      <th>Profit</th>\n",
       "    </tr>\n",
       "  </thead>\n",
       "  <tbody>\n",
       "    <tr>\n",
       "      <th>0</th>\n",
       "      <td>114523.61</td>\n",
       "      <td>136897.80</td>\n",
       "      <td>471784.10</td>\n",
       "      <td>1</td>\n",
       "      <td>192261.83</td>\n",
       "    </tr>\n",
       "    <tr>\n",
       "      <th>1</th>\n",
       "      <td>162597.70</td>\n",
       "      <td>151377.59</td>\n",
       "      <td>443898.53</td>\n",
       "      <td>0</td>\n",
       "      <td>191792.06</td>\n",
       "    </tr>\n",
       "    <tr>\n",
       "      <th>2</th>\n",
       "      <td>153441.51</td>\n",
       "      <td>101145.55</td>\n",
       "      <td>407934.54</td>\n",
       "      <td>2</td>\n",
       "      <td>191050.39</td>\n",
       "    </tr>\n",
       "    <tr>\n",
       "      <th>3</th>\n",
       "      <td>144372.41</td>\n",
       "      <td>118671.85</td>\n",
       "      <td>383199.62</td>\n",
       "      <td>1</td>\n",
       "      <td>182901.99</td>\n",
       "    </tr>\n",
       "    <tr>\n",
       "      <th>4</th>\n",
       "      <td>142107.34</td>\n",
       "      <td>91391.77</td>\n",
       "      <td>366168.42</td>\n",
       "      <td>2</td>\n",
       "      <td>166187.94</td>\n",
       "    </tr>\n",
       "  </tbody>\n",
       "</table>\n",
       "</div>"
      ],
      "text/plain": [
       "   Marketing Spend  Administration  Transport  Area     Profit\n",
       "0        114523.61       136897.80  471784.10     1  192261.83\n",
       "1        162597.70       151377.59  443898.53     0  191792.06\n",
       "2        153441.51       101145.55  407934.54     2  191050.39\n",
       "3        144372.41       118671.85  383199.62     1  182901.99\n",
       "4        142107.34        91391.77  366168.42     2  166187.94"
      ]
     },
     "execution_count": 25,
     "metadata": {},
     "output_type": "execute_result"
    }
   ],
   "source": [
    "df.head()"
   ]
  },
  {
   "cell_type": "markdown",
   "id": "1272f4a4",
   "metadata": {},
   "source": [
    "# For the 1st iteration of all m"
   ]
  },
  {
   "cell_type": "code",
   "execution_count": 26,
   "id": "56c2c8f5",
   "metadata": {},
   "outputs": [
    {
     "data": {
      "text/plain": [
       "3226858292168.33"
      ]
     },
     "execution_count": 26,
     "metadata": {},
     "output_type": "execute_result"
    }
   ],
   "source": [
    "lst_iter = 1989015.952038689*114523.61+2742307.6970905378*136897.80+5561130.85244692*471784.10+22.905516367346934*1+c\n",
    "lst_iter"
   ]
  },
  {
   "cell_type": "markdown",
   "id": "3a63e43e",
   "metadata": {},
   "source": [
    "# For the last iteration of all m"
   ]
  },
  {
   "cell_type": "code",
   "execution_count": 27,
   "id": "61a1a5e0",
   "metadata": {
    "scrolled": true
   },
   "outputs": [
    {
     "data": {
      "text/plain": [
       "5323051.806566219"
      ]
     },
     "execution_count": 27,
     "metadata": {},
     "output_type": "execute_result"
    }
   ],
   "source": [
    "last_iter = 7.543907646078593*114523.61+7.465040672100968*136897.80+7.2849477378754*471784.10+114.4090399*1+c\n",
    "last_iter"
   ]
  },
  {
   "cell_type": "markdown",
   "id": "ae8c26d4",
   "metadata": {},
   "source": [
    "# Using Linear Regression"
   ]
  },
  {
   "cell_type": "code",
   "execution_count": 28,
   "id": "0b631173",
   "metadata": {},
   "outputs": [],
   "source": [
    "x = df.drop(['Profit'], axis=1)\n",
    "y = df['Profit']"
   ]
  },
  {
   "cell_type": "code",
   "execution_count": 29,
   "id": "be923f2e",
   "metadata": {},
   "outputs": [
    {
     "data": {
      "text/html": [
       "<div>\n",
       "<style scoped>\n",
       "    .dataframe tbody tr th:only-of-type {\n",
       "        vertical-align: middle;\n",
       "    }\n",
       "\n",
       "    .dataframe tbody tr th {\n",
       "        vertical-align: top;\n",
       "    }\n",
       "\n",
       "    .dataframe thead th {\n",
       "        text-align: right;\n",
       "    }\n",
       "</style>\n",
       "<table border=\"1\" class=\"dataframe\">\n",
       "  <thead>\n",
       "    <tr style=\"text-align: right;\">\n",
       "      <th></th>\n",
       "      <th>Marketing Spend</th>\n",
       "      <th>Administration</th>\n",
       "      <th>Transport</th>\n",
       "      <th>Area</th>\n",
       "    </tr>\n",
       "  </thead>\n",
       "  <tbody>\n",
       "    <tr>\n",
       "      <th>0</th>\n",
       "      <td>114523.61</td>\n",
       "      <td>136897.80</td>\n",
       "      <td>471784.10</td>\n",
       "      <td>1</td>\n",
       "    </tr>\n",
       "    <tr>\n",
       "      <th>1</th>\n",
       "      <td>162597.70</td>\n",
       "      <td>151377.59</td>\n",
       "      <td>443898.53</td>\n",
       "      <td>0</td>\n",
       "    </tr>\n",
       "    <tr>\n",
       "      <th>2</th>\n",
       "      <td>153441.51</td>\n",
       "      <td>101145.55</td>\n",
       "      <td>407934.54</td>\n",
       "      <td>2</td>\n",
       "    </tr>\n",
       "    <tr>\n",
       "      <th>3</th>\n",
       "      <td>144372.41</td>\n",
       "      <td>118671.85</td>\n",
       "      <td>383199.62</td>\n",
       "      <td>1</td>\n",
       "    </tr>\n",
       "    <tr>\n",
       "      <th>4</th>\n",
       "      <td>142107.34</td>\n",
       "      <td>91391.77</td>\n",
       "      <td>366168.42</td>\n",
       "      <td>2</td>\n",
       "    </tr>\n",
       "  </tbody>\n",
       "</table>\n",
       "</div>"
      ],
      "text/plain": [
       "   Marketing Spend  Administration  Transport  Area\n",
       "0        114523.61       136897.80  471784.10     1\n",
       "1        162597.70       151377.59  443898.53     0\n",
       "2        153441.51       101145.55  407934.54     2\n",
       "3        144372.41       118671.85  383199.62     1\n",
       "4        142107.34        91391.77  366168.42     2"
      ]
     },
     "execution_count": 29,
     "metadata": {},
     "output_type": "execute_result"
    }
   ],
   "source": [
    "x.head()"
   ]
  },
  {
   "cell_type": "code",
   "execution_count": 30,
   "id": "7a0af361",
   "metadata": {},
   "outputs": [
    {
     "data": {
      "text/plain": [
       "0    192261.83\n",
       "1    191792.06\n",
       "2    191050.39\n",
       "3    182901.99\n",
       "4    166187.94\n",
       "Name: Profit, dtype: float64"
      ]
     },
     "execution_count": 30,
     "metadata": {},
     "output_type": "execute_result"
    }
   ],
   "source": [
    "y.head()"
   ]
  },
  {
   "cell_type": "code",
   "execution_count": 31,
   "id": "7b53066b",
   "metadata": {},
   "outputs": [],
   "source": [
    "from sklearn.linear_model import LinearRegression\n",
    "lr = LinearRegression()"
   ]
  },
  {
   "cell_type": "code",
   "execution_count": 32,
   "id": "56a8295b",
   "metadata": {},
   "outputs": [
    {
     "data": {
      "text/html": [
       "<style>#sk-container-id-1 {color: black;background-color: white;}#sk-container-id-1 pre{padding: 0;}#sk-container-id-1 div.sk-toggleable {background-color: white;}#sk-container-id-1 label.sk-toggleable__label {cursor: pointer;display: block;width: 100%;margin-bottom: 0;padding: 0.3em;box-sizing: border-box;text-align: center;}#sk-container-id-1 label.sk-toggleable__label-arrow:before {content: \"▸\";float: left;margin-right: 0.25em;color: #696969;}#sk-container-id-1 label.sk-toggleable__label-arrow:hover:before {color: black;}#sk-container-id-1 div.sk-estimator:hover label.sk-toggleable__label-arrow:before {color: black;}#sk-container-id-1 div.sk-toggleable__content {max-height: 0;max-width: 0;overflow: hidden;text-align: left;background-color: #f0f8ff;}#sk-container-id-1 div.sk-toggleable__content pre {margin: 0.2em;color: black;border-radius: 0.25em;background-color: #f0f8ff;}#sk-container-id-1 input.sk-toggleable__control:checked~div.sk-toggleable__content {max-height: 200px;max-width: 100%;overflow: auto;}#sk-container-id-1 input.sk-toggleable__control:checked~label.sk-toggleable__label-arrow:before {content: \"▾\";}#sk-container-id-1 div.sk-estimator input.sk-toggleable__control:checked~label.sk-toggleable__label {background-color: #d4ebff;}#sk-container-id-1 div.sk-label input.sk-toggleable__control:checked~label.sk-toggleable__label {background-color: #d4ebff;}#sk-container-id-1 input.sk-hidden--visually {border: 0;clip: rect(1px 1px 1px 1px);clip: rect(1px, 1px, 1px, 1px);height: 1px;margin: -1px;overflow: hidden;padding: 0;position: absolute;width: 1px;}#sk-container-id-1 div.sk-estimator {font-family: monospace;background-color: #f0f8ff;border: 1px dotted black;border-radius: 0.25em;box-sizing: border-box;margin-bottom: 0.5em;}#sk-container-id-1 div.sk-estimator:hover {background-color: #d4ebff;}#sk-container-id-1 div.sk-parallel-item::after {content: \"\";width: 100%;border-bottom: 1px solid gray;flex-grow: 1;}#sk-container-id-1 div.sk-label:hover label.sk-toggleable__label {background-color: #d4ebff;}#sk-container-id-1 div.sk-serial::before {content: \"\";position: absolute;border-left: 1px solid gray;box-sizing: border-box;top: 0;bottom: 0;left: 50%;z-index: 0;}#sk-container-id-1 div.sk-serial {display: flex;flex-direction: column;align-items: center;background-color: white;padding-right: 0.2em;padding-left: 0.2em;position: relative;}#sk-container-id-1 div.sk-item {position: relative;z-index: 1;}#sk-container-id-1 div.sk-parallel {display: flex;align-items: stretch;justify-content: center;background-color: white;position: relative;}#sk-container-id-1 div.sk-item::before, #sk-container-id-1 div.sk-parallel-item::before {content: \"\";position: absolute;border-left: 1px solid gray;box-sizing: border-box;top: 0;bottom: 0;left: 50%;z-index: -1;}#sk-container-id-1 div.sk-parallel-item {display: flex;flex-direction: column;z-index: 1;position: relative;background-color: white;}#sk-container-id-1 div.sk-parallel-item:first-child::after {align-self: flex-end;width: 50%;}#sk-container-id-1 div.sk-parallel-item:last-child::after {align-self: flex-start;width: 50%;}#sk-container-id-1 div.sk-parallel-item:only-child::after {width: 0;}#sk-container-id-1 div.sk-dashed-wrapped {border: 1px dashed gray;margin: 0 0.4em 0.5em 0.4em;box-sizing: border-box;padding-bottom: 0.4em;background-color: white;}#sk-container-id-1 div.sk-label label {font-family: monospace;font-weight: bold;display: inline-block;line-height: 1.2em;}#sk-container-id-1 div.sk-label-container {text-align: center;}#sk-container-id-1 div.sk-container {/* jupyter's `normalize.less` sets `[hidden] { display: none; }` but bootstrap.min.css set `[hidden] { display: none !important; }` so we also need the `!important` here to be able to override the default hidden behavior on the sphinx rendered scikit-learn.org. See: https://github.com/scikit-learn/scikit-learn/issues/21755 */display: inline-block !important;position: relative;}#sk-container-id-1 div.sk-text-repr-fallback {display: none;}</style><div id=\"sk-container-id-1\" class=\"sk-top-container\"><div class=\"sk-text-repr-fallback\"><pre>LinearRegression()</pre><b>In a Jupyter environment, please rerun this cell to show the HTML representation or trust the notebook. <br />On GitHub, the HTML representation is unable to render, please try loading this page with nbviewer.org.</b></div><div class=\"sk-container\" hidden><div class=\"sk-item\"><div class=\"sk-estimator sk-toggleable\"><input class=\"sk-toggleable__control sk-hidden--visually\" id=\"sk-estimator-id-1\" type=\"checkbox\" checked><label for=\"sk-estimator-id-1\" class=\"sk-toggleable__label sk-toggleable__label-arrow\">LinearRegression</label><div class=\"sk-toggleable__content\"><pre>LinearRegression()</pre></div></div></div></div></div>"
      ],
      "text/plain": [
       "LinearRegression()"
      ]
     },
     "execution_count": 32,
     "metadata": {},
     "output_type": "execute_result"
    }
   ],
   "source": [
    "lr.fit(x,y)"
   ]
  },
  {
   "cell_type": "code",
   "execution_count": 33,
   "id": "7a3122c4",
   "metadata": {},
   "outputs": [
    {
     "name": "stderr",
     "output_type": "stream",
     "text": [
      "C:\\Users\\Raju\\anaconda3\\lib\\site-packages\\sklearn\\base.py:450: UserWarning: X does not have valid feature names, but LinearRegression was fitted with feature names\n",
      "  warnings.warn(\n"
     ]
    },
    {
     "data": {
      "text/plain": [
       "array([160343.7626865])"
      ]
     },
     "execution_count": 33,
     "metadata": {},
     "output_type": "execute_result"
    }
   ],
   "source": [
    "lr.predict([[114523.61, 136897.80, 471784.10, 1]])"
   ]
  },
  {
   "cell_type": "code",
   "execution_count": 34,
   "id": "efc19f77",
   "metadata": {},
   "outputs": [
    {
     "data": {
      "text/plain": [
       "42052.593465758764"
      ]
     },
     "execution_count": 34,
     "metadata": {},
     "output_type": "execute_result"
    }
   ],
   "source": [
    "lr.intercept_"
   ]
  },
  {
   "cell_type": "code",
   "execution_count": 35,
   "id": "b443fc1f",
   "metadata": {},
   "outputs": [
    {
     "data": {
      "text/plain": [
       "array([ 6.73010330e-01,  3.06919557e-02,  7.96653807e-02, -5.70924523e+02])"
      ]
     },
     "execution_count": 35,
     "metadata": {},
     "output_type": "execute_result"
    }
   ],
   "source": [
    "lr.coef_"
   ]
  },
  {
   "cell_type": "code",
   "execution_count": 36,
   "id": "d9015afb",
   "metadata": {},
   "outputs": [
    {
     "data": {
      "text/plain": [
       "0.9044981687538611"
      ]
     },
     "execution_count": 36,
     "metadata": {},
     "output_type": "execute_result"
    }
   ],
   "source": [
    "lr.score(x,y)"
   ]
  },
  {
   "cell_type": "code",
   "execution_count": null,
   "id": "405b59d8",
   "metadata": {},
   "outputs": [],
   "source": []
  }
 ],
 "metadata": {
  "kernelspec": {
   "display_name": "Python 3",
   "language": "python",
   "name": "python3"
  },
  "language_info": {
   "codemirror_mode": {
    "name": "ipython",
    "version": 3
   },
   "file_extension": ".py",
   "mimetype": "text/x-python",
   "name": "python",
   "nbconvert_exporter": "python",
   "pygments_lexer": "ipython3",
   "version": "3.8.8"
  }
 },
 "nbformat": 4,
 "nbformat_minor": 5
}
