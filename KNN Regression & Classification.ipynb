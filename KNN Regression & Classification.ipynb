{
 "cells": [
  {
   "cell_type": "code",
   "execution_count": 1,
   "id": "64a3fabe",
   "metadata": {},
   "outputs": [],
   "source": [
    "import numpy as np\n",
    "import pandas as pd"
   ]
  },
  {
   "cell_type": "code",
   "execution_count": 2,
   "id": "88ad8899",
   "metadata": {},
   "outputs": [],
   "source": [
    "df = pd.read_csv('weight-height.csv')"
   ]
  },
  {
   "cell_type": "code",
   "execution_count": 3,
   "id": "ec025ed9",
   "metadata": {
    "scrolled": true
   },
   "outputs": [
    {
     "data": {
      "text/html": [
       "<div>\n",
       "<style scoped>\n",
       "    .dataframe tbody tr th:only-of-type {\n",
       "        vertical-align: middle;\n",
       "    }\n",
       "\n",
       "    .dataframe tbody tr th {\n",
       "        vertical-align: top;\n",
       "    }\n",
       "\n",
       "    .dataframe thead th {\n",
       "        text-align: right;\n",
       "    }\n",
       "</style>\n",
       "<table border=\"1\" class=\"dataframe\">\n",
       "  <thead>\n",
       "    <tr style=\"text-align: right;\">\n",
       "      <th></th>\n",
       "      <th>Gender</th>\n",
       "      <th>Height</th>\n",
       "      <th>Weight</th>\n",
       "    </tr>\n",
       "  </thead>\n",
       "  <tbody>\n",
       "    <tr>\n",
       "      <th>0</th>\n",
       "      <td>Male</td>\n",
       "      <td>73.847017</td>\n",
       "      <td>241.893563</td>\n",
       "    </tr>\n",
       "    <tr>\n",
       "      <th>1</th>\n",
       "      <td>Male</td>\n",
       "      <td>68.781904</td>\n",
       "      <td>162.310473</td>\n",
       "    </tr>\n",
       "    <tr>\n",
       "      <th>2</th>\n",
       "      <td>Male</td>\n",
       "      <td>74.110105</td>\n",
       "      <td>212.740856</td>\n",
       "    </tr>\n",
       "    <tr>\n",
       "      <th>3</th>\n",
       "      <td>Male</td>\n",
       "      <td>71.730978</td>\n",
       "      <td>220.042470</td>\n",
       "    </tr>\n",
       "    <tr>\n",
       "      <th>4</th>\n",
       "      <td>Male</td>\n",
       "      <td>69.881796</td>\n",
       "      <td>206.349801</td>\n",
       "    </tr>\n",
       "  </tbody>\n",
       "</table>\n",
       "</div>"
      ],
      "text/plain": [
       "  Gender     Height      Weight\n",
       "0   Male  73.847017  241.893563\n",
       "1   Male  68.781904  162.310473\n",
       "2   Male  74.110105  212.740856\n",
       "3   Male  71.730978  220.042470\n",
       "4   Male  69.881796  206.349801"
      ]
     },
     "execution_count": 3,
     "metadata": {},
     "output_type": "execute_result"
    }
   ],
   "source": [
    "df.head()"
   ]
  },
  {
   "cell_type": "code",
   "execution_count": 4,
   "id": "cf31cdde",
   "metadata": {},
   "outputs": [
    {
     "data": {
      "text/plain": [
       "Gender    0\n",
       "Height    0\n",
       "Weight    0\n",
       "dtype: int64"
      ]
     },
     "execution_count": 4,
     "metadata": {},
     "output_type": "execute_result"
    }
   ],
   "source": [
    "df.isnull().sum()"
   ]
  },
  {
   "cell_type": "code",
   "execution_count": 5,
   "id": "bb40279a",
   "metadata": {},
   "outputs": [],
   "source": [
    "from sklearn.preprocessing import LabelEncoder"
   ]
  },
  {
   "cell_type": "code",
   "execution_count": 6,
   "id": "43bb9f30",
   "metadata": {},
   "outputs": [],
   "source": [
    "lb = LabelEncoder()\n",
    "df['Gender'] = lb.fit_transform(df['Gender'])"
   ]
  },
  {
   "cell_type": "code",
   "execution_count": 7,
   "id": "0e53c071",
   "metadata": {},
   "outputs": [
    {
     "data": {
      "text/plain": [
       "Gender\n",
       "0    5000\n",
       "1    5000\n",
       "dtype: int64"
      ]
     },
     "execution_count": 7,
     "metadata": {},
     "output_type": "execute_result"
    }
   ],
   "source": [
    "df.value_counts(df['Gender'])"
   ]
  },
  {
   "cell_type": "code",
   "execution_count": 8,
   "id": "6902901b",
   "metadata": {},
   "outputs": [
    {
     "data": {
      "text/html": [
       "<div>\n",
       "<style scoped>\n",
       "    .dataframe tbody tr th:only-of-type {\n",
       "        vertical-align: middle;\n",
       "    }\n",
       "\n",
       "    .dataframe tbody tr th {\n",
       "        vertical-align: top;\n",
       "    }\n",
       "\n",
       "    .dataframe thead th {\n",
       "        text-align: right;\n",
       "    }\n",
       "</style>\n",
       "<table border=\"1\" class=\"dataframe\">\n",
       "  <thead>\n",
       "    <tr style=\"text-align: right;\">\n",
       "      <th></th>\n",
       "      <th>Gender</th>\n",
       "      <th>Height</th>\n",
       "      <th>Weight</th>\n",
       "    </tr>\n",
       "  </thead>\n",
       "  <tbody>\n",
       "    <tr>\n",
       "      <th>0</th>\n",
       "      <td>1</td>\n",
       "      <td>73.847017</td>\n",
       "      <td>241.893563</td>\n",
       "    </tr>\n",
       "    <tr>\n",
       "      <th>1</th>\n",
       "      <td>1</td>\n",
       "      <td>68.781904</td>\n",
       "      <td>162.310473</td>\n",
       "    </tr>\n",
       "    <tr>\n",
       "      <th>2</th>\n",
       "      <td>1</td>\n",
       "      <td>74.110105</td>\n",
       "      <td>212.740856</td>\n",
       "    </tr>\n",
       "    <tr>\n",
       "      <th>3</th>\n",
       "      <td>1</td>\n",
       "      <td>71.730978</td>\n",
       "      <td>220.042470</td>\n",
       "    </tr>\n",
       "    <tr>\n",
       "      <th>4</th>\n",
       "      <td>1</td>\n",
       "      <td>69.881796</td>\n",
       "      <td>206.349801</td>\n",
       "    </tr>\n",
       "    <tr>\n",
       "      <th>...</th>\n",
       "      <td>...</td>\n",
       "      <td>...</td>\n",
       "      <td>...</td>\n",
       "    </tr>\n",
       "    <tr>\n",
       "      <th>9995</th>\n",
       "      <td>0</td>\n",
       "      <td>66.172652</td>\n",
       "      <td>136.777454</td>\n",
       "    </tr>\n",
       "    <tr>\n",
       "      <th>9996</th>\n",
       "      <td>0</td>\n",
       "      <td>67.067155</td>\n",
       "      <td>170.867906</td>\n",
       "    </tr>\n",
       "    <tr>\n",
       "      <th>9997</th>\n",
       "      <td>0</td>\n",
       "      <td>63.867992</td>\n",
       "      <td>128.475319</td>\n",
       "    </tr>\n",
       "    <tr>\n",
       "      <th>9998</th>\n",
       "      <td>0</td>\n",
       "      <td>69.034243</td>\n",
       "      <td>163.852461</td>\n",
       "    </tr>\n",
       "    <tr>\n",
       "      <th>9999</th>\n",
       "      <td>0</td>\n",
       "      <td>61.944246</td>\n",
       "      <td>113.649103</td>\n",
       "    </tr>\n",
       "  </tbody>\n",
       "</table>\n",
       "<p>10000 rows × 3 columns</p>\n",
       "</div>"
      ],
      "text/plain": [
       "      Gender     Height      Weight\n",
       "0          1  73.847017  241.893563\n",
       "1          1  68.781904  162.310473\n",
       "2          1  74.110105  212.740856\n",
       "3          1  71.730978  220.042470\n",
       "4          1  69.881796  206.349801\n",
       "...      ...        ...         ...\n",
       "9995       0  66.172652  136.777454\n",
       "9996       0  67.067155  170.867906\n",
       "9997       0  63.867992  128.475319\n",
       "9998       0  69.034243  163.852461\n",
       "9999       0  61.944246  113.649103\n",
       "\n",
       "[10000 rows x 3 columns]"
      ]
     },
     "execution_count": 8,
     "metadata": {},
     "output_type": "execute_result"
    }
   ],
   "source": [
    "df"
   ]
  },
  {
   "cell_type": "code",
   "execution_count": 9,
   "id": "c91c17fc",
   "metadata": {},
   "outputs": [],
   "source": [
    "x = df.drop(['Weight'], axis=1)\n",
    "y = df['Weight']"
   ]
  },
  {
   "cell_type": "code",
   "execution_count": 10,
   "id": "c1014ec7",
   "metadata": {},
   "outputs": [
    {
     "data": {
      "text/plain": [
       "0    241.893563\n",
       "1    162.310473\n",
       "2    212.740856\n",
       "3    220.042470\n",
       "4    206.349801\n",
       "Name: Weight, dtype: float64"
      ]
     },
     "execution_count": 10,
     "metadata": {},
     "output_type": "execute_result"
    }
   ],
   "source": [
    "y.head()"
   ]
  },
  {
   "cell_type": "code",
   "execution_count": 11,
   "id": "645fa7eb",
   "metadata": {},
   "outputs": [
    {
     "data": {
      "text/html": [
       "<div>\n",
       "<style scoped>\n",
       "    .dataframe tbody tr th:only-of-type {\n",
       "        vertical-align: middle;\n",
       "    }\n",
       "\n",
       "    .dataframe tbody tr th {\n",
       "        vertical-align: top;\n",
       "    }\n",
       "\n",
       "    .dataframe thead th {\n",
       "        text-align: right;\n",
       "    }\n",
       "</style>\n",
       "<table border=\"1\" class=\"dataframe\">\n",
       "  <thead>\n",
       "    <tr style=\"text-align: right;\">\n",
       "      <th></th>\n",
       "      <th>Gender</th>\n",
       "      <th>Height</th>\n",
       "    </tr>\n",
       "  </thead>\n",
       "  <tbody>\n",
       "    <tr>\n",
       "      <th>0</th>\n",
       "      <td>1</td>\n",
       "      <td>73.847017</td>\n",
       "    </tr>\n",
       "    <tr>\n",
       "      <th>1</th>\n",
       "      <td>1</td>\n",
       "      <td>68.781904</td>\n",
       "    </tr>\n",
       "    <tr>\n",
       "      <th>2</th>\n",
       "      <td>1</td>\n",
       "      <td>74.110105</td>\n",
       "    </tr>\n",
       "    <tr>\n",
       "      <th>3</th>\n",
       "      <td>1</td>\n",
       "      <td>71.730978</td>\n",
       "    </tr>\n",
       "    <tr>\n",
       "      <th>4</th>\n",
       "      <td>1</td>\n",
       "      <td>69.881796</td>\n",
       "    </tr>\n",
       "  </tbody>\n",
       "</table>\n",
       "</div>"
      ],
      "text/plain": [
       "   Gender     Height\n",
       "0       1  73.847017\n",
       "1       1  68.781904\n",
       "2       1  74.110105\n",
       "3       1  71.730978\n",
       "4       1  69.881796"
      ]
     },
     "execution_count": 11,
     "metadata": {},
     "output_type": "execute_result"
    }
   ],
   "source": [
    "x.head()"
   ]
  },
  {
   "cell_type": "code",
   "execution_count": 12,
   "id": "01f8f45f",
   "metadata": {},
   "outputs": [],
   "source": [
    "from sklearn.model_selection import train_test_split as tts"
   ]
  },
  {
   "cell_type": "code",
   "execution_count": 13,
   "id": "0184cd05",
   "metadata": {},
   "outputs": [],
   "source": [
    "xtrain, xtest, ytrain, ytest = tts(x, y, train_size=.70, random_state=2)"
   ]
  },
  {
   "cell_type": "markdown",
   "id": "9359bc9d",
   "metadata": {},
   "source": [
    "# Apply Linear Regression"
   ]
  },
  {
   "cell_type": "code",
   "execution_count": 14,
   "id": "91cd4baf",
   "metadata": {},
   "outputs": [],
   "source": [
    "from sklearn.linear_model import LinearRegression"
   ]
  },
  {
   "cell_type": "code",
   "execution_count": 15,
   "id": "10d6725b",
   "metadata": {},
   "outputs": [],
   "source": [
    "reg = LinearRegression()"
   ]
  },
  {
   "cell_type": "code",
   "execution_count": 16,
   "id": "c2ff6bd3",
   "metadata": {},
   "outputs": [
    {
     "data": {
      "text/plain": [
       "0.9024404534795949"
      ]
     },
     "execution_count": 16,
     "metadata": {},
     "output_type": "execute_result"
    }
   ],
   "source": [
    "reg.fit(xtrain, ytrain)\n",
    "reg_score = reg.score(xtest, ytest)\n",
    "reg_score"
   ]
  },
  {
   "cell_type": "code",
   "execution_count": 17,
   "id": "23fe39c7",
   "metadata": {},
   "outputs": [],
   "source": [
    "from sklearn.metrics import mean_squared_error # MSE\n",
    "from sklearn.metrics import mean_absolute_error #MAE"
   ]
  },
  {
   "cell_type": "code",
   "execution_count": 18,
   "id": "7158b8b2",
   "metadata": {},
   "outputs": [
    {
     "data": {
      "text/plain": [
       "101.74268266961374"
      ]
     },
     "execution_count": 18,
     "metadata": {},
     "output_type": "execute_result"
    }
   ],
   "source": [
    "pred = reg.predict(xtest)\n",
    "mse_l = mean_squared_error(ytest , pred)\n",
    "mse_l"
   ]
  },
  {
   "cell_type": "code",
   "execution_count": 19,
   "id": "958aa081",
   "metadata": {},
   "outputs": [
    {
     "data": {
      "text/plain": [
       "8.025722298167047"
      ]
     },
     "execution_count": 19,
     "metadata": {},
     "output_type": "execute_result"
    }
   ],
   "source": [
    "pred1 = reg.predict(xtest)\n",
    "mae_l = mean_absolute_error(ytest , pred1)\n",
    "mae_l"
   ]
  },
  {
   "cell_type": "markdown",
   "id": "32951f17",
   "metadata": {},
   "source": [
    "pred_a = reg.predict(xtest)\n",
    "mae = mean_absolute_error(ytest , pred_a)\n",
    "mae"
   ]
  },
  {
   "cell_type": "markdown",
   "id": "efed1159",
   "metadata": {},
   "source": [
    "# KNN Regressor"
   ]
  },
  {
   "cell_type": "code",
   "execution_count": 20,
   "id": "f4ca90ee",
   "metadata": {},
   "outputs": [],
   "source": [
    "from sklearn.neighbors import KNeighborsRegressor\n",
    "knn = KNeighborsRegressor()"
   ]
  },
  {
   "cell_type": "code",
   "execution_count": 21,
   "id": "3e526138",
   "metadata": {},
   "outputs": [
    {
     "data": {
      "text/plain": [
       "0.8848965454040625"
      ]
     },
     "execution_count": 21,
     "metadata": {},
     "output_type": "execute_result"
    }
   ],
   "source": [
    "knn.fit(xtrain,ytrain)\n",
    "k_score = knn.score(xtest, ytest)\n",
    "k_score"
   ]
  },
  {
   "cell_type": "code",
   "execution_count": 22,
   "id": "2648aa1a",
   "metadata": {},
   "outputs": [
    {
     "data": {
      "text/plain": [
       "120.03883446384575"
      ]
     },
     "execution_count": 22,
     "metadata": {},
     "output_type": "execute_result"
    }
   ],
   "source": [
    "pred_k = knn.predict(xtest)\n",
    "mse_k = mean_squared_error(ytest, pred_k)\n",
    "mse_k"
   ]
  },
  {
   "cell_type": "code",
   "execution_count": 23,
   "id": "69ea5552",
   "metadata": {},
   "outputs": [
    {
     "data": {
      "text/plain": [
       "8.744647319851333"
      ]
     },
     "execution_count": 23,
     "metadata": {},
     "output_type": "execute_result"
    }
   ],
   "source": [
    "pred_k1 = knn.predict(xtest)\n",
    "mae_k = mean_absolute_error(ytest, pred_k1)\n",
    "mae_k"
   ]
  },
  {
   "cell_type": "code",
   "execution_count": 24,
   "id": "fb400b87",
   "metadata": {},
   "outputs": [
    {
     "data": {
      "text/html": [
       "<div>\n",
       "<style scoped>\n",
       "    .dataframe tbody tr th:only-of-type {\n",
       "        vertical-align: middle;\n",
       "    }\n",
       "\n",
       "    .dataframe tbody tr th {\n",
       "        vertical-align: top;\n",
       "    }\n",
       "\n",
       "    .dataframe thead th {\n",
       "        text-align: right;\n",
       "    }\n",
       "</style>\n",
       "<table border=\"1\" class=\"dataframe\">\n",
       "  <thead>\n",
       "    <tr style=\"text-align: right;\">\n",
       "      <th></th>\n",
       "      <th>Linear Regression</th>\n",
       "    </tr>\n",
       "  </thead>\n",
       "  <tbody>\n",
       "    <tr>\n",
       "      <th>0</th>\n",
       "      <td>0.884897</td>\n",
       "    </tr>\n",
       "    <tr>\n",
       "      <th>1</th>\n",
       "      <td>120.038834</td>\n",
       "    </tr>\n",
       "    <tr>\n",
       "      <th>2</th>\n",
       "      <td>8.744647</td>\n",
       "    </tr>\n",
       "  </tbody>\n",
       "</table>\n",
       "</div>"
      ],
      "text/plain": [
       "   Linear Regression\n",
       "0           0.884897\n",
       "1         120.038834\n",
       "2           8.744647"
      ]
     },
     "execution_count": 24,
     "metadata": {},
     "output_type": "execute_result"
    }
   ],
   "source": [
    "knnr = pd.DataFrame([k_score, mse_k, mae_k],  columns=['Linear Regression'] )\n",
    "knnr"
   ]
  },
  {
   "cell_type": "code",
   "execution_count": 25,
   "id": "d55271e5",
   "metadata": {},
   "outputs": [
    {
     "data": {
      "text/html": [
       "<div>\n",
       "<style scoped>\n",
       "    .dataframe tbody tr th:only-of-type {\n",
       "        vertical-align: middle;\n",
       "    }\n",
       "\n",
       "    .dataframe tbody tr th {\n",
       "        vertical-align: top;\n",
       "    }\n",
       "\n",
       "    .dataframe thead th {\n",
       "        text-align: right;\n",
       "    }\n",
       "</style>\n",
       "<table border=\"1\" class=\"dataframe\">\n",
       "  <thead>\n",
       "    <tr style=\"text-align: right;\">\n",
       "      <th></th>\n",
       "      <th>KNN Regressor</th>\n",
       "    </tr>\n",
       "  </thead>\n",
       "  <tbody>\n",
       "    <tr>\n",
       "      <th>0</th>\n",
       "      <td>0.902440</td>\n",
       "    </tr>\n",
       "    <tr>\n",
       "      <th>1</th>\n",
       "      <td>101.742683</td>\n",
       "    </tr>\n",
       "    <tr>\n",
       "      <th>2</th>\n",
       "      <td>8.025722</td>\n",
       "    </tr>\n",
       "  </tbody>\n",
       "</table>\n",
       "</div>"
      ],
      "text/plain": [
       "   KNN Regressor\n",
       "0       0.902440\n",
       "1     101.742683\n",
       "2       8.025722"
      ]
     },
     "execution_count": 25,
     "metadata": {},
     "output_type": "execute_result"
    }
   ],
   "source": [
    "lrr = pd.DataFrame([reg_score, mse_l, mae_l],  columns=['KNN Regressor'] )\n",
    "lrr"
   ]
  },
  {
   "cell_type": "code",
   "execution_count": 26,
   "id": "778b9cbb",
   "metadata": {},
   "outputs": [
    {
     "data": {
      "text/html": [
       "<div>\n",
       "<style scoped>\n",
       "    .dataframe tbody tr th:only-of-type {\n",
       "        vertical-align: middle;\n",
       "    }\n",
       "\n",
       "    .dataframe tbody tr th {\n",
       "        vertical-align: top;\n",
       "    }\n",
       "\n",
       "    .dataframe thead th {\n",
       "        text-align: right;\n",
       "    }\n",
       "</style>\n",
       "<table border=\"1\" class=\"dataframe\">\n",
       "  <thead>\n",
       "    <tr style=\"text-align: right;\">\n",
       "      <th></th>\n",
       "      <th></th>\n",
       "    </tr>\n",
       "  </thead>\n",
       "  <tbody>\n",
       "    <tr>\n",
       "      <th>0</th>\n",
       "      <td>Score</td>\n",
       "    </tr>\n",
       "    <tr>\n",
       "      <th>1</th>\n",
       "      <td>Mean squared error</td>\n",
       "    </tr>\n",
       "    <tr>\n",
       "      <th>2</th>\n",
       "      <td>Mean absolute error</td>\n",
       "    </tr>\n",
       "  </tbody>\n",
       "</table>\n",
       "</div>"
      ],
      "text/plain": [
       "                      \n",
       "0                Score\n",
       "1   Mean squared error\n",
       "2  Mean absolute error"
      ]
     },
     "execution_count": 26,
     "metadata": {},
     "output_type": "execute_result"
    }
   ],
   "source": [
    "Algorithms = pd.DataFrame(['Score', 'Mean squared error', 'Mean absolute error'], columns=[''])\n",
    "Algorithms"
   ]
  },
  {
   "cell_type": "markdown",
   "id": "5ab0751c",
   "metadata": {},
   "source": [
    "# Evaluate Model"
   ]
  },
  {
   "cell_type": "code",
   "execution_count": 27,
   "id": "c415be07",
   "metadata": {
    "scrolled": true
   },
   "outputs": [
    {
     "data": {
      "text/html": [
       "<div>\n",
       "<style scoped>\n",
       "    .dataframe tbody tr th:only-of-type {\n",
       "        vertical-align: middle;\n",
       "    }\n",
       "\n",
       "    .dataframe tbody tr th {\n",
       "        vertical-align: top;\n",
       "    }\n",
       "\n",
       "    .dataframe thead th {\n",
       "        text-align: right;\n",
       "    }\n",
       "</style>\n",
       "<table border=\"1\" class=\"dataframe\">\n",
       "  <thead>\n",
       "    <tr style=\"text-align: right;\">\n",
       "      <th></th>\n",
       "      <th></th>\n",
       "      <th>KNN Regressor</th>\n",
       "      <th>Linear Regression</th>\n",
       "    </tr>\n",
       "  </thead>\n",
       "  <tbody>\n",
       "    <tr>\n",
       "      <th>0</th>\n",
       "      <td>Score</td>\n",
       "      <td>0.902440</td>\n",
       "      <td>0.884897</td>\n",
       "    </tr>\n",
       "    <tr>\n",
       "      <th>1</th>\n",
       "      <td>Mean squared error</td>\n",
       "      <td>101.742683</td>\n",
       "      <td>120.038834</td>\n",
       "    </tr>\n",
       "    <tr>\n",
       "      <th>2</th>\n",
       "      <td>Mean absolute error</td>\n",
       "      <td>8.025722</td>\n",
       "      <td>8.744647</td>\n",
       "    </tr>\n",
       "  </tbody>\n",
       "</table>\n",
       "</div>"
      ],
      "text/plain": [
       "                        KNN Regressor  Linear Regression\n",
       "0                Score       0.902440           0.884897\n",
       "1   Mean squared error     101.742683         120.038834\n",
       "2  Mean absolute error       8.025722           8.744647"
      ]
     },
     "execution_count": 27,
     "metadata": {},
     "output_type": "execute_result"
    }
   ],
   "source": [
    "table = pd.concat([Algorithms, lrr, knnr ], axis=1)\n",
    "table"
   ]
  },
  {
   "cell_type": "markdown",
   "id": "bea1c975",
   "metadata": {},
   "source": [
    "# Randomized Search CV"
   ]
  },
  {
   "cell_type": "code",
   "execution_count": 28,
   "id": "a7517493",
   "metadata": {},
   "outputs": [],
   "source": [
    "trees1 = np.random.randint(25,200,25)\n",
    "trees2 = np.random.randint(30,300,15)"
   ]
  },
  {
   "cell_type": "code",
   "execution_count": 29,
   "id": "b8168d1e",
   "metadata": {},
   "outputs": [],
   "source": [
    "n_neighbors= trees2\n",
    "weights= ['uniform', 'distance']\n",
    "algorithm = ['ball_tree', 'kd_tree', 'brute']\n",
    "leaf_size= trees2\n",
    "p= [1,2]"
   ]
  },
  {
   "cell_type": "code",
   "execution_count": 30,
   "id": "4a57bba1",
   "metadata": {},
   "outputs": [],
   "source": [
    "ids= {\n",
    "    'n_neighbors':n_neighbors,\n",
    "    'weights':weights,\n",
    "    'algorithm':algorithm,\n",
    "    'leaf_size':leaf_size,\n",
    "    'p':p\n",
    "}"
   ]
  },
  {
   "cell_type": "code",
   "execution_count": 31,
   "id": "568aa48a",
   "metadata": {},
   "outputs": [
    {
     "name": "stdout",
     "output_type": "stream",
     "text": [
      "{'n_neighbors': array([ 76,  39, 145,  42,  69, 190, 114,  74, 247, 128,  60, 214, 211,\n",
      "       202, 110]), 'weights': ['uniform', 'distance'], 'algorithm': ['ball_tree', 'kd_tree', 'brute'], 'leaf_size': array([ 76,  39, 145,  42,  69, 190, 114,  74, 247, 128,  60, 214, 211,\n",
      "       202, 110]), 'p': [1, 2]}\n"
     ]
    }
   ],
   "source": [
    "print(ids)"
   ]
  },
  {
   "cell_type": "code",
   "execution_count": 32,
   "id": "ce4de610",
   "metadata": {},
   "outputs": [],
   "source": [
    "from sklearn.model_selection import RandomizedSearchCV\n"
   ]
  },
  {
   "cell_type": "code",
   "execution_count": 33,
   "id": "8f4ff8ab",
   "metadata": {},
   "outputs": [],
   "source": [
    "rcv= RandomizedSearchCV(knn, ids, n_iter = 200, cv=3)"
   ]
  },
  {
   "cell_type": "code",
   "execution_count": 34,
   "id": "ddc4f8a2",
   "metadata": {},
   "outputs": [
    {
     "data": {
      "text/plain": [
       "RandomizedSearchCV(cv=3, estimator=KNeighborsRegressor(), n_iter=200,\n",
       "                   param_distributions={'algorithm': ['ball_tree', 'kd_tree',\n",
       "                                                      'brute'],\n",
       "                                        'leaf_size': array([ 76,  39, 145,  42,  69, 190, 114,  74, 247, 128,  60, 214, 211,\n",
       "       202, 110]),\n",
       "                                        'n_neighbors': array([ 76,  39, 145,  42,  69, 190, 114,  74, 247, 128,  60, 214, 211,\n",
       "       202, 110]),\n",
       "                                        'p': [1, 2],\n",
       "                                        'weights': ['uniform', 'distance']})"
      ]
     },
     "execution_count": 34,
     "metadata": {},
     "output_type": "execute_result"
    }
   ],
   "source": [
    "rcv.fit(xtrain,ytrain)"
   ]
  },
  {
   "cell_type": "code",
   "execution_count": 35,
   "id": "a67ad17f",
   "metadata": {},
   "outputs": [
    {
     "data": {
      "text/html": [
       "<div>\n",
       "<style scoped>\n",
       "    .dataframe tbody tr th:only-of-type {\n",
       "        vertical-align: middle;\n",
       "    }\n",
       "\n",
       "    .dataframe tbody tr th {\n",
       "        vertical-align: top;\n",
       "    }\n",
       "\n",
       "    .dataframe thead th {\n",
       "        text-align: right;\n",
       "    }\n",
       "</style>\n",
       "<table border=\"1\" class=\"dataframe\">\n",
       "  <thead>\n",
       "    <tr style=\"text-align: right;\">\n",
       "      <th></th>\n",
       "      <th>mean_fit_time</th>\n",
       "      <th>std_fit_time</th>\n",
       "      <th>mean_score_time</th>\n",
       "      <th>std_score_time</th>\n",
       "      <th>param_weights</th>\n",
       "      <th>param_p</th>\n",
       "      <th>param_n_neighbors</th>\n",
       "      <th>param_leaf_size</th>\n",
       "      <th>param_algorithm</th>\n",
       "      <th>params</th>\n",
       "      <th>split0_test_score</th>\n",
       "      <th>split1_test_score</th>\n",
       "      <th>split2_test_score</th>\n",
       "      <th>mean_test_score</th>\n",
       "      <th>std_test_score</th>\n",
       "      <th>rank_test_score</th>\n",
       "    </tr>\n",
       "  </thead>\n",
       "  <tbody>\n",
       "    <tr>\n",
       "      <th>0</th>\n",
       "      <td>0.005205</td>\n",
       "      <td>0.007361</td>\n",
       "      <td>0.051206</td>\n",
       "      <td>0.003071</td>\n",
       "      <td>uniform</td>\n",
       "      <td>2</td>\n",
       "      <td>110</td>\n",
       "      <td>42</td>\n",
       "      <td>kd_tree</td>\n",
       "      <td>{'weights': 'uniform', 'p': 2, 'n_neighbors': ...</td>\n",
       "      <td>0.899345</td>\n",
       "      <td>0.889502</td>\n",
       "      <td>0.902863</td>\n",
       "      <td>0.897237</td>\n",
       "      <td>0.005655</td>\n",
       "      <td>40</td>\n",
       "    </tr>\n",
       "    <tr>\n",
       "      <th>1</th>\n",
       "      <td>0.000000</td>\n",
       "      <td>0.000000</td>\n",
       "      <td>0.214334</td>\n",
       "      <td>0.002499</td>\n",
       "      <td>distance</td>\n",
       "      <td>1</td>\n",
       "      <td>214</td>\n",
       "      <td>114</td>\n",
       "      <td>ball_tree</td>\n",
       "      <td>{'weights': 'distance', 'p': 1, 'n_neighbors':...</td>\n",
       "      <td>0.888965</td>\n",
       "      <td>0.879822</td>\n",
       "      <td>0.893203</td>\n",
       "      <td>0.887330</td>\n",
       "      <td>0.005584</td>\n",
       "      <td>103</td>\n",
       "    </tr>\n",
       "    <tr>\n",
       "      <th>2</th>\n",
       "      <td>0.003355</td>\n",
       "      <td>0.003398</td>\n",
       "      <td>0.060552</td>\n",
       "      <td>0.000088</td>\n",
       "      <td>uniform</td>\n",
       "      <td>2</td>\n",
       "      <td>128</td>\n",
       "      <td>211</td>\n",
       "      <td>kd_tree</td>\n",
       "      <td>{'weights': 'uniform', 'p': 2, 'n_neighbors': ...</td>\n",
       "      <td>0.898539</td>\n",
       "      <td>0.888279</td>\n",
       "      <td>0.902733</td>\n",
       "      <td>0.896517</td>\n",
       "      <td>0.006072</td>\n",
       "      <td>54</td>\n",
       "    </tr>\n",
       "    <tr>\n",
       "      <th>3</th>\n",
       "      <td>0.000000</td>\n",
       "      <td>0.000000</td>\n",
       "      <td>0.295726</td>\n",
       "      <td>0.016113</td>\n",
       "      <td>distance</td>\n",
       "      <td>2</td>\n",
       "      <td>214</td>\n",
       "      <td>145</td>\n",
       "      <td>brute</td>\n",
       "      <td>{'weights': 'distance', 'p': 2, 'n_neighbors':...</td>\n",
       "      <td>0.888514</td>\n",
       "      <td>0.879423</td>\n",
       "      <td>0.893001</td>\n",
       "      <td>0.886980</td>\n",
       "      <td>0.005648</td>\n",
       "      <td>132</td>\n",
       "    </tr>\n",
       "    <tr>\n",
       "      <th>4</th>\n",
       "      <td>0.009442</td>\n",
       "      <td>0.000972</td>\n",
       "      <td>0.141777</td>\n",
       "      <td>0.000967</td>\n",
       "      <td>uniform</td>\n",
       "      <td>2</td>\n",
       "      <td>76</td>\n",
       "      <td>202</td>\n",
       "      <td>ball_tree</td>\n",
       "      <td>{'weights': 'uniform', 'p': 2, 'n_neighbors': ...</td>\n",
       "      <td>0.900253</td>\n",
       "      <td>0.891355</td>\n",
       "      <td>0.903876</td>\n",
       "      <td>0.898495</td>\n",
       "      <td>0.005261</td>\n",
       "      <td>36</td>\n",
       "    </tr>\n",
       "    <tr>\n",
       "      <th>...</th>\n",
       "      <td>...</td>\n",
       "      <td>...</td>\n",
       "      <td>...</td>\n",
       "      <td>...</td>\n",
       "      <td>...</td>\n",
       "      <td>...</td>\n",
       "      <td>...</td>\n",
       "      <td>...</td>\n",
       "      <td>...</td>\n",
       "      <td>...</td>\n",
       "      <td>...</td>\n",
       "      <td>...</td>\n",
       "      <td>...</td>\n",
       "      <td>...</td>\n",
       "      <td>...</td>\n",
       "      <td>...</td>\n",
       "    </tr>\n",
       "    <tr>\n",
       "      <th>195</th>\n",
       "      <td>0.006035</td>\n",
       "      <td>0.002814</td>\n",
       "      <td>0.078105</td>\n",
       "      <td>0.003743</td>\n",
       "      <td>distance</td>\n",
       "      <td>2</td>\n",
       "      <td>190</td>\n",
       "      <td>145</td>\n",
       "      <td>kd_tree</td>\n",
       "      <td>{'weights': 'distance', 'p': 2, 'n_neighbors':...</td>\n",
       "      <td>0.888599</td>\n",
       "      <td>0.879540</td>\n",
       "      <td>0.892869</td>\n",
       "      <td>0.887003</td>\n",
       "      <td>0.005558</td>\n",
       "      <td>123</td>\n",
       "    </tr>\n",
       "    <tr>\n",
       "      <th>196</th>\n",
       "      <td>0.006735</td>\n",
       "      <td>0.003415</td>\n",
       "      <td>0.141518</td>\n",
       "      <td>0.006573</td>\n",
       "      <td>distance</td>\n",
       "      <td>2</td>\n",
       "      <td>128</td>\n",
       "      <td>114</td>\n",
       "      <td>ball_tree</td>\n",
       "      <td>{'weights': 'distance', 'p': 2, 'n_neighbors':...</td>\n",
       "      <td>0.888518</td>\n",
       "      <td>0.879794</td>\n",
       "      <td>0.892055</td>\n",
       "      <td>0.886789</td>\n",
       "      <td>0.005153</td>\n",
       "      <td>144</td>\n",
       "    </tr>\n",
       "    <tr>\n",
       "      <th>197</th>\n",
       "      <td>0.006066</td>\n",
       "      <td>0.002836</td>\n",
       "      <td>0.172316</td>\n",
       "      <td>0.007443</td>\n",
       "      <td>distance</td>\n",
       "      <td>1</td>\n",
       "      <td>39</td>\n",
       "      <td>145</td>\n",
       "      <td>brute</td>\n",
       "      <td>{'weights': 'distance', 'p': 1, 'n_neighbors':...</td>\n",
       "      <td>0.885979</td>\n",
       "      <td>0.877686</td>\n",
       "      <td>0.888361</td>\n",
       "      <td>0.884009</td>\n",
       "      <td>0.004575</td>\n",
       "      <td>194</td>\n",
       "    </tr>\n",
       "    <tr>\n",
       "      <th>198</th>\n",
       "      <td>0.009390</td>\n",
       "      <td>0.000970</td>\n",
       "      <td>0.063893</td>\n",
       "      <td>0.003465</td>\n",
       "      <td>uniform</td>\n",
       "      <td>2</td>\n",
       "      <td>42</td>\n",
       "      <td>39</td>\n",
       "      <td>ball_tree</td>\n",
       "      <td>{'weights': 'uniform', 'p': 2, 'n_neighbors': ...</td>\n",
       "      <td>0.900540</td>\n",
       "      <td>0.892444</td>\n",
       "      <td>0.904252</td>\n",
       "      <td>0.899078</td>\n",
       "      <td>0.004930</td>\n",
       "      <td>14</td>\n",
       "    </tr>\n",
       "    <tr>\n",
       "      <th>199</th>\n",
       "      <td>0.000684</td>\n",
       "      <td>0.000968</td>\n",
       "      <td>0.218122</td>\n",
       "      <td>0.010380</td>\n",
       "      <td>distance</td>\n",
       "      <td>2</td>\n",
       "      <td>211</td>\n",
       "      <td>214</td>\n",
       "      <td>ball_tree</td>\n",
       "      <td>{'weights': 'distance', 'p': 2, 'n_neighbors':...</td>\n",
       "      <td>0.888521</td>\n",
       "      <td>0.879435</td>\n",
       "      <td>0.892974</td>\n",
       "      <td>0.886977</td>\n",
       "      <td>0.005634</td>\n",
       "      <td>135</td>\n",
       "    </tr>\n",
       "  </tbody>\n",
       "</table>\n",
       "<p>200 rows × 16 columns</p>\n",
       "</div>"
      ],
      "text/plain": [
       "     mean_fit_time  std_fit_time  mean_score_time  std_score_time  \\\n",
       "0         0.005205      0.007361         0.051206        0.003071   \n",
       "1         0.000000      0.000000         0.214334        0.002499   \n",
       "2         0.003355      0.003398         0.060552        0.000088   \n",
       "3         0.000000      0.000000         0.295726        0.016113   \n",
       "4         0.009442      0.000972         0.141777        0.000967   \n",
       "..             ...           ...              ...             ...   \n",
       "195       0.006035      0.002814         0.078105        0.003743   \n",
       "196       0.006735      0.003415         0.141518        0.006573   \n",
       "197       0.006066      0.002836         0.172316        0.007443   \n",
       "198       0.009390      0.000970         0.063893        0.003465   \n",
       "199       0.000684      0.000968         0.218122        0.010380   \n",
       "\n",
       "    param_weights param_p param_n_neighbors param_leaf_size param_algorithm  \\\n",
       "0         uniform       2               110              42         kd_tree   \n",
       "1        distance       1               214             114       ball_tree   \n",
       "2         uniform       2               128             211         kd_tree   \n",
       "3        distance       2               214             145           brute   \n",
       "4         uniform       2                76             202       ball_tree   \n",
       "..            ...     ...               ...             ...             ...   \n",
       "195      distance       2               190             145         kd_tree   \n",
       "196      distance       2               128             114       ball_tree   \n",
       "197      distance       1                39             145           brute   \n",
       "198       uniform       2                42              39       ball_tree   \n",
       "199      distance       2               211             214       ball_tree   \n",
       "\n",
       "                                                params  split0_test_score  \\\n",
       "0    {'weights': 'uniform', 'p': 2, 'n_neighbors': ...           0.899345   \n",
       "1    {'weights': 'distance', 'p': 1, 'n_neighbors':...           0.888965   \n",
       "2    {'weights': 'uniform', 'p': 2, 'n_neighbors': ...           0.898539   \n",
       "3    {'weights': 'distance', 'p': 2, 'n_neighbors':...           0.888514   \n",
       "4    {'weights': 'uniform', 'p': 2, 'n_neighbors': ...           0.900253   \n",
       "..                                                 ...                ...   \n",
       "195  {'weights': 'distance', 'p': 2, 'n_neighbors':...           0.888599   \n",
       "196  {'weights': 'distance', 'p': 2, 'n_neighbors':...           0.888518   \n",
       "197  {'weights': 'distance', 'p': 1, 'n_neighbors':...           0.885979   \n",
       "198  {'weights': 'uniform', 'p': 2, 'n_neighbors': ...           0.900540   \n",
       "199  {'weights': 'distance', 'p': 2, 'n_neighbors':...           0.888521   \n",
       "\n",
       "     split1_test_score  split2_test_score  mean_test_score  std_test_score  \\\n",
       "0             0.889502           0.902863         0.897237        0.005655   \n",
       "1             0.879822           0.893203         0.887330        0.005584   \n",
       "2             0.888279           0.902733         0.896517        0.006072   \n",
       "3             0.879423           0.893001         0.886980        0.005648   \n",
       "4             0.891355           0.903876         0.898495        0.005261   \n",
       "..                 ...                ...              ...             ...   \n",
       "195           0.879540           0.892869         0.887003        0.005558   \n",
       "196           0.879794           0.892055         0.886789        0.005153   \n",
       "197           0.877686           0.888361         0.884009        0.004575   \n",
       "198           0.892444           0.904252         0.899078        0.004930   \n",
       "199           0.879435           0.892974         0.886977        0.005634   \n",
       "\n",
       "     rank_test_score  \n",
       "0                 40  \n",
       "1                103  \n",
       "2                 54  \n",
       "3                132  \n",
       "4                 36  \n",
       "..               ...  \n",
       "195              123  \n",
       "196              144  \n",
       "197              194  \n",
       "198               14  \n",
       "199              135  \n",
       "\n",
       "[200 rows x 16 columns]"
      ]
     },
     "execution_count": 35,
     "metadata": {},
     "output_type": "execute_result"
    }
   ],
   "source": [
    "rcv_result = pd.DataFrame(rcv.cv_results_)\n",
    "rcv_result"
   ]
  },
  {
   "cell_type": "code",
   "execution_count": 36,
   "id": "8b9b44df",
   "metadata": {},
   "outputs": [
    {
     "data": {
      "text/plain": [
       "0.8991398208548006"
      ]
     },
     "execution_count": 36,
     "metadata": {},
     "output_type": "execute_result"
    }
   ],
   "source": [
    "rcv.best_score_"
   ]
  },
  {
   "cell_type": "code",
   "execution_count": 37,
   "id": "8d15ebd7",
   "metadata": {},
   "outputs": [
    {
     "data": {
      "text/plain": [
       "{'weights': 'uniform',\n",
       " 'p': 1,\n",
       " 'n_neighbors': 42,\n",
       " 'leaf_size': 69,\n",
       " 'algorithm': 'brute'}"
      ]
     },
     "execution_count": 37,
     "metadata": {},
     "output_type": "execute_result"
    }
   ],
   "source": [
    "rcv.best_params_"
   ]
  },
  {
   "cell_type": "code",
   "execution_count": 38,
   "id": "dbf949cb",
   "metadata": {},
   "outputs": [
    {
     "data": {
      "text/plain": [
       "KNeighborsRegressor(algorithm='brute', leaf_size=69, n_neighbors=42, p=1)"
      ]
     },
     "execution_count": 38,
     "metadata": {},
     "output_type": "execute_result"
    }
   ],
   "source": [
    "rcv.best_estimator_"
   ]
  },
  {
   "cell_type": "code",
   "execution_count": 39,
   "id": "abe57945",
   "metadata": {},
   "outputs": [
    {
     "data": {
      "text/plain": [
       "KNeighborsRegressor(algorithm='brute', leaf_size=69, n_neighbors=42, p=1)"
      ]
     },
     "execution_count": 39,
     "metadata": {},
     "output_type": "execute_result"
    }
   ],
   "source": [
    "knn_new = rcv.best_estimator_\n",
    "knn_new"
   ]
  },
  {
   "cell_type": "code",
   "execution_count": 40,
   "id": "cf61f0e7",
   "metadata": {},
   "outputs": [
    {
     "data": {
      "text/plain": [
       "KNeighborsRegressor(algorithm='brute', leaf_size=69, n_neighbors=42, p=1)"
      ]
     },
     "execution_count": 40,
     "metadata": {},
     "output_type": "execute_result"
    }
   ],
   "source": [
    "knn_new.fit(xtrain,ytrain)"
   ]
  },
  {
   "cell_type": "code",
   "execution_count": 41,
   "id": "896d5910",
   "metadata": {},
   "outputs": [
    {
     "data": {
      "text/plain": [
       "0.8987042261427017"
      ]
     },
     "execution_count": 41,
     "metadata": {},
     "output_type": "execute_result"
    }
   ],
   "source": [
    "knn_new.score(xtest, ytest)"
   ]
  },
  {
   "cell_type": "code",
   "execution_count": 42,
   "id": "7b9d55b9",
   "metadata": {},
   "outputs": [],
   "source": [
    "k_score_new = knn_new.score(xtest, ytest)\n",
    "pred_k = knn_new.predict(xtest)\n",
    "mse_k_new = mean_squared_error(ytest, pred_k)\n",
    "pred_k1 = knn_new.predict(xtest)\n",
    "mae_k_new = mean_absolute_error(ytest, pred_k1)\n",
    "knnr_new = pd.DataFrame([k_score_new, mse_k_new, mae_k_new],  columns=['Randomized Search CV'] )"
   ]
  },
  {
   "cell_type": "markdown",
   "id": "c85065e5",
   "metadata": {},
   "source": [
    "# Compare with Old KNN model and Linear regression"
   ]
  },
  {
   "cell_type": "code",
   "execution_count": 43,
   "id": "734c4cdf",
   "metadata": {
    "scrolled": true
   },
   "outputs": [
    {
     "data": {
      "text/html": [
       "<div>\n",
       "<style scoped>\n",
       "    .dataframe tbody tr th:only-of-type {\n",
       "        vertical-align: middle;\n",
       "    }\n",
       "\n",
       "    .dataframe tbody tr th {\n",
       "        vertical-align: top;\n",
       "    }\n",
       "\n",
       "    .dataframe thead th {\n",
       "        text-align: right;\n",
       "    }\n",
       "</style>\n",
       "<table border=\"1\" class=\"dataframe\">\n",
       "  <thead>\n",
       "    <tr style=\"text-align: right;\">\n",
       "      <th></th>\n",
       "      <th></th>\n",
       "      <th>KNN Regressor</th>\n",
       "      <th>Linear Regression</th>\n",
       "      <th>Randomized Search CV</th>\n",
       "    </tr>\n",
       "  </thead>\n",
       "  <tbody>\n",
       "    <tr>\n",
       "      <th>0</th>\n",
       "      <td>Score</td>\n",
       "      <td>0.902440</td>\n",
       "      <td>0.884897</td>\n",
       "      <td>0.898704</td>\n",
       "    </tr>\n",
       "    <tr>\n",
       "      <th>1</th>\n",
       "      <td>Mean squared error</td>\n",
       "      <td>101.742683</td>\n",
       "      <td>120.038834</td>\n",
       "      <td>105.639111</td>\n",
       "    </tr>\n",
       "    <tr>\n",
       "      <th>2</th>\n",
       "      <td>Mean absolute error</td>\n",
       "      <td>8.025722</td>\n",
       "      <td>8.744647</td>\n",
       "      <td>8.181778</td>\n",
       "    </tr>\n",
       "  </tbody>\n",
       "</table>\n",
       "</div>"
      ],
      "text/plain": [
       "                        KNN Regressor  Linear Regression  Randomized Search CV\n",
       "0                Score       0.902440           0.884897              0.898704\n",
       "1   Mean squared error     101.742683         120.038834            105.639111\n",
       "2  Mean absolute error       8.025722           8.744647              8.181778"
      ]
     },
     "execution_count": 43,
     "metadata": {},
     "output_type": "execute_result"
    }
   ],
   "source": [
    "table_new = pd.concat([Algorithms, lrr, knnr, knnr_new ], axis=1)\n",
    "table_new"
   ]
  },
  {
   "cell_type": "markdown",
   "id": "ddf1195e",
   "metadata": {},
   "source": [
    "# KNN Classifier"
   ]
  },
  {
   "cell_type": "code",
   "execution_count": 44,
   "id": "9c176a31",
   "metadata": {},
   "outputs": [],
   "source": [
    "wh = pd.read_csv('weight-height.csv')"
   ]
  },
  {
   "cell_type": "code",
   "execution_count": 45,
   "id": "48be2d4b",
   "metadata": {},
   "outputs": [
    {
     "data": {
      "text/html": [
       "<div>\n",
       "<style scoped>\n",
       "    .dataframe tbody tr th:only-of-type {\n",
       "        vertical-align: middle;\n",
       "    }\n",
       "\n",
       "    .dataframe tbody tr th {\n",
       "        vertical-align: top;\n",
       "    }\n",
       "\n",
       "    .dataframe thead th {\n",
       "        text-align: right;\n",
       "    }\n",
       "</style>\n",
       "<table border=\"1\" class=\"dataframe\">\n",
       "  <thead>\n",
       "    <tr style=\"text-align: right;\">\n",
       "      <th></th>\n",
       "      <th>Gender</th>\n",
       "      <th>Height</th>\n",
       "      <th>Weight</th>\n",
       "    </tr>\n",
       "  </thead>\n",
       "  <tbody>\n",
       "    <tr>\n",
       "      <th>0</th>\n",
       "      <td>Male</td>\n",
       "      <td>73.847017</td>\n",
       "      <td>241.893563</td>\n",
       "    </tr>\n",
       "    <tr>\n",
       "      <th>1</th>\n",
       "      <td>Male</td>\n",
       "      <td>68.781904</td>\n",
       "      <td>162.310473</td>\n",
       "    </tr>\n",
       "    <tr>\n",
       "      <th>2</th>\n",
       "      <td>Male</td>\n",
       "      <td>74.110105</td>\n",
       "      <td>212.740856</td>\n",
       "    </tr>\n",
       "    <tr>\n",
       "      <th>3</th>\n",
       "      <td>Male</td>\n",
       "      <td>71.730978</td>\n",
       "      <td>220.042470</td>\n",
       "    </tr>\n",
       "    <tr>\n",
       "      <th>4</th>\n",
       "      <td>Male</td>\n",
       "      <td>69.881796</td>\n",
       "      <td>206.349801</td>\n",
       "    </tr>\n",
       "  </tbody>\n",
       "</table>\n",
       "</div>"
      ],
      "text/plain": [
       "  Gender     Height      Weight\n",
       "0   Male  73.847017  241.893563\n",
       "1   Male  68.781904  162.310473\n",
       "2   Male  74.110105  212.740856\n",
       "3   Male  71.730978  220.042470\n",
       "4   Male  69.881796  206.349801"
      ]
     },
     "execution_count": 45,
     "metadata": {},
     "output_type": "execute_result"
    }
   ],
   "source": [
    "wh.head()"
   ]
  },
  {
   "cell_type": "code",
   "execution_count": 46,
   "id": "f6cf4e55",
   "metadata": {},
   "outputs": [],
   "source": [
    "wh['Gender'] = lb.fit_transform(wh['Gender'])"
   ]
  },
  {
   "cell_type": "code",
   "execution_count": 47,
   "id": "446739cc",
   "metadata": {},
   "outputs": [
    {
     "data": {
      "text/html": [
       "<div>\n",
       "<style scoped>\n",
       "    .dataframe tbody tr th:only-of-type {\n",
       "        vertical-align: middle;\n",
       "    }\n",
       "\n",
       "    .dataframe tbody tr th {\n",
       "        vertical-align: top;\n",
       "    }\n",
       "\n",
       "    .dataframe thead th {\n",
       "        text-align: right;\n",
       "    }\n",
       "</style>\n",
       "<table border=\"1\" class=\"dataframe\">\n",
       "  <thead>\n",
       "    <tr style=\"text-align: right;\">\n",
       "      <th></th>\n",
       "      <th>Gender</th>\n",
       "      <th>Height</th>\n",
       "      <th>Weight</th>\n",
       "    </tr>\n",
       "  </thead>\n",
       "  <tbody>\n",
       "    <tr>\n",
       "      <th>0</th>\n",
       "      <td>1</td>\n",
       "      <td>73.847017</td>\n",
       "      <td>241.893563</td>\n",
       "    </tr>\n",
       "    <tr>\n",
       "      <th>1</th>\n",
       "      <td>1</td>\n",
       "      <td>68.781904</td>\n",
       "      <td>162.310473</td>\n",
       "    </tr>\n",
       "    <tr>\n",
       "      <th>2</th>\n",
       "      <td>1</td>\n",
       "      <td>74.110105</td>\n",
       "      <td>212.740856</td>\n",
       "    </tr>\n",
       "    <tr>\n",
       "      <th>3</th>\n",
       "      <td>1</td>\n",
       "      <td>71.730978</td>\n",
       "      <td>220.042470</td>\n",
       "    </tr>\n",
       "    <tr>\n",
       "      <th>4</th>\n",
       "      <td>1</td>\n",
       "      <td>69.881796</td>\n",
       "      <td>206.349801</td>\n",
       "    </tr>\n",
       "    <tr>\n",
       "      <th>...</th>\n",
       "      <td>...</td>\n",
       "      <td>...</td>\n",
       "      <td>...</td>\n",
       "    </tr>\n",
       "    <tr>\n",
       "      <th>9995</th>\n",
       "      <td>0</td>\n",
       "      <td>66.172652</td>\n",
       "      <td>136.777454</td>\n",
       "    </tr>\n",
       "    <tr>\n",
       "      <th>9996</th>\n",
       "      <td>0</td>\n",
       "      <td>67.067155</td>\n",
       "      <td>170.867906</td>\n",
       "    </tr>\n",
       "    <tr>\n",
       "      <th>9997</th>\n",
       "      <td>0</td>\n",
       "      <td>63.867992</td>\n",
       "      <td>128.475319</td>\n",
       "    </tr>\n",
       "    <tr>\n",
       "      <th>9998</th>\n",
       "      <td>0</td>\n",
       "      <td>69.034243</td>\n",
       "      <td>163.852461</td>\n",
       "    </tr>\n",
       "    <tr>\n",
       "      <th>9999</th>\n",
       "      <td>0</td>\n",
       "      <td>61.944246</td>\n",
       "      <td>113.649103</td>\n",
       "    </tr>\n",
       "  </tbody>\n",
       "</table>\n",
       "<p>10000 rows × 3 columns</p>\n",
       "</div>"
      ],
      "text/plain": [
       "      Gender     Height      Weight\n",
       "0          1  73.847017  241.893563\n",
       "1          1  68.781904  162.310473\n",
       "2          1  74.110105  212.740856\n",
       "3          1  71.730978  220.042470\n",
       "4          1  69.881796  206.349801\n",
       "...      ...        ...         ...\n",
       "9995       0  66.172652  136.777454\n",
       "9996       0  67.067155  170.867906\n",
       "9997       0  63.867992  128.475319\n",
       "9998       0  69.034243  163.852461\n",
       "9999       0  61.944246  113.649103\n",
       "\n",
       "[10000 rows x 3 columns]"
      ]
     },
     "execution_count": 47,
     "metadata": {},
     "output_type": "execute_result"
    }
   ],
   "source": [
    "wh"
   ]
  },
  {
   "cell_type": "code",
   "execution_count": 48,
   "id": "5dcc7e2a",
   "metadata": {},
   "outputs": [],
   "source": [
    "xx = wh.drop('Gender', axis=1)\n",
    "yy = wh['Gender']"
   ]
  },
  {
   "cell_type": "code",
   "execution_count": 49,
   "id": "d21e2244",
   "metadata": {},
   "outputs": [
    {
     "data": {
      "text/html": [
       "<div>\n",
       "<style scoped>\n",
       "    .dataframe tbody tr th:only-of-type {\n",
       "        vertical-align: middle;\n",
       "    }\n",
       "\n",
       "    .dataframe tbody tr th {\n",
       "        vertical-align: top;\n",
       "    }\n",
       "\n",
       "    .dataframe thead th {\n",
       "        text-align: right;\n",
       "    }\n",
       "</style>\n",
       "<table border=\"1\" class=\"dataframe\">\n",
       "  <thead>\n",
       "    <tr style=\"text-align: right;\">\n",
       "      <th></th>\n",
       "      <th>Height</th>\n",
       "      <th>Weight</th>\n",
       "    </tr>\n",
       "  </thead>\n",
       "  <tbody>\n",
       "    <tr>\n",
       "      <th>0</th>\n",
       "      <td>73.847017</td>\n",
       "      <td>241.893563</td>\n",
       "    </tr>\n",
       "    <tr>\n",
       "      <th>1</th>\n",
       "      <td>68.781904</td>\n",
       "      <td>162.310473</td>\n",
       "    </tr>\n",
       "    <tr>\n",
       "      <th>2</th>\n",
       "      <td>74.110105</td>\n",
       "      <td>212.740856</td>\n",
       "    </tr>\n",
       "    <tr>\n",
       "      <th>3</th>\n",
       "      <td>71.730978</td>\n",
       "      <td>220.042470</td>\n",
       "    </tr>\n",
       "    <tr>\n",
       "      <th>4</th>\n",
       "      <td>69.881796</td>\n",
       "      <td>206.349801</td>\n",
       "    </tr>\n",
       "  </tbody>\n",
       "</table>\n",
       "</div>"
      ],
      "text/plain": [
       "      Height      Weight\n",
       "0  73.847017  241.893563\n",
       "1  68.781904  162.310473\n",
       "2  74.110105  212.740856\n",
       "3  71.730978  220.042470\n",
       "4  69.881796  206.349801"
      ]
     },
     "execution_count": 49,
     "metadata": {},
     "output_type": "execute_result"
    }
   ],
   "source": [
    "xx.head()"
   ]
  },
  {
   "cell_type": "code",
   "execution_count": 50,
   "id": "6957ed48",
   "metadata": {},
   "outputs": [
    {
     "data": {
      "text/plain": [
       "0    1\n",
       "1    1\n",
       "2    1\n",
       "3    1\n",
       "4    1\n",
       "Name: Gender, dtype: int32"
      ]
     },
     "execution_count": 50,
     "metadata": {},
     "output_type": "execute_result"
    }
   ],
   "source": [
    "yy.head()"
   ]
  },
  {
   "cell_type": "code",
   "execution_count": 51,
   "id": "dbea4dfa",
   "metadata": {},
   "outputs": [],
   "source": [
    "xxtrain, xxtest, yytrain, yytest = tts(xx, yy, test_size=0.30, random_state=3)"
   ]
  },
  {
   "cell_type": "code",
   "execution_count": 52,
   "id": "22c8942c",
   "metadata": {},
   "outputs": [],
   "source": [
    "from sklearn.neighbors import KNeighborsClassifier\n",
    "knn_clf= KNeighborsClassifier(n_neighbors=9)"
   ]
  },
  {
   "cell_type": "code",
   "execution_count": 53,
   "id": "2ea8aea9",
   "metadata": {},
   "outputs": [
    {
     "data": {
      "text/plain": [
       "KNeighborsClassifier(n_neighbors=9)"
      ]
     },
     "execution_count": 53,
     "metadata": {},
     "output_type": "execute_result"
    }
   ],
   "source": [
    "knn_clf.fit(xxtrain, yytrain)"
   ]
  },
  {
   "cell_type": "code",
   "execution_count": 54,
   "id": "5ecdf48f",
   "metadata": {},
   "outputs": [
    {
     "data": {
      "text/plain": [
       "0.914"
      ]
     },
     "execution_count": 54,
     "metadata": {},
     "output_type": "execute_result"
    }
   ],
   "source": [
    "knn_clf.score(xxtest, yytest)"
   ]
  },
  {
   "cell_type": "markdown",
   "id": "6d316097",
   "metadata": {},
   "source": [
    "# Confusion matrix, ROC curve, AUC"
   ]
  },
  {
   "cell_type": "code",
   "execution_count": 55,
   "id": "04255df1",
   "metadata": {},
   "outputs": [],
   "source": [
    "from sklearn.metrics import classification_report, confusion_matrix, roc_curve, plot_roc_curve"
   ]
  },
  {
   "cell_type": "code",
   "execution_count": 56,
   "id": "1faccc9b",
   "metadata": {},
   "outputs": [],
   "source": [
    "pred_new = knn_clf.predict(xxtest)"
   ]
  },
  {
   "cell_type": "code",
   "execution_count": 57,
   "id": "56866c09",
   "metadata": {},
   "outputs": [
    {
     "name": "stdout",
     "output_type": "stream",
     "text": [
      "              precision    recall  f1-score   support\n",
      "\n",
      "           0       0.91      0.92      0.91      1507\n",
      "           1       0.92      0.91      0.91      1493\n",
      "\n",
      "    accuracy                           0.91      3000\n",
      "   macro avg       0.91      0.91      0.91      3000\n",
      "weighted avg       0.91      0.91      0.91      3000\n",
      "\n"
     ]
    }
   ],
   "source": [
    "print(classification_report(yytest, pred_new))"
   ]
  },
  {
   "cell_type": "code",
   "execution_count": 58,
   "id": "bfaa15f3",
   "metadata": {},
   "outputs": [
    {
     "data": {
      "text/plain": [
       "array([[1381,  126],\n",
       "       [ 132, 1361]], dtype=int64)"
      ]
     },
     "execution_count": 58,
     "metadata": {},
     "output_type": "execute_result"
    }
   ],
   "source": [
    "confusion_matrix(yytest,pred_new)\n"
   ]
  },
  {
   "cell_type": "code",
   "execution_count": 59,
   "id": "ec9fc6a7",
   "metadata": {},
   "outputs": [
    {
     "data": {
      "text/plain": [
       "[<matplotlib.lines.Line2D at 0x1e828f7f8b0>]"
      ]
     },
     "execution_count": 59,
     "metadata": {},
     "output_type": "execute_result"
    },
    {
     "data": {
      "image/png": "[encoded data removed]",
      "text/plain": [
       "<Figure size 432x288 with 1 Axes>"
      ]
     },
     "metadata": {
      "needs_background": "light"
     },
     "output_type": "display_data"
    }
   ],
   "source": [
    "import matplotlib.pyplot as plt\n",
    "plot_roc_curve(knn_clf, xxtest, yytest)\n",
    "plt.plot([0,1],[0,1])"
   ]
  },
  {
   "cell_type": "code",
   "execution_count": null,
   "id": "fc76b293",
   "metadata": {},
   "outputs": [],
   "source": []
  }
 ],
 "metadata": {
  "kernelspec": {
   "display_name": "Python 3",
   "language": "python",
   "name": "python3"
  },
  "language_info": {
   "codemirror_mode": {
    "name": "ipython",
    "version": 3
   },
   "file_extension": ".py",
   "mimetype": "text/x-python",
   "name": "python",
   "nbconvert_exporter": "python",
   "pygments_lexer": "ipython3",
   "version": "3.8.8"
  }
 },
 "nbformat": 4,
 "nbformat_minor": 5
}
